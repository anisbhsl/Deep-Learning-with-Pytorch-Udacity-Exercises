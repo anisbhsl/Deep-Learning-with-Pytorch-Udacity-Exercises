{
 "cells": [
  {
   "cell_type": "markdown",
   "metadata": {},
   "source": [
    "## Sentiment Analysis Using Logistic Regression\n",
    "\n"
   ]
  },
  {
   "cell_type": "code",
   "execution_count": 1,
   "metadata": {},
   "outputs": [],
   "source": [
    "#load necessary libraries\n",
    "import pandas as pd\n",
    "import numpy as np\n",
    "import matplotlib.pyplot as plt\n",
    "%matplotlib inline"
   ]
  },
  {
   "cell_type": "code",
   "execution_count": 16,
   "metadata": {},
   "outputs": [
    {
     "data": {
      "text/html": [
       "<div>\n",
       "<style scoped>\n",
       "    .dataframe tbody tr th:only-of-type {\n",
       "        vertical-align: middle;\n",
       "    }\n",
       "\n",
       "    .dataframe tbody tr th {\n",
       "        vertical-align: top;\n",
       "    }\n",
       "\n",
       "    .dataframe thead th {\n",
       "        text-align: right;\n",
       "    }\n",
       "</style>\n",
       "<table border=\"1\" class=\"dataframe\">\n",
       "  <thead>\n",
       "    <tr style=\"text-align: right;\">\n",
       "      <th></th>\n",
       "      <th>Phrase</th>\n",
       "      <th>label</th>\n",
       "    </tr>\n",
       "  </thead>\n",
       "  <tbody>\n",
       "    <tr>\n",
       "      <th>0</th>\n",
       "      <td>Spider-man is better than any summer blockbust...</td>\n",
       "      <td>Positive</td>\n",
       "    </tr>\n",
       "    <tr>\n",
       "      <th>1</th>\n",
       "      <td>of good sense</td>\n",
       "      <td>Positive</td>\n",
       "    </tr>\n",
       "    <tr>\n",
       "      <th>2</th>\n",
       "      <td>, then knock yourself out and enjoy the big sc...</td>\n",
       "      <td>Negative</td>\n",
       "    </tr>\n",
       "    <tr>\n",
       "      <th>3</th>\n",
       "      <td>So could young romantics out on a date .</td>\n",
       "      <td>Positive</td>\n",
       "    </tr>\n",
       "    <tr>\n",
       "      <th>4</th>\n",
       "      <td>humour</td>\n",
       "      <td>Positive</td>\n",
       "    </tr>\n",
       "  </tbody>\n",
       "</table>\n",
       "</div>"
      ],
      "text/plain": [
       "                                              Phrase     label\n",
       "0  Spider-man is better than any summer blockbust...  Positive\n",
       "1                                      of good sense  Positive\n",
       "2  , then knock yourself out and enjoy the big sc...  Negative\n",
       "3           So could young romantics out on a date .  Positive\n",
       "4                                             humour  Positive"
      ]
     },
     "execution_count": 16,
     "metadata": {},
     "output_type": "execute_result"
    }
   ],
   "source": [
    "#Read Dataset\n",
    "df=pd.read_csv(\"sentiment.csv\")\n",
    "df.head()"
   ]
  },
  {
   "cell_type": "code",
   "execution_count": 3,
   "metadata": {},
   "outputs": [
    {
     "data": {
      "text/plain": [
       "(2800, 2)"
      ]
     },
     "execution_count": 3,
     "metadata": {},
     "output_type": "execute_result"
    }
   ],
   "source": [
    "df.shape"
   ]
  },
  {
   "cell_type": "markdown",
   "metadata": {},
   "source": [
    "This dataset has 2800 rows and 2 columns. "
   ]
  },
  {
   "cell_type": "code",
   "execution_count": 3,
   "metadata": {},
   "outputs": [
    {
     "data": {
      "text/plain": [
       "1800"
      ]
     },
     "execution_count": 3,
     "metadata": {},
     "output_type": "execute_result"
    }
   ],
   "source": [
    "len(df[df['label']=='Positive']) #total number of positive class"
   ]
  },
  {
   "cell_type": "code",
   "execution_count": 4,
   "metadata": {},
   "outputs": [
    {
     "data": {
      "text/plain": [
       "1000"
      ]
     },
     "execution_count": 4,
     "metadata": {},
     "output_type": "execute_result"
    }
   ],
   "source": [
    "len(df[df['label']=='Negative']) #total number of negative class"
   ]
  },
  {
   "cell_type": "code",
   "execution_count": 15,
   "metadata": {},
   "outputs": [
    {
     "data": {
      "text/plain": [
       "<matplotlib.legend.Legend at 0x7fa8a838d7f0>"
      ]
     },
     "execution_count": 15,
     "metadata": {},
     "output_type": "execute_result"
    },
    {
     "data": {
      "image/png": "[encoded data removed]",
      "text/plain": [
       "<Figure size 432x288 with 1 Axes>"
      ]
     },
     "metadata": {},
     "output_type": "display_data"
    }
   ],
   "source": [
    "plt.pie(x=[len(df[df['label']=='Positive']),len(df[df['label']=='Negative'])],labels=[\"Positive Class\",\"Negative Class\"])\n",
    "plt.legend()"
   ]
  },
  {
   "cell_type": "markdown",
   "metadata": {},
   "source": [
    "The number of positive class is quite larger than number of negative class examples. "
   ]
  },
  {
   "cell_type": "markdown",
   "metadata": {},
   "source": [
    "## Vectorization of Phrase"
   ]
  },
  {
   "cell_type": "code",
   "execution_count": 17,
   "metadata": {},
   "outputs": [
    {
     "name": "stdout",
     "output_type": "stream",
     "text": [
      "total=> 2800 train_len=> 1680 val_len=> 560 test_len =>560\n"
     ]
    }
   ],
   "source": [
    "total_len=len(df)\n",
    "train_len=int(0.6*total_len)\n",
    "val_len=int(0.2*total_len)\n",
    "test_len=int(0.2*total_len)\n",
    "print(\"total=> {} train_len=> {} val_len=> {} test_len =>{}\".format(total_len,train_len,val_len,test_len))"
   ]
  },
  {
   "cell_type": "markdown",
   "metadata": {},
   "source": [
    "**Split dataset into train, val and test set**"
   ]
  },
  {
   "cell_type": "code",
   "execution_count": 18,
   "metadata": {},
   "outputs": [],
   "source": [
    "train_df=df[0:train_len]\n",
    "val_df=df[train_len:train_len+val_len]\n",
    "test_df=df[train_len+val_len:]"
   ]
  },
  {
   "cell_type": "code",
   "execution_count": 19,
   "metadata": {},
   "outputs": [
    {
     "name": "stdout",
     "output_type": "stream",
     "text": [
      "Length of train dataset, validation dataset and test dataset\n",
      "train_df_len=> 1680 val_df_len=> 560 test_df_len =>560\n"
     ]
    }
   ],
   "source": [
    "print(\"Length of train dataset, validation dataset and test dataset\")\n",
    "print(\"train_df_len=> {} val_df_len=> {} test_df_len =>{}\".format(len(train_df),len(val_df),len(test_df)))"
   ]
  },
  {
   "cell_type": "code",
   "execution_count": 20,
   "metadata": {},
   "outputs": [],
   "source": [
    "vocab=list()\n",
    "#create a corpus of vocab\n",
    "for i in train_df.Phrase.tolist():\n",
    "    vocab.extend(i.split(\" \"))\n",
    "    \n",
    "#take unique words from vocab   \n",
    "unique_vocab=list(set(vocab)) #set can't be indexed so change it to list for simplicity    "
   ]
  },
  {
   "cell_type": "code",
   "execution_count": 9,
   "metadata": {},
   "outputs": [
    {
     "name": "stdout",
     "output_type": "stream",
     "text": [
      "Vocab Length => 13855 Unique Vocab Length => 1844\n"
     ]
    }
   ],
   "source": [
    "print(\"Vocab Length => {} Unique Vocab Length => {}\".format(len(vocab),len(unique_vocab)))"
   ]
  },
  {
   "cell_type": "markdown",
   "metadata": {},
   "source": [
    "## Feature_Extraction"
   ]
  },
  {
   "cell_type": "code",
   "execution_count": 21,
   "metadata": {},
   "outputs": [],
   "source": [
    "def extract_feature(unique_vocab,dataset):\n",
    "\n",
    "    feature=[]\n",
    "    label=[]\n",
    "    for index,row in dataset.iterrows():\n",
    "        words=row[\"Phrase\"].split(\" \") \n",
    "        f=[]\n",
    "        for v in unique_vocab:\n",
    "            if v in words:\n",
    "                f.append(1)\n",
    "            else:\n",
    "                f.append(0)\n",
    "                \n",
    "        if row[\"label\"]==\"Positive\":\n",
    "            label.append(1)\n",
    "        elif row[\"label\"]==\"Negative\":\n",
    "            label.append(0)\n",
    "\n",
    "        feature.append(f)\n",
    "    \n",
    "    #change features and label list into numpy array\n",
    "    feature=np.array(feature)\n",
    "    label=np.array(label) \n",
    "    #change label into 2D\n",
    "    label=label.reshape(-1,1)\n",
    "    print(feature)\n",
    "    \n",
    "    return feature,label "
   ]
  },
  {
   "cell_type": "markdown",
   "metadata": {},
   "source": [
    "**create train, val and test set feature and labels**"
   ]
  },
  {
   "cell_type": "code",
   "execution_count": 22,
   "metadata": {},
   "outputs": [
    {
     "name": "stdout",
     "output_type": "stream",
     "text": [
      "[[0 0 0 ... 0 0 0]\n",
      " [0 0 0 ... 0 0 0]\n",
      " [0 0 0 ... 0 0 0]\n",
      " ...\n",
      " [0 0 0 ... 0 0 0]\n",
      " [0 0 0 ... 0 1 0]\n",
      " [0 0 0 ... 0 0 0]]\n",
      "[[0 0 0 ... 0 0 0]\n",
      " [0 0 0 ... 0 0 0]\n",
      " [0 0 0 ... 0 0 0]\n",
      " ...\n",
      " [0 0 0 ... 0 0 0]\n",
      " [0 0 0 ... 0 0 0]\n",
      " [0 0 0 ... 0 0 0]]\n",
      "[[0 0 0 ... 0 0 0]\n",
      " [0 0 0 ... 0 0 0]\n",
      " [0 0 0 ... 0 0 0]\n",
      " ...\n",
      " [0 0 0 ... 0 0 0]\n",
      " [0 0 0 ... 0 0 0]\n",
      " [0 0 0 ... 1 0 0]]\n"
     ]
    }
   ],
   "source": [
    "X_train,y_train=extract_feature(unique_vocab,train_df)\n",
    "X_val,y_val=extract_feature(unique_vocab,val_df)\n",
    "X_test,y_test=extract_feature(unique_vocab,test_df)"
   ]
  },
  {
   "cell_type": "code",
   "execution_count": 23,
   "metadata": {},
   "outputs": [
    {
     "data": {
      "text/plain": [
       "(1680, 1844)"
      ]
     },
     "execution_count": 23,
     "metadata": {},
     "output_type": "execute_result"
    }
   ],
   "source": [
    "X_train.shape"
   ]
  },
  {
   "cell_type": "markdown",
   "metadata": {},
   "source": [
    "**Add bias to X**"
   ]
  },
  {
   "cell_type": "code",
   "execution_count": 24,
   "metadata": {},
   "outputs": [],
   "source": [
    "X_train=np.insert(X_train,0,values=1,axis=1)\n",
    "X_val=np.insert(X_val,0,values=1,axis=1)\n",
    "X_test=np.insert(X_test,0,values=1,axis=1)"
   ]
  },
  {
   "cell_type": "code",
   "execution_count": 25,
   "metadata": {},
   "outputs": [
    {
     "data": {
      "text/plain": [
       "array([[1, 0, 0, ..., 0, 0, 0],\n",
       "       [1, 0, 0, ..., 0, 0, 0],\n",
       "       [1, 0, 0, ..., 0, 0, 0],\n",
       "       ...,\n",
       "       [1, 0, 0, ..., 0, 0, 0],\n",
       "       [1, 0, 0, ..., 0, 0, 0],\n",
       "       [1, 0, 0, ..., 0, 0, 0]])"
      ]
     },
     "execution_count": 25,
     "metadata": {},
     "output_type": "execute_result"
    }
   ],
   "source": [
    "X_val"
   ]
  },
  {
   "cell_type": "markdown",
   "metadata": {},
   "source": [
    "## Build Model"
   ]
  },
  {
   "cell_type": "code",
   "execution_count": 37,
   "metadata": {},
   "outputs": [],
   "source": [
    "np.random.seed(42)\n",
    "params={\n",
    "    \"num_of_iterations\": 1000,\n",
    "    \"learning_rate\": 0.0001\n",
    "}\n",
    "\n",
    "grid_param={\n",
    "    \"num_of_iteration\":[1000,1500,2000],\n",
    "    \"learning_rate\":[0.001,0.1,0.01]\n",
    "}"
   ]
  },
  {
   "cell_type": "code",
   "execution_count": 38,
   "metadata": {},
   "outputs": [],
   "source": [
    "#Binary Cross Entropy Loss\n",
    "def bce_loss(h,y):\n",
    "    m=len(h)\n",
    "    return -np.average(y*np.log(h)+(1-y)*np.log(1-h))"
   ]
  },
  {
   "cell_type": "code",
   "execution_count": 39,
   "metadata": {},
   "outputs": [],
   "source": [
    "#Sigmoid function\n",
    "def sigmoid(x):\n",
    "    return 1/(1+np.exp(-x))\n",
    "    "
   ]
  },
  {
   "cell_type": "code",
   "execution_count": 40,
   "metadata": {},
   "outputs": [],
   "source": [
    "#train model \n",
    "def train_model(X_train,y_train, X_val, y_val, param):\n",
    "    W=np.random.rand(X_train.shape[1]).reshape(-1,1)\n",
    "    train_error=[]\n",
    "    for i in range(1,param[\"num_of_iterations\"]):\n",
    "        h_train=sigmoid(np.matmul(X_train,W))\n",
    "        train_loss=bce_loss(h_train,y_train)\n",
    "        \n",
    "        train_error.append(train_loss)\n",
    "        \n",
    "        gradient=(np.matmul(np.transpose(X_train),(h_train-y_train)))/X_train.shape[0]\n",
    "        W-=params[\"learning_rate\"]*gradient\n",
    "        \n",
    "    h_val=sigmoid(np.matmul(X_val,W))\n",
    "    val_loss=bce_loss(h_val,y_val)        \n",
    "    print(param,val_loss)\n",
    "    return W,train_error"
   ]
  },
  {
   "cell_type": "markdown",
   "metadata": {},
   "source": [
    "**Grid Search**"
   ]
  },
  {
   "cell_type": "code",
   "execution_count": 41,
   "metadata": {},
   "outputs": [
    {
     "data": {
      "text/plain": [
       "[(1000, 0.001),\n",
       " (1000, 0.1),\n",
       " (1000, 0.01),\n",
       " (1500, 0.001),\n",
       " (1500, 0.1),\n",
       " (1500, 0.01),\n",
       " (2000, 0.001),\n",
       " (2000, 0.1),\n",
       " (2000, 0.01)]"
      ]
     },
     "execution_count": 41,
     "metadata": {},
     "output_type": "execute_result"
    }
   ],
   "source": [
    "import itertools\n",
    "grid=list(itertools.product(grid_param[\"num_of_iteration\"],grid_param[\"learning_rate\"]))\n",
    "grid"
   ]
  },
  {
   "cell_type": "code",
   "execution_count": 47,
   "metadata": {},
   "outputs": [
    {
     "name": "stdout",
     "output_type": "stream",
     "text": [
      "{'num_of_iterations': 1000, 'learning_rate': 0.001} 1.4647890548052174\n",
      "{'num_of_iterations': 1000, 'learning_rate': 0.1} 1.2451833830547687\n",
      "{'num_of_iterations': 1000, 'learning_rate': 0.01} 1.4412756985139443\n",
      "{'num_of_iterations': 1500, 'learning_rate': 0.001} 1.3496034022145493\n",
      "{'num_of_iterations': 1500, 'learning_rate': 0.1} 1.366494923541958\n",
      "{'num_of_iterations': 1500, 'learning_rate': 0.01} 1.4388849984544843\n",
      "{'num_of_iterations': 2000, 'learning_rate': 0.001} 1.3555176161151383\n",
      "{'num_of_iterations': 2000, 'learning_rate': 0.1} 1.4110289810673062\n",
      "{'num_of_iterations': 2000, 'learning_rate': 0.01} 1.3325361105956914\n"
     ]
    }
   ],
   "source": [
    "for g in grid:\n",
    "    p={\n",
    "        'num_of_iterations':g[0],\n",
    "        'learning_rate':g[1]\n",
    "    }\n",
    "    train_model(X_train,y_train,X_val,y_val,p)"
   ]
  },
  {
   "cell_type": "markdown",
   "metadata": {},
   "source": [
    "**Train Loss Plot for Best Model**"
   ]
  },
  {
   "cell_type": "code",
   "execution_count": 48,
   "metadata": {},
   "outputs": [
    {
     "name": "stdout",
     "output_type": "stream",
     "text": [
      "{'num_of_iterations': 1000, 'learning_rate': 0.01} 0.8905408766435589\n"
     ]
    }
   ],
   "source": [
    "params={\n",
    "    'num_of_iterations':1000,\n",
    "    'learning_rate':0.01\n",
    "}\n",
    "final_weights,train_loss=train_model(X_train,y_train,X_val,y_val,params)"
   ]
  },
  {
   "cell_type": "code",
   "execution_count": 52,
   "metadata": {},
   "outputs": [
    {
     "data": {
      "text/plain": [
       "Text(0, 0.5, 'Training Loss')"
      ]
     },
     "execution_count": 52,
     "metadata": {},
     "output_type": "execute_result"
    },
    {
     "data": {
      "image/png": "[encoded data removed]",
      "text/plain": [
       "<Figure size 432x288 with 1 Axes>"
      ]
     },
     "metadata": {
      "needs_background": "light"
     },
     "output_type": "display_data"
    }
   ],
   "source": [
    "plt.plot(train_loss)\n",
    "plt.xlabel(\"Number of Iterations\")\n",
    "plt.ylabel(\"Training Loss\")"
   ]
  },
  {
   "cell_type": "markdown",
   "metadata": {},
   "source": [
    "Train Loss vs Number of Iterations Plot"
   ]
  },
  {
   "cell_type": "markdown",
   "metadata": {},
   "source": [
    "## Model Evaluation"
   ]
  },
  {
   "cell_type": "code",
   "execution_count": 58,
   "metadata": {},
   "outputs": [],
   "source": [
    "def predict(X_test,final_weights,threshold):\n",
    "    predictions=sigmoid(np.matmul(X_test,final_weights))\n",
    "    final_predictions=[]\n",
    "    for x in predictions:\n",
    "        if x>=threshold:\n",
    "            final_predictions.append(1)\n",
    "        else:\n",
    "            final_predictions.append(0)\n",
    "    return final_predictions"
   ]
  },
  {
   "cell_type": "code",
   "execution_count": 60,
   "metadata": {},
   "outputs": [],
   "source": [
    "predictions=predict(X_test,final_weights,0.5)"
   ]
  },
  {
   "cell_type": "code",
   "execution_count": 81,
   "metadata": {},
   "outputs": [],
   "source": [
    "##confusion matrix\n",
    "def get_confusion_matrix(actual,predicted):\n",
    "    confusion_matrix=np.zeros((2,2))\n",
    "    for x,y in zip(actual,predicted):\n",
    "        confusion_matrix[x,y] +=1\n",
    "    return confusion_matrix\n",
    "    "
   ]
  },
  {
   "cell_type": "code",
   "execution_count": 83,
   "metadata": {},
   "outputs": [
    {
     "data": {
      "text/plain": [
       "array([[ 93., 120.],\n",
       "       [114., 233.]])"
      ]
     },
     "execution_count": 83,
     "metadata": {},
     "output_type": "execute_result"
    }
   ],
   "source": [
    "confusion_matrix=get_confusion_matrix(y_test,predictions)\n",
    "confusion_matrix"
   ]
  },
  {
   "cell_type": "code",
   "execution_count": 30,
   "metadata": {},
   "outputs": [],
   "source": [
    "##accuracy"
   ]
  },
  {
   "cell_type": "code",
   "execution_count": 31,
   "metadata": {},
   "outputs": [],
   "source": [
    "##Recall"
   ]
  },
  {
   "cell_type": "code",
   "execution_count": 32,
   "metadata": {},
   "outputs": [],
   "source": [
    "##Precision"
   ]
  },
  {
   "cell_type": "code",
   "execution_count": 33,
   "metadata": {},
   "outputs": [],
   "source": [
    "##F1-Score"
   ]
  },
  {
   "cell_type": "code",
   "execution_count": 34,
   "metadata": {},
   "outputs": [],
   "source": [
    "##ROC Curve"
   ]
  },
  {
   "cell_type": "code",
   "execution_count": null,
   "metadata": {},
   "outputs": [],
   "source": []
  }
 ],
 "metadata": {
  "kernelspec": {
   "display_name": "Python 3",
   "language": "python",
   "name": "python3"
  },
  "language_info": {
   "codemirror_mode": {
    "name": "ipython",
    "version": 3
   },
   "file_extension": ".py",
   "mimetype": "text/x-python",
   "name": "python",
   "nbconvert_exporter": "python",
   "pygments_lexer": "ipython3",
   "version": "3.6.9"
  }
 },
 "nbformat": 4,
 "nbformat_minor": 4
}
