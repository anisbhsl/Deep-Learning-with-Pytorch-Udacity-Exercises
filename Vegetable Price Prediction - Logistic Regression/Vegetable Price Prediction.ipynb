{
 "cells": [
  {
   "cell_type": "markdown",
   "metadata": {},
   "source": [
    "## Vegetable Price Prediction"
   ]
  },
  {
   "cell_type": "markdown",
   "metadata": {},
   "source": [
    "Submitted By: Anish Bhusal (bhusal.anish12@gmail.com)\n",
    "\n",
    "**Contents**\n",
    "    \n",
    "    1. Read Dataset\n",
    "    2. Data Cleaning and EDA"
   ]
  },
  {
   "cell_type": "markdown",
   "metadata": {},
   "source": [
    "### Todo: find relationship between avgprice and other parameters.\n",
    "            - convert pricetype in binary encoding (1,0) "
   ]
  },
  {
   "cell_type": "code",
   "execution_count": 1,
   "metadata": {},
   "outputs": [],
   "source": [
    "import pandas as pd\n",
    "import numpy as np\n",
    "import matplotlib.pyplot as plt\n",
    "import seaborn as sns\n",
    "%matplotlib inline"
   ]
  },
  {
   "cell_type": "markdown",
   "metadata": {},
   "source": [
    "### 1. Read Dataset"
   ]
  },
  {
   "cell_type": "code",
   "execution_count": 2,
   "metadata": {},
   "outputs": [
    {
     "data": {
      "text/html": [
       "<div>\n",
       "<style scoped>\n",
       "    .dataframe tbody tr th:only-of-type {\n",
       "        vertical-align: middle;\n",
       "    }\n",
       "\n",
       "    .dataframe tbody tr th {\n",
       "        vertical-align: top;\n",
       "    }\n",
       "\n",
       "    .dataframe thead th {\n",
       "        text-align: right;\n",
       "    }\n",
       "</style>\n",
       "<table border=\"1\" class=\"dataframe\">\n",
       "  <thead>\n",
       "    <tr style=\"text-align: right;\">\n",
       "      <th></th>\n",
       "      <th>कृषि उपज</th>\n",
       "      <th>ईकाइ</th>\n",
       "      <th>न्यूनतम</th>\n",
       "      <th>अधिकतम</th>\n",
       "      <th>औसत</th>\n",
       "      <th>cdate</th>\n",
       "      <th>pricetype</th>\n",
       "    </tr>\n",
       "  </thead>\n",
       "  <tbody>\n",
       "    <tr>\n",
       "      <th>0</th>\n",
       "      <td>गोलभेडा ठूलो(नेपाली)</td>\n",
       "      <td>के.जी.</td>\n",
       "      <td>३०</td>\n",
       "      <td>३५</td>\n",
       "      <td>३३</td>\n",
       "      <td>02/25/2018</td>\n",
       "      <td>W</td>\n",
       "    </tr>\n",
       "    <tr>\n",
       "      <th>1</th>\n",
       "      <td>गोलभेडा सानो</td>\n",
       "      <td>के.जी.</td>\n",
       "      <td>२५</td>\n",
       "      <td>३०</td>\n",
       "      <td>२८</td>\n",
       "      <td>02/25/2018</td>\n",
       "      <td>W</td>\n",
       "    </tr>\n",
       "    <tr>\n",
       "      <th>2</th>\n",
       "      <td>अालु रातो</td>\n",
       "      <td>के.जी.</td>\n",
       "      <td>२०</td>\n",
       "      <td>२३</td>\n",
       "      <td>२२</td>\n",
       "      <td>02/25/2018</td>\n",
       "      <td>W</td>\n",
       "    </tr>\n",
       "    <tr>\n",
       "      <th>3</th>\n",
       "      <td>अालु सेतो</td>\n",
       "      <td>के.जी.</td>\n",
       "      <td>१८</td>\n",
       "      <td>२०</td>\n",
       "      <td>१९</td>\n",
       "      <td>02/25/2018</td>\n",
       "      <td>W</td>\n",
       "    </tr>\n",
       "    <tr>\n",
       "      <th>4</th>\n",
       "      <td>प्याज सुकेको भारतीय</td>\n",
       "      <td>के.जी.</td>\n",
       "      <td>४४</td>\n",
       "      <td>४६</td>\n",
       "      <td>४५</td>\n",
       "      <td>02/25/2018</td>\n",
       "      <td>W</td>\n",
       "    </tr>\n",
       "  </tbody>\n",
       "</table>\n",
       "</div>"
      ],
      "text/plain": [
       "               कृषि उपज    ईकाइ न्यूनतम अधिकतम औसत       cdate pricetype\n",
       "0  गोलभेडा ठूलो(नेपाली)  के.जी.      ३०     ३५  ३३  02/25/2018         W\n",
       "1          गोलभेडा सानो  के.जी.      २५     ३०  २८  02/25/2018         W\n",
       "2             अालु रातो  के.जी.      २०     २३  २२  02/25/2018         W\n",
       "3             अालु सेतो  के.जी.      १८     २०  १९  02/25/2018         W\n",
       "4   प्याज सुकेको भारतीय  के.जी.      ४४     ४६  ४५  02/25/2018         W"
      ]
     },
     "execution_count": 2,
     "metadata": {},
     "output_type": "execute_result"
    }
   ],
   "source": [
    "data=pd.read_csv(\"Price.csv\")\n",
    "data.head()"
   ]
  },
  {
   "cell_type": "code",
   "execution_count": 3,
   "metadata": {},
   "outputs": [
    {
     "data": {
      "text/plain": [
       "Index(['कृषि उपज', 'ईकाइ', 'न्यूनतम', 'अधिकतम', 'औसत', 'cdate', 'pricetype'], dtype='object')"
      ]
     },
     "execution_count": 3,
     "metadata": {},
     "output_type": "execute_result"
    }
   ],
   "source": [
    "data.columns"
   ]
  },
  {
   "cell_type": "markdown",
   "metadata": {},
   "source": [
    "There are 7 columns in this dataframe. Now lets perform data cleaning and EDA"
   ]
  },
  {
   "cell_type": "markdown",
   "metadata": {},
   "source": [
    "### 2. Data Cleaning and EDA\n",
    "\n",
    "***Data Cleaning***\n",
    "\n",
    "Lets start by renaming the columns for easier use along the way."
   ]
  },
  {
   "cell_type": "code",
   "execution_count": 4,
   "metadata": {},
   "outputs": [],
   "source": [
    "data.rename(columns={'कृषि उपज':'VegProduce','ईकाइ':'Quantity','न्यूनतम':'MinPrice','अधिकतम':'MaxPrice','औसत':'AvgPrice'},inplace=True)"
   ]
  },
  {
   "cell_type": "markdown",
   "metadata": {},
   "source": [
    "**Convert Nepali numerical digits into english**"
   ]
  },
  {
   "cell_type": "code",
   "execution_count": 5,
   "metadata": {},
   "outputs": [],
   "source": [
    "def convert(val):\n",
    "    result=[]\n",
    "    for v in val:\n",
    "        result.append(int(v))\n",
    "    return result \n",
    "\n",
    "data['MinPrice']=convert(data['MinPrice'].tolist())\n",
    "data['MaxPrice']=convert(data['MaxPrice'].tolist())\n",
    "data['AvgPrice']=convert(data['AvgPrice'].tolist())"
   ]
  },
  {
   "cell_type": "code",
   "execution_count": 6,
   "metadata": {},
   "outputs": [
    {
     "data": {
      "text/html": [
       "<div>\n",
       "<style scoped>\n",
       "    .dataframe tbody tr th:only-of-type {\n",
       "        vertical-align: middle;\n",
       "    }\n",
       "\n",
       "    .dataframe tbody tr th {\n",
       "        vertical-align: top;\n",
       "    }\n",
       "\n",
       "    .dataframe thead th {\n",
       "        text-align: right;\n",
       "    }\n",
       "</style>\n",
       "<table border=\"1\" class=\"dataframe\">\n",
       "  <thead>\n",
       "    <tr style=\"text-align: right;\">\n",
       "      <th></th>\n",
       "      <th>VegProduce</th>\n",
       "      <th>Quantity</th>\n",
       "      <th>MinPrice</th>\n",
       "      <th>MaxPrice</th>\n",
       "      <th>AvgPrice</th>\n",
       "      <th>cdate</th>\n",
       "      <th>pricetype</th>\n",
       "    </tr>\n",
       "  </thead>\n",
       "  <tbody>\n",
       "    <tr>\n",
       "      <th>0</th>\n",
       "      <td>गोलभेडा ठूलो(नेपाली)</td>\n",
       "      <td>के.जी.</td>\n",
       "      <td>30</td>\n",
       "      <td>35</td>\n",
       "      <td>33</td>\n",
       "      <td>02/25/2018</td>\n",
       "      <td>W</td>\n",
       "    </tr>\n",
       "    <tr>\n",
       "      <th>1</th>\n",
       "      <td>गोलभेडा सानो</td>\n",
       "      <td>के.जी.</td>\n",
       "      <td>25</td>\n",
       "      <td>30</td>\n",
       "      <td>28</td>\n",
       "      <td>02/25/2018</td>\n",
       "      <td>W</td>\n",
       "    </tr>\n",
       "    <tr>\n",
       "      <th>2</th>\n",
       "      <td>अालु रातो</td>\n",
       "      <td>के.जी.</td>\n",
       "      <td>20</td>\n",
       "      <td>23</td>\n",
       "      <td>22</td>\n",
       "      <td>02/25/2018</td>\n",
       "      <td>W</td>\n",
       "    </tr>\n",
       "    <tr>\n",
       "      <th>3</th>\n",
       "      <td>अालु सेतो</td>\n",
       "      <td>के.जी.</td>\n",
       "      <td>18</td>\n",
       "      <td>20</td>\n",
       "      <td>19</td>\n",
       "      <td>02/25/2018</td>\n",
       "      <td>W</td>\n",
       "    </tr>\n",
       "    <tr>\n",
       "      <th>4</th>\n",
       "      <td>प्याज सुकेको भारतीय</td>\n",
       "      <td>के.जी.</td>\n",
       "      <td>44</td>\n",
       "      <td>46</td>\n",
       "      <td>45</td>\n",
       "      <td>02/25/2018</td>\n",
       "      <td>W</td>\n",
       "    </tr>\n",
       "  </tbody>\n",
       "</table>\n",
       "</div>"
      ],
      "text/plain": [
       "             VegProduce Quantity  MinPrice  MaxPrice  AvgPrice       cdate  \\\n",
       "0  गोलभेडा ठूलो(नेपाली)   के.जी.        30        35        33  02/25/2018   \n",
       "1          गोलभेडा सानो   के.जी.        25        30        28  02/25/2018   \n",
       "2             अालु रातो   के.जी.        20        23        22  02/25/2018   \n",
       "3             अालु सेतो   के.जी.        18        20        19  02/25/2018   \n",
       "4   प्याज सुकेको भारतीय   के.जी.        44        46        45  02/25/2018   \n",
       "\n",
       "  pricetype  \n",
       "0         W  \n",
       "1         W  \n",
       "2         W  \n",
       "3         W  \n",
       "4         W  "
      ]
     },
     "execution_count": 6,
     "metadata": {},
     "output_type": "execute_result"
    }
   ],
   "source": [
    "data.head()"
   ]
  },
  {
   "cell_type": "code",
   "execution_count": 7,
   "metadata": {},
   "outputs": [
    {
     "data": {
      "text/plain": [
       "VegProduce    0\n",
       "Quantity      0\n",
       "MinPrice      0\n",
       "MaxPrice      0\n",
       "AvgPrice      0\n",
       "cdate         0\n",
       "pricetype     0\n",
       "dtype: int64"
      ]
     },
     "execution_count": 7,
     "metadata": {},
     "output_type": "execute_result"
    }
   ],
   "source": [
    "#check if there are any null values\n",
    "data.isnull().sum()"
   ]
  },
  {
   "cell_type": "markdown",
   "metadata": {},
   "source": [
    "There are missing values or NaN values."
   ]
  },
  {
   "cell_type": "markdown",
   "metadata": {},
   "source": [
    "**Parse Dates into YYYY-MM-DD format**"
   ]
  },
  {
   "cell_type": "code",
   "execution_count": 8,
   "metadata": {},
   "outputs": [
    {
     "data": {
      "text/html": [
       "<div>\n",
       "<style scoped>\n",
       "    .dataframe tbody tr th:only-of-type {\n",
       "        vertical-align: middle;\n",
       "    }\n",
       "\n",
       "    .dataframe tbody tr th {\n",
       "        vertical-align: top;\n",
       "    }\n",
       "\n",
       "    .dataframe thead th {\n",
       "        text-align: right;\n",
       "    }\n",
       "</style>\n",
       "<table border=\"1\" class=\"dataframe\">\n",
       "  <thead>\n",
       "    <tr style=\"text-align: right;\">\n",
       "      <th></th>\n",
       "      <th>VegProduce</th>\n",
       "      <th>Quantity</th>\n",
       "      <th>MinPrice</th>\n",
       "      <th>MaxPrice</th>\n",
       "      <th>AvgPrice</th>\n",
       "      <th>cdate</th>\n",
       "      <th>pricetype</th>\n",
       "    </tr>\n",
       "  </thead>\n",
       "  <tbody>\n",
       "    <tr>\n",
       "      <th>0</th>\n",
       "      <td>गोलभेडा ठूलो(नेपाली)</td>\n",
       "      <td>के.जी.</td>\n",
       "      <td>30</td>\n",
       "      <td>35</td>\n",
       "      <td>33</td>\n",
       "      <td>2018-02-25</td>\n",
       "      <td>W</td>\n",
       "    </tr>\n",
       "    <tr>\n",
       "      <th>1</th>\n",
       "      <td>गोलभेडा सानो</td>\n",
       "      <td>के.जी.</td>\n",
       "      <td>25</td>\n",
       "      <td>30</td>\n",
       "      <td>28</td>\n",
       "      <td>2018-02-25</td>\n",
       "      <td>W</td>\n",
       "    </tr>\n",
       "    <tr>\n",
       "      <th>2</th>\n",
       "      <td>अालु रातो</td>\n",
       "      <td>के.जी.</td>\n",
       "      <td>20</td>\n",
       "      <td>23</td>\n",
       "      <td>22</td>\n",
       "      <td>2018-02-25</td>\n",
       "      <td>W</td>\n",
       "    </tr>\n",
       "    <tr>\n",
       "      <th>3</th>\n",
       "      <td>अालु सेतो</td>\n",
       "      <td>के.जी.</td>\n",
       "      <td>18</td>\n",
       "      <td>20</td>\n",
       "      <td>19</td>\n",
       "      <td>2018-02-25</td>\n",
       "      <td>W</td>\n",
       "    </tr>\n",
       "    <tr>\n",
       "      <th>4</th>\n",
       "      <td>प्याज सुकेको भारतीय</td>\n",
       "      <td>के.जी.</td>\n",
       "      <td>44</td>\n",
       "      <td>46</td>\n",
       "      <td>45</td>\n",
       "      <td>2018-02-25</td>\n",
       "      <td>W</td>\n",
       "    </tr>\n",
       "  </tbody>\n",
       "</table>\n",
       "</div>"
      ],
      "text/plain": [
       "             VegProduce Quantity  MinPrice  MaxPrice  AvgPrice      cdate  \\\n",
       "0  गोलभेडा ठूलो(नेपाली)   के.जी.        30        35        33 2018-02-25   \n",
       "1          गोलभेडा सानो   के.जी.        25        30        28 2018-02-25   \n",
       "2             अालु रातो   के.जी.        20        23        22 2018-02-25   \n",
       "3             अालु सेतो   के.जी.        18        20        19 2018-02-25   \n",
       "4   प्याज सुकेको भारतीय   के.जी.        44        46        45 2018-02-25   \n",
       "\n",
       "  pricetype  \n",
       "0         W  \n",
       "1         W  \n",
       "2         W  \n",
       "3         W  \n",
       "4         W  "
      ]
     },
     "execution_count": 8,
     "metadata": {},
     "output_type": "execute_result"
    }
   ],
   "source": [
    "data['cdate']=pd.to_datetime(data['cdate'],format=\"%m/%d/%Y\")\n",
    "data.head()"
   ]
  },
  {
   "cell_type": "markdown",
   "metadata": {},
   "source": [
    "**Categorize veggies, fruits for better analysis**"
   ]
  },
  {
   "cell_type": "code",
   "execution_count": 9,
   "metadata": {},
   "outputs": [
    {
     "name": "stdout",
     "output_type": "stream",
     "text": [
      "Total rows=99302 | Total Unique Veggies=120\n"
     ]
    }
   ],
   "source": [
    "##see how many unique values are there\n",
    "total_rows=data['VegProduce'].count()\n",
    "total_unique_veggies=len(data['VegProduce'].unique())\n",
    "print(\"Total rows={} | Total Unique Veggies={}\".format(total_rows,total_unique_veggies))"
   ]
  },
  {
   "cell_type": "markdown",
   "metadata": {},
   "source": [
    "*what are the unique veggies in the column*"
   ]
  },
  {
   "cell_type": "code",
   "execution_count": 10,
   "metadata": {},
   "outputs": [
    {
     "data": {
      "text/plain": [
       "array(['गोलभेडा ठूलो(नेपाली)', 'गोलभेडा सानो', 'अालु रातो', 'अालु सेतो',\n",
       "       'प्याज सुकेको भारतीय', 'गाजर(लोकल)', 'बन्दा(लोकल)',\n",
       "       'काउली स्थानिय', 'काउली तरार्इ', 'मूला रातो', 'मूला सेतो(लोकल)',\n",
       "       'भन्टा लाम्चो', 'भन्टा डल्लो', 'मटरकोशा', 'घिउ सिमी(लोकल)',\n",
       "       'टाटे सिमी', 'लौका', 'फर्सी पाकेको', 'फर्सी हरियो(लाम्चो)',\n",
       "       'भिण्डी', 'बरेला', 'पिंडालू', 'स्कूस', 'रायो साग', 'पालूगो साग',\n",
       "       'चमसूरको साग', 'तोरीको साग', 'मेथीको साग', 'प्याज हरियो', 'बकूला',\n",
       "       'तरुल', 'च्याउ(कन्य)', 'ब्रोकाउली', 'चुकुन्दर', 'जिरीको साग',\n",
       "       'ग्याठ कोबी', 'सेलरी', 'पार्सले', 'सौफको साग', 'पुदीना',\n",
       "       'गान्टे मूला', 'इमली', 'तामा', 'तोफु', 'गुन्दुक', 'स्याउ(झोले)',\n",
       "       'केरा', 'कागती', 'अनार', 'अंगुर(हरियो)', 'सुन्तला(नेपाली)',\n",
       "       'तरबुजा(हरियो)', 'मौसम', 'भुर्इ कटहर', 'काक्रो(लोकल)', 'रुख कटहर',\n",
       "       'नासपाती(लोकल)', 'मेवा(नेपाली)', 'लप्सी', 'अदुवा',\n",
       "       'खु्र्सानी सुकेको', 'खु्र्सानी हरियो', 'भेडे खु्र्सानी',\n",
       "       'लसुन हरियो', 'हरियो धनिया', 'लसुन सुकेको चाइनिज',\n",
       "       'लसुन सुकेको नेपाली', 'माछा ताजा', 'रातो बन्दा', 'तितो करेला',\n",
       "       'परवर(लोकल)', 'छ्यापी हरियो', 'बोडी(तने)', 'सजिवन', 'कोइरालो',\n",
       "       'घिरौला', 'आँप(मालदह)', 'चिचिण्डो', 'न्यूरो', 'लीच्ची(लोकल)',\n",
       "       'भटमासकोशा', 'झिगूनी', 'अम्बा', 'कुरीलो', 'सखरखण्ड',\n",
       "       'छ्यापी सुकेको', 'गोलभेडा सानो(टनेल)', 'आलु रातो(भारतीय)',\n",
       "       'च्याउ(डल्ले)', 'स्याउ(फूजी)', 'काक्रो(हाइब्रीड)',\n",
       "       'खुर्सानी हरियो(बुलेट)', 'खुर्सानी हरियो(माछे)',\n",
       "       'खुर्सानी हरियो(अकबरे)', 'ताजा माछा(रहु)', 'ताजा माछा(बचुवा)',\n",
       "       'ताजा माछा(छडी)', 'ताजा माछा(म\\u200cंुगरी)', 'सेतो मूला(हाइब्रीड)',\n",
       "       'मकै बोडी', 'घिउ सिमी(हाइब्रीड)', 'घिउ सिमी(राजमा)',\n",
       "       'हरियो फर्सी(डल्लो)', 'अाँप(दसहरी)', 'तरबुजा(पाटे)',\n",
       "       'मेवा(भारतीय)', 'लीच्ची(भारतीय)', 'बन्दा(नरिवल)', 'आलु रातो(मुडे)',\n",
       "       'ठूलो गोलभेडा(भारतीय)', 'नासपाती(चाइनिज)', 'गोलभेडा सानो(भारतीय)',\n",
       "       'सुन्तला(भारतीय)', 'गाजर(तराई)', 'गोलभेडा सानो(तराई)',\n",
       "       'सुकेको प्याज चाइनिज', 'बन्दा(तराई)', 'स्थानीय काउली(ज्यापु)',\n",
       "       'परवर(तराई)', 'अंगुर(कालो)'], dtype=object)"
      ]
     },
     "execution_count": 10,
     "metadata": {},
     "output_type": "execute_result"
    }
   ],
   "source": [
    "unique_veggies=data['VegProduce'].unique()\n",
    "unique_veggies"
   ]
  },
  {
   "cell_type": "markdown",
   "metadata": {},
   "source": [
    "**Categorize veggies into groups**\n",
    "1. Fruits\n",
    "2. Vegetables\n",
    "3. Meat "
   ]
  },
  {
   "cell_type": "code",
   "execution_count": 11,
   "metadata": {},
   "outputs": [],
   "source": [
    "veggies_list=['गोलभेडा ठूलो(नेपाली)', 'गोलभेडा सानो','अालु रातो', 'अालु सेतो','प्याज सुकेको भारतीय', 'गाजर(लोकल)', 'बन्दा(लोकल)',\n",
    "       'काउली स्थानिय', 'काउली तरार्इ', 'मूला रातो', 'मूला सेतो(लोकल)','भन्टा लाम्चो', 'भन्टा डल्लो', 'मटरकोशा', 'घिउ सिमी(लोकल)',\n",
    "       'टाटे सिमी', 'लौका', 'फर्सी पाकेको', 'फर्सी हरियो(लाम्चो)','भिण्डी', 'बरेला', 'पिंडालू', 'स्कूस', 'रायो साग', 'पालूगो साग', 'चमसूरको साग', \n",
    "        'तोरीको साग', 'मेथीको साग', 'प्याज हरियो', 'बकूला', 'तरुल', 'च्याउ(कन्य)', 'ब्रोकाउली', 'चुकुन्दर', 'जिरीको साग', 'ग्याठ कोबी', 'सेलरी', \n",
    "        'पार्सले', 'सौफको साग', 'पुदीना', 'गान्टे मूला', 'इमली', 'तामा', 'तोफु', 'गुन्दुक','अदुवा','खु्र्सानी सुकेको', 'खु्र्सानी हरियो', 'भेडे खु्र्सानी', \n",
    "        'लसुन हरियो', 'हरियो धनिया', 'लसुन सुकेको चाइनिज','लसुन सुकेको नेपाली','रातो बन्दा', 'तितो करेला', 'परवर(लोकल)', 'छ्यापी हरियो', 'बोडी(तने)', \n",
    "        'सजिवन', 'कोइरालो', 'घिरौला','चिचिण्डो', 'न्यूरो','भटमासकोशा', 'झिगूनी','कुरीलो', 'सखरखण्ड', 'छ्यापी सुकेको', 'गोलभेडा सानो(टनेल)', \n",
    "        'आलु रातो(भारतीय)', 'च्याउ(डल्ले)', 'स्याउ(फूजी)', 'काक्रो(हाइब्रीड)', 'खुर्सानी हरियो(बुलेट)', 'खुर्सानी हरियो(माछे)', 'खुर्सानी हरियो(अकबरे)',\n",
    "        'सेतो मूला(हाइब्रीड)', 'मकै बोडी', 'घिउ सिमी(हाइब्रीड)', 'घिउ सिमी(राजमा)', 'हरियो फर्सी(डल्लो)',  'बन्दा(नरिवल)', 'आलु रातो(मुडे)',\n",
    "       'ठूलो गोलभेडा(भारतीय)','गोलभेडा सानो(भारतीय)','गाजर(तराई)', 'गोलभेडा सानो(तराई)', 'सुकेको प्याज चाइनिज', 'बन्दा(तराई)', 'स्थानीय काउली(ज्यापु)',\n",
    "       'परवर(तराई)']\n",
    "fruits_list=['स्याउ(झोले)', 'केरा', 'कागती', 'अनार', 'अंगुर(हरियो)', 'सुन्तला(नेपाली)','तरबुजा(हरियो)', 'मौसम', 'भुर्इ कटहर', \n",
    "             'काक्रो(लोकल)', 'रुख कटहर', 'नासपाती(लोकल)', 'मेवा(नेपाली)', 'लप्सी', 'आँप(मालदह)','लीच्ची(लोकल)', 'अम्बा', \n",
    "             'अाँप(दसहरी)', 'तरबुजा(पाटे)', 'मेवा(भारतीय)', 'लीच्ची(भारतीय)','नासपाती(चाइनिज)','सुन्तला(भारतीय)','अंगुर(कालो)']\n",
    "fish_list=['माछा ताजा','ताजा माछा(रहु)', 'ताजा माछा(बचुवा)','ताजा माछा(छडी)', 'ताजा माछा(म\\u200cंुगरी)']"
   ]
  },
  {
   "cell_type": "code",
   "execution_count": 12,
   "metadata": {},
   "outputs": [],
   "source": [
    "fruits=data[data['VegProduce'].isin(fruits_list)]\n",
    "veggies=data[data['VegProduce'].isin(veggies_list)]\n",
    "fish=data[data['VegProduce'].isin(fish_list)]\n"
   ]
  },
  {
   "cell_type": "code",
   "execution_count": 13,
   "metadata": {},
   "outputs": [],
   "source": [
    "#group fruits, veggies, fish by date and calculate mean prices\n",
    "fruitsgp=fruits.groupby('cdate').mean()\n",
    "veggiesgp=veggies.groupby('cdate').mean()\n",
    "fishgp=fish.groupby('cdate').mean()"
   ]
  },
  {
   "cell_type": "code",
   "execution_count": 14,
   "metadata": {},
   "outputs": [],
   "source": [
    "rolling_fruits_avgprice=fruitsgp.AvgPrice.rolling(window=20).mean()\n",
    "rolling_veggies_avgprice=veggiesgp.AvgPrice.rolling(window=20).mean()\n",
    "rolling_fish_avgprice=fishgp.AvgPrice.rolling(window=20).mean()"
   ]
  },
  {
   "cell_type": "markdown",
   "metadata": {},
   "source": [
    "**How has been the distribution of price for fruits, veggies and fish**"
   ]
  },
  {
   "cell_type": "code",
   "execution_count": 15,
   "metadata": {},
   "outputs": [
    {
     "data": {
      "image/png": "[encoded data removed]",
      "text/plain": [
       "<Figure size 432x288 with 1 Axes>"
      ]
     },
     "metadata": {
      "needs_background": "light"
     },
     "output_type": "display_data"
    }
   ],
   "source": [
    "ax=sns.distplot(fruitsgp['AvgPrice'])\n",
    "ax.set(xlabel='Average Price of Fruits',ylabel='Frequency')\n",
    "plt.show()"
   ]
  },
  {
   "cell_type": "code",
   "execution_count": 16,
   "metadata": {},
   "outputs": [
    {
     "data": {
      "image/png": "[encoded data removed]",
      "text/plain": [
       "<Figure size 432x288 with 1 Axes>"
      ]
     },
     "metadata": {
      "needs_background": "light"
     },
     "output_type": "display_data"
    }
   ],
   "source": [
    "ax=sns.distplot(veggiesgp['AvgPrice'])\n",
    "ax.set(xlabel='Average Price of Veggies',ylabel='Frequency')\n",
    "plt.show()"
   ]
  },
  {
   "cell_type": "code",
   "execution_count": 17,
   "metadata": {},
   "outputs": [
    {
     "data": {
      "image/png": "[encoded data removed]",
      "text/plain": [
       "<Figure size 432x288 with 1 Axes>"
      ]
     },
     "metadata": {
      "needs_background": "light"
     },
     "output_type": "display_data"
    }
   ],
   "source": [
    "ax=sns.distplot(fishgp['AvgPrice'])\n",
    "ax.set(xlabel='Average Price of Fish',ylabel='Frequency')\n",
    "plt.show()"
   ]
  },
  {
   "cell_type": "markdown",
   "metadata": {},
   "source": [
    "**Now lets visualize the trend of vegetable, fruits and fish prices in overall**"
   ]
  },
  {
   "cell_type": "code",
   "execution_count": 18,
   "metadata": {
    "scrolled": false
   },
   "outputs": [
    {
     "data": {
      "image/png": "[encoded data removed]",
      "text/plain": [
       "<Figure size 1152x576 with 1 Axes>"
      ]
     },
     "metadata": {
      "needs_background": "light"
     },
     "output_type": "display_data"
    }
   ],
   "source": [
    "rolling_fish_avgprice.plot.line(color=\"red\",label=\"Fish\")\n",
    "rolling_fruits_avgprice.plot.line(color=\"orange\",label=\"Fruits\")\n",
    "rolling_veggies_avgprice.plot.line(color=\"green\",label=\"Veggies\")\n",
    "plt.gcf().set_size_inches(16,8)\n",
    "plt.xlabel(\"Date\")\n",
    "plt.ylabel(\"Average Price (MA with windows size 20)\")\n",
    "plt.grid()\n",
    "plt.legend(loc='upper left')\n",
    "plt.show()"
   ]
  },
  {
   "cell_type": "markdown",
   "metadata": {},
   "source": [
    "\n",
    "Fish price has remained almost flat while veggies and fruits price seem to be jumping up and down. Recent figures show that fruits prices are rising while veggies are soaring down. "
   ]
  },
  {
   "cell_type": "markdown",
   "metadata": {},
   "source": [
    "## Build Feature Set"
   ]
  },
  {
   "cell_type": "markdown",
   "metadata": {},
   "source": [
    "Our main target is to predict price for tomorrow given that we have price of yesterday. For this we need to create\n",
    "feature set consisting of :\n",
    "    \n",
    "    Veggies | Today's Date | Yesterday's Date | Yesterday's Price | Price for Today | Price Type "
   ]
  },
  {
   "cell_type": "code",
   "execution_count": 19,
   "metadata": {},
   "outputs": [
    {
     "data": {
      "text/html": [
       "<div>\n",
       "<style scoped>\n",
       "    .dataframe tbody tr th:only-of-type {\n",
       "        vertical-align: middle;\n",
       "    }\n",
       "\n",
       "    .dataframe tbody tr th {\n",
       "        vertical-align: top;\n",
       "    }\n",
       "\n",
       "    .dataframe thead th {\n",
       "        text-align: right;\n",
       "    }\n",
       "</style>\n",
       "<table border=\"1\" class=\"dataframe\">\n",
       "  <thead>\n",
       "    <tr style=\"text-align: right;\">\n",
       "      <th></th>\n",
       "      <th>VegProduce</th>\n",
       "      <th>Quantity</th>\n",
       "      <th>MinPrice</th>\n",
       "      <th>MaxPrice</th>\n",
       "      <th>AvgPrice</th>\n",
       "      <th>cdate</th>\n",
       "      <th>pricetype</th>\n",
       "    </tr>\n",
       "  </thead>\n",
       "  <tbody>\n",
       "    <tr>\n",
       "      <th>99301</th>\n",
       "      <td>ताजा माछा(म‌ंुगरी)</td>\n",
       "      <td>के जी</td>\n",
       "      <td>310</td>\n",
       "      <td>320</td>\n",
       "      <td>315</td>\n",
       "      <td>2020-02-15</td>\n",
       "      <td>R</td>\n",
       "    </tr>\n",
       "    <tr>\n",
       "      <th>99185</th>\n",
       "      <td>तामा</td>\n",
       "      <td>के.जी.</td>\n",
       "      <td>110</td>\n",
       "      <td>120</td>\n",
       "      <td>115</td>\n",
       "      <td>2020-02-15</td>\n",
       "      <td>W</td>\n",
       "    </tr>\n",
       "    <tr>\n",
       "      <th>99193</th>\n",
       "      <td>अंगुर(कालो)</td>\n",
       "      <td>केजी</td>\n",
       "      <td>220</td>\n",
       "      <td>230</td>\n",
       "      <td>225</td>\n",
       "      <td>2020-02-15</td>\n",
       "      <td>W</td>\n",
       "    </tr>\n",
       "    <tr>\n",
       "      <th>99192</th>\n",
       "      <td>अंगुर(हरियो)</td>\n",
       "      <td>के.जी.</td>\n",
       "      <td>120</td>\n",
       "      <td>130</td>\n",
       "      <td>125</td>\n",
       "      <td>2020-02-15</td>\n",
       "      <td>W</td>\n",
       "    </tr>\n",
       "    <tr>\n",
       "      <th>99191</th>\n",
       "      <td>अनार</td>\n",
       "      <td>के.जी.</td>\n",
       "      <td>120</td>\n",
       "      <td>130</td>\n",
       "      <td>125</td>\n",
       "      <td>2020-02-15</td>\n",
       "      <td>W</td>\n",
       "    </tr>\n",
       "  </tbody>\n",
       "</table>\n",
       "</div>"
      ],
      "text/plain": [
       "               VegProduce Quantity  MinPrice  MaxPrice  AvgPrice      cdate  \\\n",
       "99301  ताजा माछा(म‌ंुगरी)    के जी       310       320       315 2020-02-15   \n",
       "99185                तामा   के.जी.       110       120       115 2020-02-15   \n",
       "99193         अंगुर(कालो)     केजी       220       230       225 2020-02-15   \n",
       "99192        अंगुर(हरियो)   के.जी.       120       130       125 2020-02-15   \n",
       "99191                अनार   के.जी.       120       130       125 2020-02-15   \n",
       "\n",
       "      pricetype  \n",
       "99301         R  \n",
       "99185         W  \n",
       "99193         W  \n",
       "99192         W  \n",
       "99191         W  "
      ]
     },
     "execution_count": 19,
     "metadata": {},
     "output_type": "execute_result"
    }
   ],
   "source": [
    "newdata=data.copy()\n",
    "#sort newdata in ascending order w.r.t. date\n",
    "newdata.sort_values(by=['cdate'],inplace=True,ascending=False)\n",
    "newdata.head()"
   ]
  },
  {
   "cell_type": "code",
   "execution_count": 20,
   "metadata": {},
   "outputs": [
    {
     "data": {
      "text/plain": [
       "VegProduce             मेथीको साग\n",
       "Quantity                   के.जी.\n",
       "MinPrice                       30\n",
       "MaxPrice                       35\n",
       "AvgPrice                       33\n",
       "cdate         2020-02-15 00:00:00\n",
       "pricetype                       W\n",
       "Name: 99169, dtype: object"
      ]
     },
     "execution_count": 20,
     "metadata": {},
     "output_type": "execute_result"
    }
   ],
   "source": [
    "newdata.iloc[68]"
   ]
  },
  {
   "cell_type": "code",
   "execution_count": 21,
   "metadata": {},
   "outputs": [],
   "source": [
    "##for each vegproduce and price type\n",
    "# ### \n",
    "# for veg_produce in unique_veggies:\n",
    "#     d=newdata[newdata['VegProduce']==veg_produce]\n",
    "    \n",
    "#     #for retail type\n",
    "#     d_retail_index=d.index[d['pricetype']==\"R\"].to_list()\n",
    "#     for rowindex in range(2,len(d_retail_index)):\n",
    "#         day_1=newdata.iloc[d_retail_index[rowindex-1]]['AvgPrice']\n",
    "#         day_2=newdata.iloc[d_retail_index[rowindex-2]]['AvgPrice']\n",
    "#         newdata.loc[d_retail_index[rowindex],'t_2']=day_2\n",
    "#         newdata.loc[d_retail_index[rowindex],'t_1']=day_1\n",
    "        \n",
    "        \n",
    "# #     #for wholesale type\n",
    "#     d_wholesale_index=d.index[d['pricetype']==\"W\"].to_list()\n",
    "#     for rowindex in range(2,len(d_wholesale_index)):\n",
    "#         day_1=newdata.iloc[d_wholesale_index[rowindex-1]]['AvgPrice']\n",
    "#         day_2=newdata.iloc[d_wholesale_index[rowindex-2]]['AvgPrice']\n",
    "#         newdata.loc[d_wholesale_index[rowindex],'t_2']=day_2\n",
    "#         newdata.loc[d_wholesale_index[rowindex],'t_1']=day_1\n",
    "        \n",
    "    "
   ]
  },
  {
   "cell_type": "code",
   "execution_count": 22,
   "metadata": {},
   "outputs": [
    {
     "data": {
      "text/html": [
       "<div>\n",
       "<style scoped>\n",
       "    .dataframe tbody tr th:only-of-type {\n",
       "        vertical-align: middle;\n",
       "    }\n",
       "\n",
       "    .dataframe tbody tr th {\n",
       "        vertical-align: top;\n",
       "    }\n",
       "\n",
       "    .dataframe thead th {\n",
       "        text-align: right;\n",
       "    }\n",
       "</style>\n",
       "<table border=\"1\" class=\"dataframe\">\n",
       "  <thead>\n",
       "    <tr style=\"text-align: right;\">\n",
       "      <th></th>\n",
       "      <th>VegProduce</th>\n",
       "      <th>Quantity</th>\n",
       "      <th>MinPrice</th>\n",
       "      <th>MaxPrice</th>\n",
       "      <th>AvgPrice</th>\n",
       "      <th>cdate</th>\n",
       "      <th>pricetype</th>\n",
       "    </tr>\n",
       "  </thead>\n",
       "  <tbody>\n",
       "    <tr>\n",
       "      <th>99301</th>\n",
       "      <td>ताजा माछा(म‌ंुगरी)</td>\n",
       "      <td>के जी</td>\n",
       "      <td>310</td>\n",
       "      <td>320</td>\n",
       "      <td>315</td>\n",
       "      <td>2020-02-15</td>\n",
       "      <td>R</td>\n",
       "    </tr>\n",
       "    <tr>\n",
       "      <th>99185</th>\n",
       "      <td>तामा</td>\n",
       "      <td>के.जी.</td>\n",
       "      <td>110</td>\n",
       "      <td>120</td>\n",
       "      <td>115</td>\n",
       "      <td>2020-02-15</td>\n",
       "      <td>W</td>\n",
       "    </tr>\n",
       "    <tr>\n",
       "      <th>99193</th>\n",
       "      <td>अंगुर(कालो)</td>\n",
       "      <td>केजी</td>\n",
       "      <td>220</td>\n",
       "      <td>230</td>\n",
       "      <td>225</td>\n",
       "      <td>2020-02-15</td>\n",
       "      <td>W</td>\n",
       "    </tr>\n",
       "    <tr>\n",
       "      <th>99192</th>\n",
       "      <td>अंगुर(हरियो)</td>\n",
       "      <td>के.जी.</td>\n",
       "      <td>120</td>\n",
       "      <td>130</td>\n",
       "      <td>125</td>\n",
       "      <td>2020-02-15</td>\n",
       "      <td>W</td>\n",
       "    </tr>\n",
       "    <tr>\n",
       "      <th>99191</th>\n",
       "      <td>अनार</td>\n",
       "      <td>के.जी.</td>\n",
       "      <td>120</td>\n",
       "      <td>130</td>\n",
       "      <td>125</td>\n",
       "      <td>2020-02-15</td>\n",
       "      <td>W</td>\n",
       "    </tr>\n",
       "  </tbody>\n",
       "</table>\n",
       "</div>"
      ],
      "text/plain": [
       "               VegProduce Quantity  MinPrice  MaxPrice  AvgPrice      cdate  \\\n",
       "99301  ताजा माछा(म‌ंुगरी)    के जी       310       320       315 2020-02-15   \n",
       "99185                तामा   के.जी.       110       120       115 2020-02-15   \n",
       "99193         अंगुर(कालो)     केजी       220       230       225 2020-02-15   \n",
       "99192        अंगुर(हरियो)   के.जी.       120       130       125 2020-02-15   \n",
       "99191                अनार   के.जी.       120       130       125 2020-02-15   \n",
       "\n",
       "      pricetype  \n",
       "99301         R  \n",
       "99185         W  \n",
       "99193         W  \n",
       "99192         W  \n",
       "99191         W  "
      ]
     },
     "execution_count": 22,
     "metadata": {},
     "output_type": "execute_result"
    }
   ],
   "source": [
    "data.sort_values(by=['cdate'],inplace=True,ascending=False)\n",
    "data.head()"
   ]
  },
  {
   "cell_type": "code",
   "execution_count": 23,
   "metadata": {},
   "outputs": [],
   "source": [
    "#shift can be used here \n",
    "feature_df=[]\n",
    "for v in unique_veggies:\n",
    "    for p_type in ['W','R']:\n",
    "        df_v=data[(data['VegProduce']==v) & (data['pricetype']==p_type)]\n",
    "        df_v=df_v.sort_values(by=['cdate'],ascending=False)\n",
    "        \n",
    "        if p_type=='W':\n",
    "            df_v['type']=1\n",
    "        else:\n",
    "            df_v['type']=0\n",
    "            \n",
    "        df_v['t_1']=df_v.shift(-1)['AvgPrice']\n",
    "        df_v['t_2']=df_v.shift(-2)['AvgPrice']\n",
    "        \n",
    "        feature_df.append(df_v)\n",
    "        \n",
    "feature_df=pd.concat(feature_df)"
   ]
  },
  {
   "cell_type": "code",
   "execution_count": 24,
   "metadata": {},
   "outputs": [
    {
     "data": {
      "text/html": [
       "<div>\n",
       "<style scoped>\n",
       "    .dataframe tbody tr th:only-of-type {\n",
       "        vertical-align: middle;\n",
       "    }\n",
       "\n",
       "    .dataframe tbody tr th {\n",
       "        vertical-align: top;\n",
       "    }\n",
       "\n",
       "    .dataframe thead th {\n",
       "        text-align: right;\n",
       "    }\n",
       "</style>\n",
       "<table border=\"1\" class=\"dataframe\">\n",
       "  <thead>\n",
       "    <tr style=\"text-align: right;\">\n",
       "      <th></th>\n",
       "      <th>VegProduce</th>\n",
       "      <th>Quantity</th>\n",
       "      <th>MinPrice</th>\n",
       "      <th>MaxPrice</th>\n",
       "      <th>AvgPrice</th>\n",
       "      <th>cdate</th>\n",
       "      <th>pricetype</th>\n",
       "      <th>type</th>\n",
       "      <th>t_1</th>\n",
       "      <th>t_2</th>\n",
       "    </tr>\n",
       "  </thead>\n",
       "  <tbody>\n",
       "    <tr>\n",
       "      <th>404</th>\n",
       "      <td>गोलभेडा ठूलो(नेपाली)</td>\n",
       "      <td>के.जी.</td>\n",
       "      <td>30</td>\n",
       "      <td>35</td>\n",
       "      <td>33</td>\n",
       "      <td>2018-02-28</td>\n",
       "      <td>W</td>\n",
       "      <td>1</td>\n",
       "      <td>38.0</td>\n",
       "      <td>38.0</td>\n",
       "    </tr>\n",
       "    <tr>\n",
       "      <th>471</th>\n",
       "      <td>गोलभेडा ठूलो(नेपाली)</td>\n",
       "      <td>के.जी.</td>\n",
       "      <td>40</td>\n",
       "      <td>50</td>\n",
       "      <td>45</td>\n",
       "      <td>2018-02-28</td>\n",
       "      <td>R</td>\n",
       "      <td>0</td>\n",
       "      <td>45.0</td>\n",
       "      <td>45.0</td>\n",
       "    </tr>\n",
       "    <tr>\n",
       "      <th>405</th>\n",
       "      <td>गोलभेडा सानो</td>\n",
       "      <td>के.जी.</td>\n",
       "      <td>30</td>\n",
       "      <td>35</td>\n",
       "      <td>33</td>\n",
       "      <td>2018-02-28</td>\n",
       "      <td>W</td>\n",
       "      <td>1</td>\n",
       "      <td>33.0</td>\n",
       "      <td>33.0</td>\n",
       "    </tr>\n",
       "    <tr>\n",
       "      <th>472</th>\n",
       "      <td>गोलभेडा सानो</td>\n",
       "      <td>के.जी.</td>\n",
       "      <td>40</td>\n",
       "      <td>50</td>\n",
       "      <td>45</td>\n",
       "      <td>2018-02-28</td>\n",
       "      <td>R</td>\n",
       "      <td>0</td>\n",
       "      <td>43.0</td>\n",
       "      <td>45.0</td>\n",
       "    </tr>\n",
       "    <tr>\n",
       "      <th>406</th>\n",
       "      <td>अालु रातो</td>\n",
       "      <td>के.जी.</td>\n",
       "      <td>22</td>\n",
       "      <td>24</td>\n",
       "      <td>23</td>\n",
       "      <td>2018-02-28</td>\n",
       "      <td>W</td>\n",
       "      <td>1</td>\n",
       "      <td>24.0</td>\n",
       "      <td>21.0</td>\n",
       "    </tr>\n",
       "    <tr>\n",
       "      <th>...</th>\n",
       "      <td>...</td>\n",
       "      <td>...</td>\n",
       "      <td>...</td>\n",
       "      <td>...</td>\n",
       "      <td>...</td>\n",
       "      <td>...</td>\n",
       "      <td>...</td>\n",
       "      <td>...</td>\n",
       "      <td>...</td>\n",
       "      <td>...</td>\n",
       "    </tr>\n",
       "    <tr>\n",
       "      <th>536</th>\n",
       "      <td>लसुन सुकेको चाइनिज</td>\n",
       "      <td>के.जी.</td>\n",
       "      <td>220</td>\n",
       "      <td>250</td>\n",
       "      <td>235</td>\n",
       "      <td>2018-02-28</td>\n",
       "      <td>R</td>\n",
       "      <td>0</td>\n",
       "      <td>235.0</td>\n",
       "      <td>235.0</td>\n",
       "    </tr>\n",
       "    <tr>\n",
       "      <th>470</th>\n",
       "      <td>माछा ताजा</td>\n",
       "      <td>के.जी.</td>\n",
       "      <td>240</td>\n",
       "      <td>250</td>\n",
       "      <td>245</td>\n",
       "      <td>2018-02-28</td>\n",
       "      <td>W</td>\n",
       "      <td>1</td>\n",
       "      <td>245.0</td>\n",
       "      <td>245.0</td>\n",
       "    </tr>\n",
       "    <tr>\n",
       "      <th>537</th>\n",
       "      <td>माछा ताजा</td>\n",
       "      <td>के.जी.</td>\n",
       "      <td>250</td>\n",
       "      <td>260</td>\n",
       "      <td>255</td>\n",
       "      <td>2018-02-28</td>\n",
       "      <td>R</td>\n",
       "      <td>0</td>\n",
       "      <td>255.0</td>\n",
       "      <td>255.0</td>\n",
       "    </tr>\n",
       "    <tr>\n",
       "      <th>437</th>\n",
       "      <td>रातो बन्दा</td>\n",
       "      <td>के.जी.</td>\n",
       "      <td>40</td>\n",
       "      <td>45</td>\n",
       "      <td>43</td>\n",
       "      <td>2018-02-28</td>\n",
       "      <td>W</td>\n",
       "      <td>1</td>\n",
       "      <td>43.0</td>\n",
       "      <td>43.0</td>\n",
       "    </tr>\n",
       "    <tr>\n",
       "      <th>504</th>\n",
       "      <td>रातो बन्दा</td>\n",
       "      <td>के.जी.</td>\n",
       "      <td>45</td>\n",
       "      <td>50</td>\n",
       "      <td>48</td>\n",
       "      <td>2018-02-28</td>\n",
       "      <td>R</td>\n",
       "      <td>0</td>\n",
       "      <td>48.0</td>\n",
       "      <td>48.0</td>\n",
       "    </tr>\n",
       "  </tbody>\n",
       "</table>\n",
       "<p>134 rows × 10 columns</p>\n",
       "</div>"
      ],
      "text/plain": [
       "               VegProduce Quantity  MinPrice  MaxPrice  AvgPrice      cdate  \\\n",
       "404  गोलभेडा ठूलो(नेपाली)   के.जी.        30        35        33 2018-02-28   \n",
       "471  गोलभेडा ठूलो(नेपाली)   के.जी.        40        50        45 2018-02-28   \n",
       "405          गोलभेडा सानो   के.जी.        30        35        33 2018-02-28   \n",
       "472          गोलभेडा सानो   के.जी.        40        50        45 2018-02-28   \n",
       "406             अालु रातो   के.जी.        22        24        23 2018-02-28   \n",
       "..                    ...      ...       ...       ...       ...        ...   \n",
       "536    लसुन सुकेको चाइनिज   के.जी.       220       250       235 2018-02-28   \n",
       "470             माछा ताजा   के.जी.       240       250       245 2018-02-28   \n",
       "537             माछा ताजा   के.जी.       250       260       255 2018-02-28   \n",
       "437            रातो बन्दा   के.जी.        40        45        43 2018-02-28   \n",
       "504            रातो बन्दा   के.जी.        45        50        48 2018-02-28   \n",
       "\n",
       "    pricetype  type    t_1    t_2  \n",
       "404         W     1   38.0   38.0  \n",
       "471         R     0   45.0   45.0  \n",
       "405         W     1   33.0   33.0  \n",
       "472         R     0   43.0   45.0  \n",
       "406         W     1   24.0   21.0  \n",
       "..        ...   ...    ...    ...  \n",
       "536         R     0  235.0  235.0  \n",
       "470         W     1  245.0  245.0  \n",
       "537         R     0  255.0  255.0  \n",
       "437         W     1   43.0   43.0  \n",
       "504         R     0   48.0   48.0  \n",
       "\n",
       "[134 rows x 10 columns]"
      ]
     },
     "execution_count": 24,
     "metadata": {},
     "output_type": "execute_result"
    }
   ],
   "source": [
    "feature_df[feature_df['cdate']=='2018-02-28']"
   ]
  },
  {
   "cell_type": "code",
   "execution_count": 25,
   "metadata": {},
   "outputs": [],
   "source": [
    "#randomly shuffle \n",
    "feature_df=feature_df.sample(frac=1,random_state=1)\n",
    "feature_df.dropna(subset=['t_1', 't_2'],inplace=True)"
   ]
  },
  {
   "cell_type": "code",
   "execution_count": 26,
   "metadata": {},
   "outputs": [
    {
     "data": {
      "text/plain": [
       "VegProduce    0\n",
       "Quantity      0\n",
       "MinPrice      0\n",
       "MaxPrice      0\n",
       "AvgPrice      0\n",
       "cdate         0\n",
       "pricetype     0\n",
       "type          0\n",
       "t_1           0\n",
       "t_2           0\n",
       "dtype: int64"
      ]
     },
     "execution_count": 26,
     "metadata": {},
     "output_type": "execute_result"
    }
   ],
   "source": [
    "feature_df.isna().sum()"
   ]
  },
  {
   "cell_type": "code",
   "execution_count": 27,
   "metadata": {},
   "outputs": [],
   "source": [
    "X=feature_df[['type','t_1','t_1']].values"
   ]
  },
  {
   "cell_type": "code",
   "execution_count": 28,
   "metadata": {},
   "outputs": [
    {
     "data": {
      "text/plain": [
       "array([[  1., 155., 155.],\n",
       "       [  0.,  65.,  65.],\n",
       "       [  1.,  62.,  62.],\n",
       "       ...,\n",
       "       [  0.,  53.,  53.],\n",
       "       [  1., 155., 155.],\n",
       "       [  0., 145., 145.]])"
      ]
     },
     "execution_count": 28,
     "metadata": {},
     "output_type": "execute_result"
    }
   ],
   "source": [
    "X"
   ]
  },
  {
   "cell_type": "code",
   "execution_count": 29,
   "metadata": {},
   "outputs": [
    {
     "data": {
      "text/plain": [
       "array([[  1.,   1., 155., 155.],\n",
       "       [  1.,   0.,  65.,  65.],\n",
       "       [  1.,   1.,  62.,  62.],\n",
       "       ...,\n",
       "       [  1.,   0.,  53.,  53.],\n",
       "       [  1.,   1., 155., 155.],\n",
       "       [  1.,   0., 145., 145.]])"
      ]
     },
     "execution_count": 29,
     "metadata": {},
     "output_type": "execute_result"
    }
   ],
   "source": [
    "#insert bias term coefficient y=w0x0+w1x1+...\n",
    "X=np.insert(X,0,values=1,axis=1)\n",
    "X"
   ]
  },
  {
   "cell_type": "code",
   "execution_count": 30,
   "metadata": {},
   "outputs": [
    {
     "name": "stdout",
     "output_type": "stream",
     "text": [
      "(98822,)\n"
     ]
    }
   ],
   "source": [
    "y=feature_df['AvgPrice'].values\n",
    "print(y.shape)"
   ]
  },
  {
   "cell_type": "code",
   "execution_count": 31,
   "metadata": {},
   "outputs": [
    {
     "name": "stdout",
     "output_type": "stream",
     "text": [
      "total length of dataset:  98822\n",
      "train set: 59293\n",
      "validation set:  19764\n",
      "test set:  19765\n"
     ]
    }
   ],
   "source": [
    "#divide X,y into train,validate and test set\n",
    "total=len(X)\n",
    "train=int(0.6*total)\n",
    "val=int(0.2*total)\n",
    "\n",
    "X_train=X[:train]\n",
    "y_train=y[:train].reshape(-1,1)\n",
    "\n",
    "X_val=X[train:train+val]\n",
    "y_val=y[train:train+val].reshape(-1,1)\n",
    "\n",
    "X_test=X[train+val:]\n",
    "y_test=y[train+val:].reshape(-1,1)\n",
    "\n",
    "print(\"total length of dataset: \",total)\n",
    "print(\"train set:\",len(X_train))\n",
    "print(\"validation set: \",len(X_val))\n",
    "print(\"test set: \",len(y_test))"
   ]
  },
  {
   "cell_type": "markdown",
   "metadata": {},
   "source": [
    "## Min-Max Normalization"
   ]
  },
  {
   "cell_type": "markdown",
   "metadata": {},
   "source": [
    "Use min max from train set to normalize in validation and test sets! DO not calculate min max values separately for them "
   ]
  },
  {
   "cell_type": "code",
   "execution_count": 32,
   "metadata": {},
   "outputs": [],
   "source": [
    "price_X=X_train[:,2:]\n",
    "min_v=np.min(price_X)\n",
    "max_v=np.max(price_X)\n",
    "diff=max_v-min_v\n"
   ]
  },
  {
   "cell_type": "code",
   "execution_count": 33,
   "metadata": {},
   "outputs": [],
   "source": [
    "def min_max(dataset):\n",
    "    for i in range(0,dataset.shape[0]):\n",
    "        for j in range(2,dataset.shape[1]):\n",
    "            dataset[i][j]=(dataset[i][j]-min_v)/diff\n",
    "            \n",
    "    return dataset"
   ]
  },
  {
   "cell_type": "code",
   "execution_count": 34,
   "metadata": {},
   "outputs": [],
   "source": [
    "X_train=min_max(X_train)"
   ]
  },
  {
   "cell_type": "code",
   "execution_count": 35,
   "metadata": {},
   "outputs": [],
   "source": [
    "X_val=min_max(X_val)\n",
    "X_test=min_max(X_test)"
   ]
  },
  {
   "cell_type": "code",
   "execution_count": 36,
   "metadata": {},
   "outputs": [
    {
     "data": {
      "text/plain": [
       "array([[1.        , 0.        , 0.02227723, 0.02227723],\n",
       "       [1.        , 1.        , 0.14170792, 0.14170792],\n",
       "       [1.        , 1.        , 0.04084158, 0.04084158],\n",
       "       ...,\n",
       "       [1.        , 0.        , 0.02722772, 0.02722772],\n",
       "       [1.        , 1.        , 0.09034653, 0.09034653],\n",
       "       [1.        , 0.        , 0.08415842, 0.08415842]])"
      ]
     },
     "execution_count": 36,
     "metadata": {},
     "output_type": "execute_result"
    }
   ],
   "source": [
    "X_test"
   ]
  },
  {
   "cell_type": "markdown",
   "metadata": {},
   "source": [
    "## Model Building"
   ]
  },
  {
   "cell_type": "code",
   "execution_count": 37,
   "metadata": {},
   "outputs": [],
   "source": [
    "np.random.seed(42)"
   ]
  },
  {
   "cell_type": "code",
   "execution_count": 38,
   "metadata": {},
   "outputs": [],
   "source": [
    "params={\n",
    "    \"num_of_iterations\": 1000,\n",
    "    \"learning_rate\": 0.0001\n",
    "}\n",
    "\n",
    "grid_param={\n",
    "    \"num_of_iteration\":[1000,1500,2000,2500,3000],\n",
    "    \"learning_rate\":[0.001,0.1,0.01]\n",
    "}"
   ]
  },
  {
   "cell_type": "code",
   "execution_count": 39,
   "metadata": {},
   "outputs": [],
   "source": [
    "def MSE(h,y):\n",
    "    return np.average((h-y)**2)*0.5"
   ]
  },
  {
   "cell_type": "code",
   "execution_count": 52,
   "metadata": {},
   "outputs": [],
   "source": [
    "def train_model(X_train,y_train, X_val, y_val, param):\n",
    "    W=np.random.rand(X_train.shape[1]).reshape(-1,1)\n",
    "    train_error=[]\n",
    "    for i in range(1,param[\"num_of_iterations\"]):\n",
    "        h_train=np.matmul(X_train,W)\n",
    "        train_loss=MSE(h_train,y_train)\n",
    "        \n",
    "        train_error.append(train_loss)\n",
    "        \n",
    "        gradient=(np.matmul(np.transpose(X_train),(h_train-y_train)))/X_train.shape[0]\n",
    "        W-=params[\"learning_rate\"]*gradient\n",
    "        \n",
    "    h_val=np.matmul(X_val,W)\n",
    "    val_loss=MSE(h_val,y_val)        \n",
    "    print(param,val_loss)\n",
    "    return W \n",
    "        \n",
    "    "
   ]
  },
  {
   "cell_type": "markdown",
   "metadata": {},
   "source": [
    "**Hyperparameter tuning**"
   ]
  },
  {
   "cell_type": "code",
   "execution_count": 53,
   "metadata": {},
   "outputs": [],
   "source": [
    "import itertools"
   ]
  },
  {
   "cell_type": "code",
   "execution_count": 54,
   "metadata": {},
   "outputs": [
    {
     "data": {
      "text/plain": [
       "[(1000, 0.001),\n",
       " (1000, 0.1),\n",
       " (1000, 0.01),\n",
       " (1500, 0.001),\n",
       " (1500, 0.1),\n",
       " (1500, 0.01),\n",
       " (2000, 0.001),\n",
       " (2000, 0.1),\n",
       " (2000, 0.01),\n",
       " (2500, 0.001),\n",
       " (2500, 0.1),\n",
       " (2500, 0.01),\n",
       " (3000, 0.001),\n",
       " (3000, 0.1),\n",
       " (3000, 0.01)]"
      ]
     },
     "execution_count": 54,
     "metadata": {},
     "output_type": "execute_result"
    }
   ],
   "source": [
    "grid=list(itertools.product(grid_param[\"num_of_iteration\"],grid_param[\"learning_rate\"]))\n",
    "grid"
   ]
  },
  {
   "cell_type": "code",
   "execution_count": 55,
   "metadata": {},
   "outputs": [
    {
     "name": "stdout",
     "output_type": "stream",
     "text": [
      "{'num_of_iterations': 1000, 'learning_rate': 0.001} 7501.330314828222\n",
      "{'num_of_iterations': 1000, 'learning_rate': 0.1} 7508.912121882091\n",
      "{'num_of_iterations': 1000, 'learning_rate': 0.01} 7479.803745215304\n",
      "{'num_of_iterations': 1500, 'learning_rate': 0.001} 6959.2859660629965\n",
      "{'num_of_iterations': 1500, 'learning_rate': 0.1} 7000.354389202107\n",
      "{'num_of_iterations': 1500, 'learning_rate': 0.01} 6958.317246556802\n",
      "{'num_of_iterations': 2000, 'learning_rate': 0.001} 6525.889073852289\n",
      "{'num_of_iterations': 2000, 'learning_rate': 0.1} 6553.294110416852\n",
      "{'num_of_iterations': 2000, 'learning_rate': 0.01} 6574.786249838764\n",
      "{'num_of_iterations': 2500, 'learning_rate': 0.001} 6141.452891934064\n",
      "{'num_of_iterations': 2500, 'learning_rate': 0.1} 6189.210434724888\n",
      "{'num_of_iterations': 2500, 'learning_rate': 0.01} 6126.54793463996\n",
      "{'num_of_iterations': 3000, 'learning_rate': 0.001} 5808.760791049371\n",
      "{'num_of_iterations': 3000, 'learning_rate': 0.1} 5803.890185637807\n",
      "{'num_of_iterations': 3000, 'learning_rate': 0.01} 5832.508725176668\n"
     ]
    }
   ],
   "source": [
    "for g in grid:\n",
    "    p={\n",
    "        'num_of_iterations':g[0],\n",
    "        'learning_rate':g[1]\n",
    "    }\n",
    "    train_model(X_train,y_train,X_val,y_val,p)"
   ]
  },
  {
   "cell_type": "code",
   "execution_count": null,
   "metadata": {},
   "outputs": [],
   "source": []
  },
  {
   "cell_type": "markdown",
   "metadata": {},
   "source": [
    "**Model Evaluation**\n"
   ]
  },
  {
   "cell_type": "code",
   "execution_count": 64,
   "metadata": {},
   "outputs": [],
   "source": [
    "def r2_score(predicted,actual):\n",
    "    y_mean=np.mean(actual)\n",
    "    explained_variation=0\n",
    "    for i in predicted:\n",
    "        explained_variation+=(i-y_mean)**2\n",
    "    total_variation=0\n",
    "    for j in actual:\n",
    "        total_variation+=(j-y_mean)**2\n",
    "#     total_variation=np.square(actual-y_mean)\n",
    "    return explained_variation/total_variation\n",
    "    \n",
    "    "
   ]
  },
  {
   "cell_type": "code",
   "execution_count": 65,
   "metadata": {},
   "outputs": [
    {
     "name": "stdout",
     "output_type": "stream",
     "text": [
      "{'num_of_iterations': 3000, 'learning_rate': 0.1} 5842.374460578782\n"
     ]
    }
   ],
   "source": [
    "final_params={\n",
    "    'num_of_iterations':3000,\n",
    "    'learning_rate':0.1\n",
    "}\n",
    "final_weights=train_model(X_train,y_train,X_val,y_val,final_params)"
   ]
  },
  {
   "cell_type": "code",
   "execution_count": 66,
   "metadata": {},
   "outputs": [
    {
     "data": {
      "text/plain": [
       "array([[26.92567244],\n",
       "       [11.56601704],\n",
       "       [ 3.76728339],\n",
       "       [ 3.14757662]])"
      ]
     },
     "execution_count": 66,
     "metadata": {},
     "output_type": "execute_result"
    }
   ],
   "source": [
    "final_weights"
   ]
  },
  {
   "cell_type": "code",
   "execution_count": 67,
   "metadata": {},
   "outputs": [],
   "source": [
    "predicted=np.matmul(X_test,final_weights)"
   ]
  },
  {
   "cell_type": "code",
   "execution_count": 68,
   "metadata": {},
   "outputs": [
    {
     "data": {
      "text/plain": [
       "array([[27.07971635],\n",
       "       [39.47157992],\n",
       "       [38.77410332],\n",
       "       ...,\n",
       "       [27.11394833],\n",
       "       [39.11642312],\n",
       "       [27.5076161 ]])"
      ]
     },
     "execution_count": 68,
     "metadata": {},
     "output_type": "execute_result"
    }
   ],
   "source": [
    "predicted"
   ]
  },
  {
   "cell_type": "code",
   "execution_count": 69,
   "metadata": {},
   "outputs": [
    {
     "data": {
      "text/plain": [
       "array([0.28228102])"
      ]
     },
     "execution_count": 69,
     "metadata": {},
     "output_type": "execute_result"
    }
   ],
   "source": [
    "r2_score(predicted,y_train)"
   ]
  },
  {
   "cell_type": "code",
   "execution_count": null,
   "metadata": {},
   "outputs": [],
   "source": []
  }
 ],
 "metadata": {
  "kernelspec": {
   "display_name": "Python 3",
   "language": "python",
   "name": "python3"
  },
  "language_info": {
   "codemirror_mode": {
    "name": "ipython",
    "version": 3
   },
   "file_extension": ".py",
   "mimetype": "text/x-python",
   "name": "python",
   "nbconvert_exporter": "python",
   "pygments_lexer": "ipython3",
   "version": "3.6.9"
  }
 },
 "nbformat": 4,
 "nbformat_minor": 4
}
