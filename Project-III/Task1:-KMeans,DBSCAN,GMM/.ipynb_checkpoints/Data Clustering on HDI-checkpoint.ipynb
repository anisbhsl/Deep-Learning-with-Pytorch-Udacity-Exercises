{
 "cells": [
  {
   "cell_type": "markdown",
   "metadata": {},
   "source": [
    "## Project 3\n",
    "### Task 1\n",
    "### Data Clustering Based on Human Development Index \n",
    "\n",
    "Submitted By: Anish Bhusal (bhusal.anish12@gmail.com)\n",
    "\n",
    "**Clustering Algorithms used**\n",
    "1. KMeans\n",
    "2. DBSCAN\n",
    "3. Gaussian Mixture Model\n",
    "\n",
    "\n",
    "\n",
    "Notebook has been organized in following format:\n",
    "\n",
    "1. Data Cleaning\n",
    "2. Data Analysis and Visualization\n",
    "3. Data Pre-processing and feature selection\n",
    "4. K-Means (Approach Taken and Findings)\n",
    "5. DBSCAN (Approach Taken and Findings)\n",
    "6. GMM (Approach Taken and Findings)\n",
    "7. Conclusion"
   ]
  },
  {
   "cell_type": "markdown",
   "metadata": {},
   "source": [
    "*Import Necessary Libraries*"
   ]
  },
  {
   "cell_type": "code",
   "execution_count": 1,
   "metadata": {},
   "outputs": [],
   "source": [
    "import numpy as np\n",
    "import pandas as pd\n",
    "import matplotlib.pyplot as plt\n",
    "import seaborn as sns\n",
    "from sklearn.decomposition import PCA\n",
    "from sklearn.metrics import silhouette_score\n",
    "\n",
    "%matplotlib inline"
   ]
  },
  {
   "cell_type": "code",
   "execution_count": 2,
   "metadata": {},
   "outputs": [],
   "source": [
    "sns.set(style=\"whitegrid\")"
   ]
  },
  {
   "cell_type": "markdown",
   "metadata": {},
   "source": [
    "**Read Datasets**"
   ]
  },
  {
   "cell_type": "code",
   "execution_count": 3,
   "metadata": {},
   "outputs": [],
   "source": [
    "life_expectancy_income=pd.read_excel(\"../../data/Project-III/life-expectancy-income.xls\")\n",
    "literacy_rate_gender=pd.read_excel(\"../../data/Project-III/literacy-rates.xls\")\n",
    "education_level=pd.read_csv(\"../../data/Project-III/literate-population-aged-5-years-and-above-by-educational-attainment.csv\")\n",
    "federal_population=pd.read_csv(\"../../data/Project-III/total-population-by-sex-country-province-district-and-local-level-population.csv\")\n",
    "federal_units=pd.read_csv(\"../../data/Project-III/total-number-of-rural-municipality-and-municipality-and-ward-divisions-in-federal-structure-in-2.csv\")"
   ]
  },
  {
   "cell_type": "markdown",
   "metadata": {},
   "source": [
    "### 1. Data Cleaning \n"
   ]
  },
  {
   "cell_type": "markdown",
   "metadata": {},
   "source": [
    "*Let's see what's inside these datasets*\n",
    "\n",
    "**Cleaning life expectancy and income dataset**"
   ]
  },
  {
   "cell_type": "code",
   "execution_count": 4,
   "metadata": {},
   "outputs": [
    {
     "data": {
      "text/html": [
       "<div>\n",
       "<style scoped>\n",
       "    .dataframe tbody tr th:only-of-type {\n",
       "        vertical-align: middle;\n",
       "    }\n",
       "\n",
       "    .dataframe tbody tr th {\n",
       "        vertical-align: top;\n",
       "    }\n",
       "\n",
       "    .dataframe thead th {\n",
       "        text-align: right;\n",
       "    }\n",
       "</style>\n",
       "<table border=\"1\" class=\"dataframe\">\n",
       "  <thead>\n",
       "    <tr style=\"text-align: right;\">\n",
       "      <th></th>\n",
       "      <th>District</th>\n",
       "      <th>Life expectancy(In Years)</th>\n",
       "      <th>Per Capita Income(In USD)</th>\n",
       "    </tr>\n",
       "  </thead>\n",
       "  <tbody>\n",
       "    <tr>\n",
       "      <th>0</th>\n",
       "      <td>Ramechhap</td>\n",
       "      <td>72.90</td>\n",
       "      <td>951</td>\n",
       "    </tr>\n",
       "    <tr>\n",
       "      <th>1</th>\n",
       "      <td>Gorkha</td>\n",
       "      <td>71.70</td>\n",
       "      <td>1039</td>\n",
       "    </tr>\n",
       "    <tr>\n",
       "      <th>2</th>\n",
       "      <td>Saptari</td>\n",
       "      <td>71.34</td>\n",
       "      <td>801</td>\n",
       "    </tr>\n",
       "    <tr>\n",
       "      <th>3</th>\n",
       "      <td>Siraha</td>\n",
       "      <td>71.29</td>\n",
       "      <td>689</td>\n",
       "    </tr>\n",
       "    <tr>\n",
       "      <th>4</th>\n",
       "      <td>Rautahat</td>\n",
       "      <td>70.99</td>\n",
       "      <td>757</td>\n",
       "    </tr>\n",
       "  </tbody>\n",
       "</table>\n",
       "</div>"
      ],
      "text/plain": [
       "    District  Life expectancy(In Years)  Per Capita Income(In USD)\n",
       "0  Ramechhap                      72.90                        951\n",
       "1     Gorkha                      71.70                       1039\n",
       "2    Saptari                      71.34                        801\n",
       "3     Siraha                      71.29                        689\n",
       "4   Rautahat                      70.99                        757"
      ]
     },
     "execution_count": 4,
     "metadata": {},
     "output_type": "execute_result"
    }
   ],
   "source": [
    "life_expectancy_income.head()"
   ]
  },
  {
   "cell_type": "code",
   "execution_count": 5,
   "metadata": {},
   "outputs": [
    {
     "data": {
      "text/plain": [
       "(75, 3)"
      ]
     },
     "execution_count": 5,
     "metadata": {},
     "output_type": "execute_result"
    }
   ],
   "source": [
    "life_expectancy_income.shape"
   ]
  },
  {
   "cell_type": "code",
   "execution_count": 6,
   "metadata": {},
   "outputs": [
    {
     "data": {
      "text/plain": [
       "District                      object\n",
       "Life expectancy(In Years)    float64\n",
       "Per Capita Income(In USD)      int64\n",
       "dtype: object"
      ]
     },
     "execution_count": 6,
     "metadata": {},
     "output_type": "execute_result"
    }
   ],
   "source": [
    "life_expectancy_income.dtypes"
   ]
  },
  {
   "cell_type": "markdown",
   "metadata": {},
   "source": [
    "Check for NaN"
   ]
  },
  {
   "cell_type": "code",
   "execution_count": 7,
   "metadata": {},
   "outputs": [
    {
     "data": {
      "text/plain": [
       "District                     0\n",
       "Life expectancy(In Years)    0\n",
       "Per Capita Income(In USD)    0\n",
       "dtype: int64"
      ]
     },
     "execution_count": 7,
     "metadata": {},
     "output_type": "execute_result"
    }
   ],
   "source": [
    "life_expectancy_income.isna().sum()"
   ]
  },
  {
   "cell_type": "markdown",
   "metadata": {},
   "source": [
    "Per Capita Income column contains string formatted data. Lets convert it into numerical form"
   ]
  },
  {
   "cell_type": "code",
   "execution_count": 8,
   "metadata": {},
   "outputs": [],
   "source": [
    "# import re \n",
    "# def clean_per_capita_income(dataset):        \n",
    "#     return int(''.join(re.findall(\"[0-9]+\",dataset)))\n",
    "# life_expectancy_income[\"Per Capita Income(In USD)\"]=life_expectancy_income[\"Per Capita Income(In USD)\"].apply(clean_per_capita_income)\n",
    "        "
   ]
  },
  {
   "cell_type": "markdown",
   "metadata": {},
   "source": [
    "**Cleaning Literacy Rate by Gender dataset**"
   ]
  },
  {
   "cell_type": "code",
   "execution_count": 9,
   "metadata": {},
   "outputs": [
    {
     "data": {
      "text/html": [
       "<div>\n",
       "<style scoped>\n",
       "    .dataframe tbody tr th:only-of-type {\n",
       "        vertical-align: middle;\n",
       "    }\n",
       "\n",
       "    .dataframe tbody tr th {\n",
       "        vertical-align: top;\n",
       "    }\n",
       "\n",
       "    .dataframe thead th {\n",
       "        text-align: right;\n",
       "    }\n",
       "</style>\n",
       "<table border=\"1\" class=\"dataframe\">\n",
       "  <thead>\n",
       "    <tr style=\"text-align: right;\">\n",
       "      <th></th>\n",
       "      <th>District</th>\n",
       "      <th>Total</th>\n",
       "      <th>Female</th>\n",
       "      <th>Male</th>\n",
       "      <th>Year</th>\n",
       "    </tr>\n",
       "  </thead>\n",
       "  <tbody>\n",
       "    <tr>\n",
       "      <th>0</th>\n",
       "      <td>Kathmandu</td>\n",
       "      <td>86.3</td>\n",
       "      <td>79.8</td>\n",
       "      <td>92.2</td>\n",
       "      <td>2013</td>\n",
       "    </tr>\n",
       "    <tr>\n",
       "      <th>1</th>\n",
       "      <td>Lalitpur</td>\n",
       "      <td>82.5</td>\n",
       "      <td>74.7</td>\n",
       "      <td>90.1</td>\n",
       "      <td>2013</td>\n",
       "    </tr>\n",
       "    <tr>\n",
       "      <th>2</th>\n",
       "      <td>Kaski</td>\n",
       "      <td>82.4</td>\n",
       "      <td>75.4</td>\n",
       "      <td>90.1</td>\n",
       "      <td>2013</td>\n",
       "    </tr>\n",
       "    <tr>\n",
       "      <th>3</th>\n",
       "      <td>Bhaktapur</td>\n",
       "      <td>81.7</td>\n",
       "      <td>72.7</td>\n",
       "      <td>90.5</td>\n",
       "      <td>2013</td>\n",
       "    </tr>\n",
       "    <tr>\n",
       "      <th>4</th>\n",
       "      <td>Ilam</td>\n",
       "      <td>77.9</td>\n",
       "      <td>72.0</td>\n",
       "      <td>84.2</td>\n",
       "      <td>2013</td>\n",
       "    </tr>\n",
       "  </tbody>\n",
       "</table>\n",
       "</div>"
      ],
      "text/plain": [
       "     District  Total  Female  Male  Year\n",
       "0  Kathmandu    86.3    79.8  92.2  2013\n",
       "1   Lalitpur    82.5    74.7  90.1  2013\n",
       "2      Kaski    82.4    75.4  90.1  2013\n",
       "3  Bhaktapur    81.7    72.7  90.5  2013\n",
       "4       Ilam    77.9    72.0  84.2  2013"
      ]
     },
     "execution_count": 9,
     "metadata": {},
     "output_type": "execute_result"
    }
   ],
   "source": [
    "literacy_rate_gender.head()"
   ]
  },
  {
   "cell_type": "code",
   "execution_count": 10,
   "metadata": {},
   "outputs": [
    {
     "data": {
      "text/plain": [
       "(75, 5)"
      ]
     },
     "execution_count": 10,
     "metadata": {},
     "output_type": "execute_result"
    }
   ],
   "source": [
    "literacy_rate_gender.shape"
   ]
  },
  {
   "cell_type": "code",
   "execution_count": 11,
   "metadata": {},
   "outputs": [
    {
     "data": {
      "text/plain": [
       "District     object\n",
       "Total       float64\n",
       "Female      float64\n",
       "Male        float64\n",
       "Year          int64\n",
       "dtype: object"
      ]
     },
     "execution_count": 11,
     "metadata": {},
     "output_type": "execute_result"
    }
   ],
   "source": [
    "literacy_rate_gender.dtypes"
   ]
  },
  {
   "cell_type": "code",
   "execution_count": 12,
   "metadata": {},
   "outputs": [
    {
     "data": {
      "text/plain": [
       "District    0\n",
       "Total       0\n",
       "Female      0\n",
       "Male        0\n",
       "Year        0\n",
       "dtype: int64"
      ]
     },
     "execution_count": 12,
     "metadata": {},
     "output_type": "execute_result"
    }
   ],
   "source": [
    "literacy_rate_gender.isna().sum()"
   ]
  },
  {
   "cell_type": "markdown",
   "metadata": {},
   "source": [
    "There are no NaN values.\n",
    "\n",
    "*Year* column has same value i.e. 2013. Dropping the column."
   ]
  },
  {
   "cell_type": "code",
   "execution_count": 13,
   "metadata": {},
   "outputs": [],
   "source": [
    "literacy_rate_gender.drop(columns=['Year'],inplace=True)"
   ]
  },
  {
   "cell_type": "markdown",
   "metadata": {},
   "source": [
    "**Cleaning education level for people older than 5 years dataset**"
   ]
  },
  {
   "cell_type": "code",
   "execution_count": 14,
   "metadata": {},
   "outputs": [
    {
     "data": {
      "text/html": [
       "<div>\n",
       "<style scoped>\n",
       "    .dataframe tbody tr th:only-of-type {\n",
       "        vertical-align: middle;\n",
       "    }\n",
       "\n",
       "    .dataframe tbody tr th {\n",
       "        vertical-align: top;\n",
       "    }\n",
       "\n",
       "    .dataframe thead th {\n",
       "        text-align: right;\n",
       "    }\n",
       "</style>\n",
       "<table border=\"1\" class=\"dataframe\">\n",
       "  <thead>\n",
       "    <tr style=\"text-align: right;\">\n",
       "      <th></th>\n",
       "      <th>Province</th>\n",
       "      <th>Sex</th>\n",
       "      <th>Total</th>\n",
       "      <th>Population that have completed the educational level of Beginner</th>\n",
       "      <th>Population that have completed the educational level of Primary\\n(1-5)</th>\n",
       "      <th>Population that have completed the educational level of Lower secondary (6 -8)</th>\n",
       "      <th>Population that have completed the educational level of Secondary\\n(9 -10)</th>\n",
       "      <th>Population that have completed the educational level of S.L.C. &amp; equiv.</th>\n",
       "      <th>Population that have completed the educational level of Inter- mediate &amp; equiv.</th>\n",
       "      <th>Population that have completed the educational level of Graduate\\n&amp; equiv.</th>\n",
       "      <th>Population that have completed the educational level of Post Graduate\\nequiv.  &amp; above</th>\n",
       "      <th>Others</th>\n",
       "      <th>Non- formal education</th>\n",
       "      <th>Level not stated</th>\n",
       "    </tr>\n",
       "  </thead>\n",
       "  <tbody>\n",
       "    <tr>\n",
       "      <th>0</th>\n",
       "      <td>Province 1</td>\n",
       "      <td>Both Sex</td>\n",
       "      <td>2988776</td>\n",
       "      <td>99806</td>\n",
       "      <td>1120561</td>\n",
       "      <td>633306</td>\n",
       "      <td>398192</td>\n",
       "      <td>356169</td>\n",
       "      <td>150936</td>\n",
       "      <td>58514</td>\n",
       "      <td>15921</td>\n",
       "      <td>1296</td>\n",
       "      <td>143515</td>\n",
       "      <td>10560</td>\n",
       "    </tr>\n",
       "    <tr>\n",
       "      <th>1</th>\n",
       "      <td>Province 1</td>\n",
       "      <td>Male</td>\n",
       "      <td>1578675</td>\n",
       "      <td>52926</td>\n",
       "      <td>592289</td>\n",
       "      <td>325131</td>\n",
       "      <td>205382</td>\n",
       "      <td>185536</td>\n",
       "      <td>85278</td>\n",
       "      <td>40844</td>\n",
       "      <td>12600</td>\n",
       "      <td>746</td>\n",
       "      <td>72464</td>\n",
       "      <td>5479</td>\n",
       "    </tr>\n",
       "    <tr>\n",
       "      <th>2</th>\n",
       "      <td>Province 1</td>\n",
       "      <td>Female</td>\n",
       "      <td>1410101</td>\n",
       "      <td>46880</td>\n",
       "      <td>528272</td>\n",
       "      <td>308175</td>\n",
       "      <td>192810</td>\n",
       "      <td>170633</td>\n",
       "      <td>65658</td>\n",
       "      <td>17670</td>\n",
       "      <td>3321</td>\n",
       "      <td>550</td>\n",
       "      <td>71051</td>\n",
       "      <td>5081</td>\n",
       "    </tr>\n",
       "    <tr>\n",
       "      <th>3</th>\n",
       "      <td>Province 2</td>\n",
       "      <td>Both Sex</td>\n",
       "      <td>2428176</td>\n",
       "      <td>72057</td>\n",
       "      <td>1089642</td>\n",
       "      <td>485560</td>\n",
       "      <td>267899</td>\n",
       "      <td>228383</td>\n",
       "      <td>142694</td>\n",
       "      <td>62100</td>\n",
       "      <td>14703</td>\n",
       "      <td>5593</td>\n",
       "      <td>37049</td>\n",
       "      <td>22496</td>\n",
       "    </tr>\n",
       "    <tr>\n",
       "      <th>4</th>\n",
       "      <td>Province 2</td>\n",
       "      <td>Male</td>\n",
       "      <td>1476232</td>\n",
       "      <td>40493</td>\n",
       "      <td>613570</td>\n",
       "      <td>297429</td>\n",
       "      <td>178390</td>\n",
       "      <td>152063</td>\n",
       "      <td>97277</td>\n",
       "      <td>47990</td>\n",
       "      <td>12284</td>\n",
       "      <td>2941</td>\n",
       "      <td>20970</td>\n",
       "      <td>12825</td>\n",
       "    </tr>\n",
       "  </tbody>\n",
       "</table>\n",
       "</div>"
      ],
      "text/plain": [
       "     Province       Sex    Total  \\\n",
       "0  Province 1  Both Sex  2988776   \n",
       "1  Province 1      Male  1578675   \n",
       "2  Province 1    Female  1410101   \n",
       "3  Province 2  Both Sex  2428176   \n",
       "4  Province 2      Male  1476232   \n",
       "\n",
       "   Population that have completed the educational level of Beginner  \\\n",
       "0                                              99806                  \n",
       "1                                              52926                  \n",
       "2                                              46880                  \n",
       "3                                              72057                  \n",
       "4                                              40493                  \n",
       "\n",
       "   Population that have completed the educational level of Primary\\n(1-5)  \\\n",
       "0                                            1120561                        \n",
       "1                                             592289                        \n",
       "2                                             528272                        \n",
       "3                                            1089642                        \n",
       "4                                             613570                        \n",
       "\n",
       "   Population that have completed the educational level of Lower secondary (6 -8)  \\\n",
       "0                                             633306                                \n",
       "1                                             325131                                \n",
       "2                                             308175                                \n",
       "3                                             485560                                \n",
       "4                                             297429                                \n",
       "\n",
       "   Population that have completed the educational level of Secondary\\n(9 -10)  \\\n",
       "0                                             398192                            \n",
       "1                                             205382                            \n",
       "2                                             192810                            \n",
       "3                                             267899                            \n",
       "4                                             178390                            \n",
       "\n",
       "   Population that have completed the educational level of S.L.C. & equiv.  \\\n",
       "0                                             356169                         \n",
       "1                                             185536                         \n",
       "2                                             170633                         \n",
       "3                                             228383                         \n",
       "4                                             152063                         \n",
       "\n",
       "   Population that have completed the educational level of Inter- mediate & equiv.  \\\n",
       "0                                             150936                                 \n",
       "1                                              85278                                 \n",
       "2                                              65658                                 \n",
       "3                                             142694                                 \n",
       "4                                              97277                                 \n",
       "\n",
       "   Population that have completed the educational level of Graduate\\n& equiv.  \\\n",
       "0                                              58514                            \n",
       "1                                              40844                            \n",
       "2                                              17670                            \n",
       "3                                              62100                            \n",
       "4                                              47990                            \n",
       "\n",
       "   Population that have completed the educational level of Post Graduate\\nequiv.  & above  \\\n",
       "0                                              15921                                        \n",
       "1                                              12600                                        \n",
       "2                                               3321                                        \n",
       "3                                              14703                                        \n",
       "4                                              12284                                        \n",
       "\n",
       "   Others Non- formal education  Level not stated  \n",
       "0    1296                143515             10560  \n",
       "1     746                 72464              5479  \n",
       "2     550                 71051              5081  \n",
       "3    5593                 37049             22496  \n",
       "4    2941                 20970             12825  "
      ]
     },
     "execution_count": 14,
     "metadata": {},
     "output_type": "execute_result"
    }
   ],
   "source": [
    "education_level.head()"
   ]
  },
  {
   "cell_type": "code",
   "execution_count": 15,
   "metadata": {},
   "outputs": [
    {
     "name": "stdout",
     "output_type": "stream",
     "text": [
      "Shape of dataset => (24, 14)\n",
      "<bound method Series.unique of 0     Province 1\n",
      "1     Province 1\n",
      "2     Province 1\n",
      "3     Province 2\n",
      "4     Province 2\n",
      "5     Province 2\n",
      "6     Province 3\n",
      "7     Province 3\n",
      "8     Province 3\n",
      "9        Gandaki\n",
      "10       Gandaki\n",
      "11       Gandaki\n",
      "12    Province 5\n",
      "13    Province 5\n",
      "14    Province 5\n",
      "15       Karnali\n",
      "16       Karnali\n",
      "17       Karnali\n",
      "18    Province 7\n",
      "19    Province 7\n",
      "20    Province 7\n",
      "21         Nepal\n",
      "22         Nepal\n",
      "23         Nepal\n",
      "Name: Province, dtype: object>\n"
     ]
    }
   ],
   "source": [
    "print(\"Shape of dataset => {}\".format(education_level.shape))\n",
    "print(education_level[\"Province\"].unique)"
   ]
  },
  {
   "cell_type": "markdown",
   "metadata": {},
   "source": [
    "There are altogether 24 columns and data for 7 provinces and data for whole country"
   ]
  },
  {
   "cell_type": "code",
   "execution_count": 16,
   "metadata": {},
   "outputs": [
    {
     "data": {
      "text/plain": [
       "Province                                                                                  0\n",
       "Sex                                                                                       0\n",
       "Total                                                                                     0\n",
       "Population that have completed the educational level of Beginner                          0\n",
       "Population that have completed the educational level of Primary\\n(1-5)                    0\n",
       "Population that have completed the educational level of Lower secondary (6 -8)            0\n",
       "Population that have completed the educational level of Secondary\\n(9 -10)                0\n",
       "Population that have completed the educational level of S.L.C. & equiv.                   0\n",
       "Population that have completed the educational level of Inter- mediate & equiv.           0\n",
       "Population that have completed the educational level of Graduate\\n& equiv.                0\n",
       "Population that have completed the educational level of Post Graduate\\nequiv.  & above    0\n",
       "Others                                                                                    0\n",
       "Non- formal education                                                                     0\n",
       "Level not stated                                                                          0\n",
       "dtype: int64"
      ]
     },
     "execution_count": 16,
     "metadata": {},
     "output_type": "execute_result"
    }
   ],
   "source": [
    "education_level.isna().sum()"
   ]
  },
  {
   "cell_type": "markdown",
   "metadata": {},
   "source": [
    "There are no NaN values "
   ]
  },
  {
   "cell_type": "markdown",
   "metadata": {},
   "source": [
    "**Cleaning federal population dataset**"
   ]
  },
  {
   "cell_type": "code",
   "execution_count": 17,
   "metadata": {},
   "outputs": [
    {
     "data": {
      "text/html": [
       "<div>\n",
       "<style scoped>\n",
       "    .dataframe tbody tr th:only-of-type {\n",
       "        vertical-align: middle;\n",
       "    }\n",
       "\n",
       "    .dataframe tbody tr th {\n",
       "        vertical-align: top;\n",
       "    }\n",
       "\n",
       "    .dataframe thead th {\n",
       "        text-align: right;\n",
       "    }\n",
       "</style>\n",
       "<table border=\"1\" class=\"dataframe\">\n",
       "  <thead>\n",
       "    <tr style=\"text-align: right;\">\n",
       "      <th></th>\n",
       "      <th>Name\\n</th>\n",
       "      <th>year</th>\n",
       "      <th>parent_level</th>\n",
       "      <th>geo_level</th>\n",
       "      <th>parent_code</th>\n",
       "      <th>sex</th>\n",
       "      <th>population</th>\n",
       "    </tr>\n",
       "  </thead>\n",
       "  <tbody>\n",
       "    <tr>\n",
       "      <th>0</th>\n",
       "      <td>Nepal</td>\n",
       "      <td>2016</td>\n",
       "      <td>-</td>\n",
       "      <td>country</td>\n",
       "      <td>-</td>\n",
       "      <td>female</td>\n",
       "      <td>13645463</td>\n",
       "    </tr>\n",
       "    <tr>\n",
       "      <th>1</th>\n",
       "      <td>Nepal</td>\n",
       "      <td>2016</td>\n",
       "      <td>-</td>\n",
       "      <td>country</td>\n",
       "      <td>-</td>\n",
       "      <td>male</td>\n",
       "      <td>12849041</td>\n",
       "    </tr>\n",
       "    <tr>\n",
       "      <th>2</th>\n",
       "      <td>Province No. 1</td>\n",
       "      <td>2016</td>\n",
       "      <td>country</td>\n",
       "      <td>province</td>\n",
       "      <td>NP</td>\n",
       "      <td>female</td>\n",
       "      <td>2368407</td>\n",
       "    </tr>\n",
       "    <tr>\n",
       "      <th>3</th>\n",
       "      <td>Province No. 1</td>\n",
       "      <td>2016</td>\n",
       "      <td>country</td>\n",
       "      <td>province</td>\n",
       "      <td>NP</td>\n",
       "      <td>male</td>\n",
       "      <td>2166536</td>\n",
       "    </tr>\n",
       "    <tr>\n",
       "      <th>4</th>\n",
       "      <td>Province No. 2</td>\n",
       "      <td>2016</td>\n",
       "      <td>country</td>\n",
       "      <td>province</td>\n",
       "      <td>NP</td>\n",
       "      <td>female</td>\n",
       "      <td>2686207</td>\n",
       "    </tr>\n",
       "  </tbody>\n",
       "</table>\n",
       "</div>"
      ],
      "text/plain": [
       "           Name\\n  year parent_level geo_level parent_code     sex  population\n",
       "0           Nepal  2016            -   country           -  female    13645463\n",
       "1           Nepal  2016            -   country           -    male    12849041\n",
       "2  Province No. 1  2016      country  province          NP  female     2368407\n",
       "3  Province No. 1  2016      country  province          NP    male     2166536\n",
       "4  Province No. 2  2016      country  province          NP  female     2686207"
      ]
     },
     "execution_count": 17,
     "metadata": {},
     "output_type": "execute_result"
    }
   ],
   "source": [
    "federal_population.head()"
   ]
  },
  {
   "cell_type": "code",
   "execution_count": 18,
   "metadata": {},
   "outputs": [
    {
     "data": {
      "text/plain": [
       "(1718, 7)"
      ]
     },
     "execution_count": 18,
     "metadata": {},
     "output_type": "execute_result"
    }
   ],
   "source": [
    "federal_population.shape"
   ]
  },
  {
   "cell_type": "code",
   "execution_count": 19,
   "metadata": {},
   "outputs": [
    {
     "data": {
      "text/plain": [
       "array([2016])"
      ]
     },
     "execution_count": 19,
     "metadata": {},
     "output_type": "execute_result"
    }
   ],
   "source": [
    "federal_population['year'].unique()"
   ]
  },
  {
   "cell_type": "markdown",
   "metadata": {},
   "source": [
    "The dataset contains the population of whole nation and by federal level for year 2016 only. \n",
    "\n",
    "**Cleaning number of federal units dataset**"
   ]
  },
  {
   "cell_type": "code",
   "execution_count": 20,
   "metadata": {},
   "outputs": [
    {
     "data": {
      "text/html": [
       "<div>\n",
       "<style scoped>\n",
       "    .dataframe tbody tr th:only-of-type {\n",
       "        vertical-align: middle;\n",
       "    }\n",
       "\n",
       "    .dataframe tbody tr th {\n",
       "        vertical-align: top;\n",
       "    }\n",
       "\n",
       "    .dataframe thead th {\n",
       "        text-align: right;\n",
       "    }\n",
       "</style>\n",
       "<table border=\"1\" class=\"dataframe\">\n",
       "  <thead>\n",
       "    <tr style=\"text-align: right;\">\n",
       "      <th></th>\n",
       "      <th>District</th>\n",
       "      <th>Metropolitan (Numbers)</th>\n",
       "      <th>Metropolitan (No of Wards)</th>\n",
       "      <th>Sub Metropolitan(Numbers)</th>\n",
       "      <th>Sub Metropolitan(No of Wards)</th>\n",
       "      <th>Municipality(Numbers)</th>\n",
       "      <th>Municipality(No of Wards)</th>\n",
       "      <th>Rural Municipality(Numbers)</th>\n",
       "      <th>Rural Municipality(No of Wards)</th>\n",
       "      <th>Total Units</th>\n",
       "      <th>Total No of Wards</th>\n",
       "    </tr>\n",
       "  </thead>\n",
       "  <tbody>\n",
       "    <tr>\n",
       "      <th>0</th>\n",
       "      <td>Taplejung</td>\n",
       "      <td>0</td>\n",
       "      <td>0.0</td>\n",
       "      <td>0</td>\n",
       "      <td>0</td>\n",
       "      <td>1</td>\n",
       "      <td>11</td>\n",
       "      <td>8</td>\n",
       "      <td>50</td>\n",
       "      <td>9</td>\n",
       "      <td>61</td>\n",
       "    </tr>\n",
       "    <tr>\n",
       "      <th>1</th>\n",
       "      <td>Panchthar</td>\n",
       "      <td>0</td>\n",
       "      <td>0.0</td>\n",
       "      <td>0</td>\n",
       "      <td>0</td>\n",
       "      <td>1</td>\n",
       "      <td>14</td>\n",
       "      <td>7</td>\n",
       "      <td>46</td>\n",
       "      <td>8</td>\n",
       "      <td>60</td>\n",
       "    </tr>\n",
       "    <tr>\n",
       "      <th>2</th>\n",
       "      <td>Ilam</td>\n",
       "      <td>0</td>\n",
       "      <td>0.0</td>\n",
       "      <td>0</td>\n",
       "      <td>0</td>\n",
       "      <td>4</td>\n",
       "      <td>45</td>\n",
       "      <td>6</td>\n",
       "      <td>36</td>\n",
       "      <td>10</td>\n",
       "      <td>81</td>\n",
       "    </tr>\n",
       "    <tr>\n",
       "      <th>3</th>\n",
       "      <td>Jhapa</td>\n",
       "      <td>0</td>\n",
       "      <td>0.0</td>\n",
       "      <td>0</td>\n",
       "      <td>0</td>\n",
       "      <td>8</td>\n",
       "      <td>85</td>\n",
       "      <td>7</td>\n",
       "      <td>46</td>\n",
       "      <td>15</td>\n",
       "      <td>131</td>\n",
       "    </tr>\n",
       "    <tr>\n",
       "      <th>4</th>\n",
       "      <td>Morang</td>\n",
       "      <td>1</td>\n",
       "      <td>19.0</td>\n",
       "      <td>0</td>\n",
       "      <td>0</td>\n",
       "      <td>8</td>\n",
       "      <td>79</td>\n",
       "      <td>8</td>\n",
       "      <td>61</td>\n",
       "      <td>17</td>\n",
       "      <td>159</td>\n",
       "    </tr>\n",
       "  </tbody>\n",
       "</table>\n",
       "</div>"
      ],
      "text/plain": [
       "    District  Metropolitan (Numbers)  Metropolitan (No of Wards)  \\\n",
       "0  Taplejung                       0                         0.0   \n",
       "1  Panchthar                       0                         0.0   \n",
       "2       Ilam                       0                         0.0   \n",
       "3      Jhapa                       0                         0.0   \n",
       "4     Morang                       1                        19.0   \n",
       "\n",
       "   Sub Metropolitan(Numbers)  Sub Metropolitan(No of Wards)  \\\n",
       "0                          0                              0   \n",
       "1                          0                              0   \n",
       "2                          0                              0   \n",
       "3                          0                              0   \n",
       "4                          0                              0   \n",
       "\n",
       "   Municipality(Numbers) Municipality(No of Wards)  \\\n",
       "0                      1                        11   \n",
       "1                      1                        14   \n",
       "2                      4                        45   \n",
       "3                      8                        85   \n",
       "4                      8                        79   \n",
       "\n",
       "   Rural Municipality(Numbers) Rural Municipality(No of Wards)  Total Units  \\\n",
       "0                            8                              50            9   \n",
       "1                            7                              46            8   \n",
       "2                            6                              36           10   \n",
       "3                            7                              46           15   \n",
       "4                            8                              61           17   \n",
       "\n",
       "  Total No of Wards  \n",
       "0                61  \n",
       "1                60  \n",
       "2                81  \n",
       "3               131  \n",
       "4               159  "
      ]
     },
     "execution_count": 20,
     "metadata": {},
     "output_type": "execute_result"
    }
   ],
   "source": [
    "federal_units.head()"
   ]
  },
  {
   "cell_type": "code",
   "execution_count": 21,
   "metadata": {},
   "outputs": [
    {
     "data": {
      "text/plain": [
       "District                            object\n",
       "Metropolitan (Numbers)               int64\n",
       "Metropolitan (No of Wards)         float64\n",
       "Sub Metropolitan(Numbers)            int64\n",
       "Sub Metropolitan(No of Wards)        int64\n",
       "Municipality(Numbers)                int64\n",
       "Municipality(No of Wards)           object\n",
       "Rural Municipality(Numbers)          int64\n",
       "Rural Municipality(No of Wards)     object\n",
       "Total Units                          int64\n",
       "Total No of Wards                   object\n",
       "dtype: object"
      ]
     },
     "execution_count": 21,
     "metadata": {},
     "output_type": "execute_result"
    }
   ],
   "source": [
    "federal_units.dtypes"
   ]
  },
  {
   "cell_type": "code",
   "execution_count": 22,
   "metadata": {},
   "outputs": [
    {
     "data": {
      "text/plain": [
       "(78, 11)"
      ]
     },
     "execution_count": 22,
     "metadata": {},
     "output_type": "execute_result"
    }
   ],
   "source": [
    "federal_units.shape"
   ]
  },
  {
   "cell_type": "code",
   "execution_count": 23,
   "metadata": {},
   "outputs": [
    {
     "data": {
      "text/plain": [
       "array(['Taplejung', 'Panchthar', 'Ilam', 'Jhapa', 'Morang', 'Sunsari',\n",
       "       'Dhankuta', 'Tehathum', 'Sankhuwasabha', 'Bhojpur', 'Solukhumbu',\n",
       "       'Okhaldhung', 'Khotang', 'Udayapur', 'Saptari', 'Siraha',\n",
       "       'Dhanusa', 'Mahottari', 'Sarlahi', 'Rautahat', 'Bara', 'Parsa',\n",
       "       'Sindhuli', 'Ramechap', 'Dolakha', 'Sindhupalchowk',\n",
       "       'Kavrepalanchowk', 'Lalitpur', 'Bhaktapur', 'Kathmandu', 'Rasuwa',\n",
       "       'Nuwakot', 'Dhading', 'Makawanpur', 'Chitawan', 'Gorkha',\n",
       "       'Lamjung', 'Tanahu', 'Syanjha', 'Kaski', 'Manang', 'Mustang',\n",
       "       'Myagdhi', 'Parbat', 'Baglung', 'Nawalparasi Bardaghat Susta East',\n",
       "       'Gulmi', 'Palpa', 'Nawalparasi Bardadhghat Susta west',\n",
       "       'Rupandehi', 'Kapilbastu', 'Arghakhanchi', 'Pyuthan', 'Rolpa',\n",
       "       'Rukum East', 'Dang', 'Banke', 'Bardiya', 'Salyan', 'Rukum West',\n",
       "       'Surkhet', 'Dailekh', 'Jajarkot', 'Dolpa', 'Jumla', 'Kalikot',\n",
       "       'Mugu', 'Humla', 'Bajura', 'Bajhang', 'Achham', 'Doti', 'Kailali',\n",
       "       'Kanchanpur', 'Dadeldhura', 'Baitadi', 'Darchula', 'Total'],\n",
       "      dtype=object)"
      ]
     },
     "execution_count": 23,
     "metadata": {},
     "output_type": "execute_result"
    }
   ],
   "source": [
    "federal_units['District'].unique()"
   ]
  },
  {
   "cell_type": "markdown",
   "metadata": {},
   "source": [
    "The last row contains total of all fed units."
   ]
  },
  {
   "cell_type": "markdown",
   "metadata": {},
   "source": [
    "### 2. Data Analysis and Visualization\n"
   ]
  },
  {
   "cell_type": "markdown",
   "metadata": {},
   "source": [
    "Let's find maximum and minimum values for life_expectancy and per_capita income"
   ]
  },
  {
   "cell_type": "code",
   "execution_count": 24,
   "metadata": {},
   "outputs": [
    {
     "data": {
      "text/html": [
       "<div>\n",
       "<style scoped>\n",
       "    .dataframe tbody tr th:only-of-type {\n",
       "        vertical-align: middle;\n",
       "    }\n",
       "\n",
       "    .dataframe tbody tr th {\n",
       "        vertical-align: top;\n",
       "    }\n",
       "\n",
       "    .dataframe thead th {\n",
       "        text-align: right;\n",
       "    }\n",
       "</style>\n",
       "<table border=\"1\" class=\"dataframe\">\n",
       "  <thead>\n",
       "    <tr style=\"text-align: right;\">\n",
       "      <th></th>\n",
       "      <th>District</th>\n",
       "      <th>Life expectancy(In Years)</th>\n",
       "      <th>Per Capita Income(In USD)</th>\n",
       "    </tr>\n",
       "  </thead>\n",
       "  <tbody>\n",
       "    <tr>\n",
       "      <th>0</th>\n",
       "      <td>Ramechhap</td>\n",
       "      <td>72.9</td>\n",
       "      <td>951</td>\n",
       "    </tr>\n",
       "  </tbody>\n",
       "</table>\n",
       "</div>"
      ],
      "text/plain": [
       "    District  Life expectancy(In Years)  Per Capita Income(In USD)\n",
       "0  Ramechhap                       72.9                        951"
      ]
     },
     "execution_count": 24,
     "metadata": {},
     "output_type": "execute_result"
    }
   ],
   "source": [
    "life_expectancy_income[life_expectancy_income['Life expectancy(In Years)']==max(life_expectancy_income['Life expectancy(In Years)'])]"
   ]
  },
  {
   "cell_type": "code",
   "execution_count": 25,
   "metadata": {},
   "outputs": [
    {
     "data": {
      "text/html": [
       "<div>\n",
       "<style scoped>\n",
       "    .dataframe tbody tr th:only-of-type {\n",
       "        vertical-align: middle;\n",
       "    }\n",
       "\n",
       "    .dataframe tbody tr th {\n",
       "        vertical-align: top;\n",
       "    }\n",
       "\n",
       "    .dataframe thead th {\n",
       "        text-align: right;\n",
       "    }\n",
       "</style>\n",
       "<table border=\"1\" class=\"dataframe\">\n",
       "  <thead>\n",
       "    <tr style=\"text-align: right;\">\n",
       "      <th></th>\n",
       "      <th>District</th>\n",
       "      <th>Life expectancy(In Years)</th>\n",
       "      <th>Per Capita Income(In USD)</th>\n",
       "    </tr>\n",
       "  </thead>\n",
       "  <tbody>\n",
       "    <tr>\n",
       "      <th>74</th>\n",
       "      <td>Dolpa</td>\n",
       "      <td>61.2</td>\n",
       "      <td>1040</td>\n",
       "    </tr>\n",
       "  </tbody>\n",
       "</table>\n",
       "</div>"
      ],
      "text/plain": [
       "   District  Life expectancy(In Years)  Per Capita Income(In USD)\n",
       "74    Dolpa                       61.2                       1040"
      ]
     },
     "execution_count": 25,
     "metadata": {},
     "output_type": "execute_result"
    }
   ],
   "source": [
    "life_expectancy_income[life_expectancy_income['Life expectancy(In Years)']==min(life_expectancy_income['Life expectancy(In Years)'])]"
   ]
  },
  {
   "cell_type": "markdown",
   "metadata": {},
   "source": [
    "Ramechhap is the district having highest life expectancy of 72.9 years whereas Dolpa has least life expectancy of 61.2 years"
   ]
  },
  {
   "cell_type": "code",
   "execution_count": 26,
   "metadata": {},
   "outputs": [
    {
     "data": {
      "text/html": [
       "<div>\n",
       "<style scoped>\n",
       "    .dataframe tbody tr th:only-of-type {\n",
       "        vertical-align: middle;\n",
       "    }\n",
       "\n",
       "    .dataframe tbody tr th {\n",
       "        vertical-align: top;\n",
       "    }\n",
       "\n",
       "    .dataframe thead th {\n",
       "        text-align: right;\n",
       "    }\n",
       "</style>\n",
       "<table border=\"1\" class=\"dataframe\">\n",
       "  <thead>\n",
       "    <tr style=\"text-align: right;\">\n",
       "      <th></th>\n",
       "      <th>District</th>\n",
       "      <th>Life expectancy(In Years)</th>\n",
       "      <th>Per Capita Income(In USD)</th>\n",
       "    </tr>\n",
       "  </thead>\n",
       "  <tbody>\n",
       "    <tr>\n",
       "      <th>68</th>\n",
       "      <td>Manang</td>\n",
       "      <td>65.04</td>\n",
       "      <td>3166</td>\n",
       "    </tr>\n",
       "  </tbody>\n",
       "</table>\n",
       "</div>"
      ],
      "text/plain": [
       "   District  Life expectancy(In Years)  Per Capita Income(In USD)\n",
       "68   Manang                      65.04                       3166"
      ]
     },
     "execution_count": 26,
     "metadata": {},
     "output_type": "execute_result"
    }
   ],
   "source": [
    "life_expectancy_income[life_expectancy_income['Per Capita Income(In USD)']==max(life_expectancy_income[\"Per Capita Income(In USD)\"])]\n"
   ]
  },
  {
   "cell_type": "code",
   "execution_count": 27,
   "metadata": {},
   "outputs": [
    {
     "data": {
      "text/html": [
       "<div>\n",
       "<style scoped>\n",
       "    .dataframe tbody tr th:only-of-type {\n",
       "        vertical-align: middle;\n",
       "    }\n",
       "\n",
       "    .dataframe tbody tr th {\n",
       "        vertical-align: top;\n",
       "    }\n",
       "\n",
       "    .dataframe thead th {\n",
       "        text-align: right;\n",
       "    }\n",
       "</style>\n",
       "<table border=\"1\" class=\"dataframe\">\n",
       "  <thead>\n",
       "    <tr style=\"text-align: right;\">\n",
       "      <th></th>\n",
       "      <th>District</th>\n",
       "      <th>Life expectancy(In Years)</th>\n",
       "      <th>Per Capita Income(In USD)</th>\n",
       "    </tr>\n",
       "  </thead>\n",
       "  <tbody>\n",
       "    <tr>\n",
       "      <th>66</th>\n",
       "      <td>Bajhang</td>\n",
       "      <td>65.22</td>\n",
       "      <td>487</td>\n",
       "    </tr>\n",
       "  </tbody>\n",
       "</table>\n",
       "</div>"
      ],
      "text/plain": [
       "   District  Life expectancy(In Years)  Per Capita Income(In USD)\n",
       "66  Bajhang                      65.22                        487"
      ]
     },
     "execution_count": 27,
     "metadata": {},
     "output_type": "execute_result"
    }
   ],
   "source": [
    "life_expectancy_income[life_expectancy_income['Per Capita Income(In USD)']==min(life_expectancy_income[\"Per Capita Income(In USD)\"])]"
   ]
  },
  {
   "cell_type": "markdown",
   "metadata": {},
   "source": [
    "Manang has highest per capita income of 3166 USD whereas Bajhang has lowest per capita income of 487 USD."
   ]
  },
  {
   "cell_type": "markdown",
   "metadata": {},
   "source": [
    "Now let's see how per capita income are distributed in Nepal."
   ]
  },
  {
   "cell_type": "code",
   "execution_count": 28,
   "metadata": {},
   "outputs": [
    {
     "data": {
      "image/png": "[encoded data removed]",
      "text/plain": [
       "<Figure size 432x288 with 1 Axes>"
      ]
     },
     "metadata": {},
     "output_type": "display_data"
    }
   ],
   "source": [
    "plt.hist(life_expectancy_income[\"Per Capita Income(In USD)\"])\n",
    "plt.xlabel(\"Per Capita Income is USD\")\n",
    "plt.ylabel(\"Number of Districts\")\n",
    "plt.title(\"Histogram of Per Capita Income by Districts\")\n",
    "plt.grid(True)\n",
    "plt.show()"
   ]
  },
  {
   "cell_type": "markdown",
   "metadata": {},
   "source": [
    "From the distribution plot above, it is clear that most districts have Per Capita Income around 1000 USD\n",
    "\n",
    "Now let's see how life expectancy is distributed."
   ]
  },
  {
   "cell_type": "code",
   "execution_count": 29,
   "metadata": {},
   "outputs": [
    {
     "data": {
      "image/png": "[encoded data removed]",
      "text/plain": [
       "<Figure size 432x288 with 1 Axes>"
      ]
     },
     "metadata": {},
     "output_type": "display_data"
    }
   ],
   "source": [
    "plt.hist(life_expectancy_income[\"Life expectancy(In Years)\"])\n",
    "plt.xlabel(\"Life expectancy(In Years)\")\n",
    "plt.ylabel(\"Number of Districts\")\n",
    "plt.title(\"Life Expectancy by Districts\")\n",
    "plt.grid(True)\n",
    "plt.show()"
   ]
  },
  {
   "cell_type": "markdown",
   "metadata": {},
   "source": [
    "This plot shows that most districts have Life Expectancy of 68-70 years."
   ]
  },
  {
   "cell_type": "code",
   "execution_count": 30,
   "metadata": {},
   "outputs": [],
   "source": [
    "provinces={\n",
    "    \"Province 1\":[\"Bhojpur\",\"Dhankuta\",\"Ilam\",\"Jhapa\",\"Khotang\",\"Morang\",\"Okhaldhunga\",\"Panchthar\",\"Sankhuwasabha\",\"Solukhumbu\",\"Sunsari\",\"Taplejung\",\"Terhathum\",\"Udayapur\"],\n",
    "    \"Province 2\":[\"Saptari\",\"Birgunj\",\"Sarlahi\",\"Bara\",\"Siraha\",\"Rautahat\",\"Dhanusha\",\"Mahottari\"],\n",
    "    \"Province 3\":[\"Sindhuli\",\"Ramechhap\",\"Dolakha\",\"Bhaktapur\",\"Dhading\",\"Kathmandu\",\"Kavrepalanchowk\",\"Lalitpur\",\"Nuwakot\",\"Rasuwa\",\"Sidhupalchok\",\"Chitwan\",\"Makwanpur\"],\n",
    "    \"Gandaki\":[\"Baglung\",\"Gorkha\",\"Kaski\",\"Lamjung\",\"Manang\",\"Mustang\",\"Myagdi\",\"Nawalpur\",\"Parbat\",\"Syangja\",\"Tanahun\"],\n",
    "    \"Province 5\":[\"Kapilvastu\",\"Parasi\",\"Rupandehi\",\"Arghakhanchi\",\"Gulmi\",\"Palpa\",\"Dang\",\"Pyuthan\",\"Rolpa\",\"Eastern Rukum\",\"Banke\",\"Bardiya\"],\n",
    "    \"Karnali\":[\"Western Rukum\",\"Salyan\",\"Dolpa\",\"Humla\",\"Jumla\",\"Kalikot\",\"Mugu\",\"Surkhet\",\"Dailekh\",\"Jajarkot\"],\n",
    "    \"Province 7\":[\"Kailali\",\"Achham\",\"Doti\",\"Bajhang\",\"Bajura\",\"Kanchanpur\",\"Dadeldhura\",\"Baitadi\",\"Darchula\"]\n",
    "    }"
   ]
  },
  {
   "cell_type": "markdown",
   "metadata": {},
   "source": [
    "Now let's analyze literacy rate dataset."
   ]
  },
  {
   "cell_type": "code",
   "execution_count": 31,
   "metadata": {},
   "outputs": [
    {
     "data": {
      "text/html": [
       "<div>\n",
       "<style scoped>\n",
       "    .dataframe tbody tr th:only-of-type {\n",
       "        vertical-align: middle;\n",
       "    }\n",
       "\n",
       "    .dataframe tbody tr th {\n",
       "        vertical-align: top;\n",
       "    }\n",
       "\n",
       "    .dataframe thead th {\n",
       "        text-align: right;\n",
       "    }\n",
       "</style>\n",
       "<table border=\"1\" class=\"dataframe\">\n",
       "  <thead>\n",
       "    <tr style=\"text-align: right;\">\n",
       "      <th></th>\n",
       "      <th>District</th>\n",
       "      <th>Total</th>\n",
       "      <th>Female</th>\n",
       "      <th>Male</th>\n",
       "    </tr>\n",
       "  </thead>\n",
       "  <tbody>\n",
       "    <tr>\n",
       "      <th>0</th>\n",
       "      <td>Kathmandu</td>\n",
       "      <td>86.3</td>\n",
       "      <td>79.8</td>\n",
       "      <td>92.2</td>\n",
       "    </tr>\n",
       "  </tbody>\n",
       "</table>\n",
       "</div>"
      ],
      "text/plain": [
       "     District  Total  Female  Male\n",
       "0  Kathmandu    86.3    79.8  92.2"
      ]
     },
     "execution_count": 31,
     "metadata": {},
     "output_type": "execute_result"
    }
   ],
   "source": [
    "literacy_rate_gender[literacy_rate_gender[\"Total\"]==max(literacy_rate_gender[\"Total\"])]"
   ]
  },
  {
   "cell_type": "code",
   "execution_count": 32,
   "metadata": {},
   "outputs": [
    {
     "data": {
      "text/html": [
       "<div>\n",
       "<style scoped>\n",
       "    .dataframe tbody tr th:only-of-type {\n",
       "        vertical-align: middle;\n",
       "    }\n",
       "\n",
       "    .dataframe tbody tr th {\n",
       "        vertical-align: top;\n",
       "    }\n",
       "\n",
       "    .dataframe thead th {\n",
       "        text-align: right;\n",
       "    }\n",
       "</style>\n",
       "<table border=\"1\" class=\"dataframe\">\n",
       "  <thead>\n",
       "    <tr style=\"text-align: right;\">\n",
       "      <th></th>\n",
       "      <th>District</th>\n",
       "      <th>Total</th>\n",
       "      <th>Female</th>\n",
       "      <th>Male</th>\n",
       "    </tr>\n",
       "  </thead>\n",
       "  <tbody>\n",
       "    <tr>\n",
       "      <th>74</th>\n",
       "      <td>Rautahat</td>\n",
       "      <td>41.7</td>\n",
       "      <td>32.0</td>\n",
       "      <td>50.9</td>\n",
       "    </tr>\n",
       "  </tbody>\n",
       "</table>\n",
       "</div>"
      ],
      "text/plain": [
       "     District  Total  Female  Male\n",
       "74  Rautahat    41.7    32.0  50.9"
      ]
     },
     "execution_count": 32,
     "metadata": {},
     "output_type": "execute_result"
    }
   ],
   "source": [
    "literacy_rate_gender[literacy_rate_gender[\"Total\"]==min(literacy_rate_gender[\"Total\"])]"
   ]
  },
  {
   "cell_type": "markdown",
   "metadata": {},
   "source": [
    "Kathmandu has highest literacy rate of 86.3% and Rautahat has least literacy rate of only 41.7 %"
   ]
  },
  {
   "cell_type": "code",
   "execution_count": 33,
   "metadata": {},
   "outputs": [
    {
     "data": {
      "image/png": "[encoded data removed]",
      "text/plain": [
       "<Figure size 432x288 with 1 Axes>"
      ]
     },
     "metadata": {},
     "output_type": "display_data"
    }
   ],
   "source": [
    "plt.hist(literacy_rate_gender[\"Male\"])\n",
    "plt.xlabel(\"Literacy rate of Male\")\n",
    "plt.ylabel(\"Number of Districts\")\n",
    "plt.title(\"Literacy Rate Distribution of Male Population\")\n",
    "plt.grid(True)\n",
    "plt.show()"
   ]
  },
  {
   "cell_type": "code",
   "execution_count": 34,
   "metadata": {},
   "outputs": [
    {
     "data": {
      "image/png": "[encoded data removed]",
      "text/plain": [
       "<Figure size 432x288 with 1 Axes>"
      ]
     },
     "metadata": {},
     "output_type": "display_data"
    }
   ],
   "source": [
    "plt.hist(literacy_rate_gender[\"Female\"])\n",
    "plt.xlabel(\"Literacy rate of Female\")\n",
    "plt.ylabel(\"Number of Districts\")\n",
    "plt.title(\"Literacy Rate Distribution of Female Population\")\n",
    "plt.grid(True)\n",
    "plt.show()"
   ]
  },
  {
   "cell_type": "code",
   "execution_count": 35,
   "metadata": {},
   "outputs": [
    {
     "data": {
      "image/png": "[encoded data removed]",
      "text/plain": [
       "<Figure size 432x288 with 1 Axes>"
      ]
     },
     "metadata": {},
     "output_type": "display_data"
    }
   ],
   "source": [
    "plt.hist(literacy_rate_gender[\"Total\"])\n",
    "plt.xlabel(\"Literacy rate\")\n",
    "plt.ylabel(\"Number of Districts\")\n",
    "plt.title(\"Literacy Rate Distribution of Total Population by Districts\")\n",
    "plt.grid(True)\n",
    "plt.show()"
   ]
  },
  {
   "cell_type": "markdown",
   "metadata": {},
   "source": [
    "The graphs show the distribution of Literacy Rate by Gender among districts"
   ]
  },
  {
   "cell_type": "code",
   "execution_count": 36,
   "metadata": {},
   "outputs": [],
   "source": [
    "literacy_rate_provinces={}\n",
    "for province,districts in provinces.items():\n",
    "    literacy_rate_provinces[province]=[0,0, 0]\n",
    "    for dist in districts:\n",
    "        l_rate=literacy_rate_gender[literacy_rate_gender[\"District\"].str.match(dist)][\"Total\"]\n",
    "        if l_rate.empty:\n",
    "            continue\n",
    "        rate=l_rate.values[0] \n",
    "        m_rate=(literacy_rate_gender[literacy_rate_gender[\"District\"].str.match(dist)][\"Male\"]).values[0]\n",
    "        f_rate=(literacy_rate_gender[literacy_rate_gender[\"District\"].str.match(dist)][\"Female\"]).values[0]\n",
    "        if rate>literacy_rate_provinces[province][0]:\n",
    "            literacy_rate_provinces[province][0]=rate\n",
    "        if m_rate>literacy_rate_provinces[province][1]:\n",
    "            literacy_rate_provinces[province][1]=m_rate\n",
    "        if m_rate>literacy_rate_provinces[province][2]:\n",
    "            literacy_rate_provinces[province][2]=f_rate"
   ]
  },
  {
   "cell_type": "code",
   "execution_count": 37,
   "metadata": {},
   "outputs": [],
   "source": [
    "provinces_df=pd.DataFrame(data=literacy_rate_provinces.keys(),columns=[\"Provinces\"])"
   ]
  },
  {
   "cell_type": "code",
   "execution_count": 38,
   "metadata": {},
   "outputs": [],
   "source": [
    "rates=literacy_rate_provinces.values()\n",
    "total_rate=[x[0] for x in rates]\n",
    "male_rate=[x[1] for x in rates]\n",
    "female_rate=[x[2] for x in rates]\n",
    "provinces_df[\"Total Literacy\"]=total_rate\n",
    "provinces_df[\"Male Literacy\"]=male_rate\n",
    "provinces_df[\"Female Literacy\"]=female_rate\n"
   ]
  },
  {
   "cell_type": "code",
   "execution_count": 39,
   "metadata": {},
   "outputs": [
    {
     "data": {
      "text/html": [
       "<div>\n",
       "<style scoped>\n",
       "    .dataframe tbody tr th:only-of-type {\n",
       "        vertical-align: middle;\n",
       "    }\n",
       "\n",
       "    .dataframe tbody tr th {\n",
       "        vertical-align: top;\n",
       "    }\n",
       "\n",
       "    .dataframe thead th {\n",
       "        text-align: right;\n",
       "    }\n",
       "</style>\n",
       "<table border=\"1\" class=\"dataframe\">\n",
       "  <thead>\n",
       "    <tr style=\"text-align: right;\">\n",
       "      <th></th>\n",
       "      <th>Provinces</th>\n",
       "      <th>Total Literacy</th>\n",
       "      <th>Male Literacy</th>\n",
       "      <th>Female Literacy</th>\n",
       "    </tr>\n",
       "  </thead>\n",
       "  <tbody>\n",
       "    <tr>\n",
       "      <th>0</th>\n",
       "      <td>Province 1</td>\n",
       "      <td>77.9</td>\n",
       "      <td>84.2</td>\n",
       "      <td>61.5</td>\n",
       "    </tr>\n",
       "    <tr>\n",
       "      <th>1</th>\n",
       "      <td>Province 2</td>\n",
       "      <td>54.5</td>\n",
       "      <td>67.0</td>\n",
       "      <td>36.6</td>\n",
       "    </tr>\n",
       "    <tr>\n",
       "      <th>2</th>\n",
       "      <td>Province 3</td>\n",
       "      <td>86.3</td>\n",
       "      <td>92.2</td>\n",
       "      <td>60.6</td>\n",
       "    </tr>\n",
       "    <tr>\n",
       "      <th>3</th>\n",
       "      <td>Gandaki</td>\n",
       "      <td>82.4</td>\n",
       "      <td>90.1</td>\n",
       "      <td>69.6</td>\n",
       "    </tr>\n",
       "    <tr>\n",
       "      <th>4</th>\n",
       "      <td>Province 5</td>\n",
       "      <td>76.2</td>\n",
       "      <td>84.9</td>\n",
       "      <td>57.9</td>\n",
       "    </tr>\n",
       "    <tr>\n",
       "      <th>5</th>\n",
       "      <td>Karnali</td>\n",
       "      <td>73.1</td>\n",
       "      <td>82.0</td>\n",
       "      <td>48.7</td>\n",
       "    </tr>\n",
       "    <tr>\n",
       "      <th>6</th>\n",
       "      <td>Province 7</td>\n",
       "      <td>70.7</td>\n",
       "      <td>81.3</td>\n",
       "      <td>52.9</td>\n",
       "    </tr>\n",
       "  </tbody>\n",
       "</table>\n",
       "</div>"
      ],
      "text/plain": [
       "    Provinces  Total Literacy  Male Literacy  Female Literacy\n",
       "0  Province 1            77.9           84.2             61.5\n",
       "1  Province 2            54.5           67.0             36.6\n",
       "2  Province 3            86.3           92.2             60.6\n",
       "3     Gandaki            82.4           90.1             69.6\n",
       "4  Province 5            76.2           84.9             57.9\n",
       "5     Karnali            73.1           82.0             48.7\n",
       "6  Province 7            70.7           81.3             52.9"
      ]
     },
     "execution_count": 39,
     "metadata": {},
     "output_type": "execute_result"
    }
   ],
   "source": [
    "provinces_df"
   ]
  },
  {
   "cell_type": "code",
   "execution_count": 40,
   "metadata": {},
   "outputs": [
    {
     "data": {
      "image/png": "[encoded data removed]",
      "text/plain": [
       "<Figure size 864x576 with 1 Axes>"
      ]
     },
     "metadata": {},
     "output_type": "display_data"
    }
   ],
   "source": [
    "plt.figure(figsize=(12,8))\n",
    "barWidth = 0.25\n",
    "\n",
    "r1 = np.arange(len(total_rate))\n",
    "r2 = [x + barWidth for x in r1]\n",
    "r3 = [x + barWidth for x in r2]\n",
    "\n",
    "plt.bar(r1,total_rate,width=barWidth, edgecolor='white', label='Total')\n",
    "plt.bar(r2,male_rate,width=barWidth, edgecolor='white', label='Male')\n",
    "plt.bar(r3,female_rate,width=barWidth, edgecolor='white', label='Female')\n",
    "\n",
    "\n",
    "plt.xlabel('Province')\n",
    "plt.xticks([r + barWidth for r in range(len(total_rate))], ['Province 1', 'Province 2', 'Province 3', 'Gandaki', 'Province 5','Karnali','Province 7'])\n",
    "plt.ylabel(\"Literacy Rate\")\n",
    "plt.title(\"Literacy rates by Province level\")\n",
    "\n",
    "plt.legend()\n",
    "plt.show()\n"
   ]
  },
  {
   "cell_type": "markdown",
   "metadata": {},
   "source": [
    "This plot shows that Province 3 has highest literacy rate whereas Province 2 has least literacy rate among all 7 provinces.\n",
    "\n",
    "Also male literacy rate is higher in Province 3 and female literacy rate is higher in Gandaki Province.\n",
    "Similary both are lowest in Province 2. "
   ]
  },
  {
   "cell_type": "markdown",
   "metadata": {},
   "source": [
    "### 3. Data Pre-Processing and Feature Selection\n"
   ]
  },
  {
   "cell_type": "markdown",
   "metadata": {},
   "source": [
    "As part of data pre-processing, combine literacy rate dataset and life expectancy dataset "
   ]
  },
  {
   "cell_type": "code",
   "execution_count": 41,
   "metadata": {},
   "outputs": [],
   "source": [
    "final_df=pd.concat([life_expectancy_income,literacy_rate_gender[[\"Total\"]]],axis=1)"
   ]
  },
  {
   "cell_type": "code",
   "execution_count": 42,
   "metadata": {},
   "outputs": [
    {
     "data": {
      "text/html": [
       "<div>\n",
       "<style scoped>\n",
       "    .dataframe tbody tr th:only-of-type {\n",
       "        vertical-align: middle;\n",
       "    }\n",
       "\n",
       "    .dataframe tbody tr th {\n",
       "        vertical-align: top;\n",
       "    }\n",
       "\n",
       "    .dataframe thead th {\n",
       "        text-align: right;\n",
       "    }\n",
       "</style>\n",
       "<table border=\"1\" class=\"dataframe\">\n",
       "  <thead>\n",
       "    <tr style=\"text-align: right;\">\n",
       "      <th></th>\n",
       "      <th>District</th>\n",
       "      <th>Life expectancy(In Years)</th>\n",
       "      <th>Per Capita Income(In USD)</th>\n",
       "      <th>Total</th>\n",
       "    </tr>\n",
       "  </thead>\n",
       "  <tbody>\n",
       "    <tr>\n",
       "      <th>0</th>\n",
       "      <td>Ramechhap</td>\n",
       "      <td>72.90</td>\n",
       "      <td>951</td>\n",
       "      <td>86.3</td>\n",
       "    </tr>\n",
       "    <tr>\n",
       "      <th>1</th>\n",
       "      <td>Gorkha</td>\n",
       "      <td>71.70</td>\n",
       "      <td>1039</td>\n",
       "      <td>82.5</td>\n",
       "    </tr>\n",
       "    <tr>\n",
       "      <th>2</th>\n",
       "      <td>Saptari</td>\n",
       "      <td>71.34</td>\n",
       "      <td>801</td>\n",
       "      <td>82.4</td>\n",
       "    </tr>\n",
       "    <tr>\n",
       "      <th>3</th>\n",
       "      <td>Siraha</td>\n",
       "      <td>71.29</td>\n",
       "      <td>689</td>\n",
       "      <td>81.7</td>\n",
       "    </tr>\n",
       "    <tr>\n",
       "      <th>4</th>\n",
       "      <td>Rautahat</td>\n",
       "      <td>70.99</td>\n",
       "      <td>757</td>\n",
       "      <td>77.9</td>\n",
       "    </tr>\n",
       "  </tbody>\n",
       "</table>\n",
       "</div>"
      ],
      "text/plain": [
       "    District  Life expectancy(In Years)  Per Capita Income(In USD)  Total\n",
       "0  Ramechhap                      72.90                        951   86.3\n",
       "1     Gorkha                      71.70                       1039   82.5\n",
       "2    Saptari                      71.34                        801   82.4\n",
       "3     Siraha                      71.29                        689   81.7\n",
       "4   Rautahat                      70.99                        757   77.9"
      ]
     },
     "execution_count": 42,
     "metadata": {},
     "output_type": "execute_result"
    }
   ],
   "source": [
    "final_df.head()"
   ]
  },
  {
   "cell_type": "code",
   "execution_count": 43,
   "metadata": {},
   "outputs": [],
   "source": [
    "#rename total to literacy rate\n",
    "final_df.rename({\"Total\":\"Literacy Rate\"},axis='columns',inplace=True)"
   ]
  },
  {
   "cell_type": "code",
   "execution_count": 44,
   "metadata": {},
   "outputs": [
    {
     "data": {
      "text/plain": [
       "Index(['District', 'Life expectancy(In Years)', 'Per Capita Income(In USD)',\n",
       "       'Literacy Rate'],\n",
       "      dtype='object')"
      ]
     },
     "execution_count": 44,
     "metadata": {},
     "output_type": "execute_result"
    }
   ],
   "source": [
    "final_df.columns"
   ]
  },
  {
   "cell_type": "markdown",
   "metadata": {},
   "source": [
    "**Normalize Data**"
   ]
  },
  {
   "cell_type": "code",
   "execution_count": 45,
   "metadata": {},
   "outputs": [],
   "source": [
    "from sklearn.preprocessing import StandardScaler"
   ]
  },
  {
   "cell_type": "code",
   "execution_count": 46,
   "metadata": {},
   "outputs": [
    {
     "data": {
      "text/plain": [
       "(75, 3)"
      ]
     },
     "execution_count": 46,
     "metadata": {},
     "output_type": "execute_result"
    }
   ],
   "source": [
    "scaler=StandardScaler()\n",
    "X=final_df.drop(columns=['District'])\n",
    "scaler.fit(X)\n",
    "final_scaled_data=scaler.transform(X)\n",
    "final_scaled_data.shape"
   ]
  },
  {
   "cell_type": "markdown",
   "metadata": {},
   "source": [
    "### 4. KMeans "
   ]
  },
  {
   "cell_type": "code",
   "execution_count": 47,
   "metadata": {},
   "outputs": [],
   "source": [
    "from sklearn.cluster import KMeans"
   ]
  },
  {
   "cell_type": "markdown",
   "metadata": {},
   "source": [
    "**Choosing number of clusters using Elbow method**"
   ]
  },
  {
   "cell_type": "code",
   "execution_count": 48,
   "metadata": {},
   "outputs": [
    {
     "data": {
      "image/png": "[encoded data removed]",
      "text/plain": [
       "<Figure size 432x288 with 1 Axes>"
      ]
     },
     "metadata": {},
     "output_type": "display_data"
    }
   ],
   "source": [
    "inertia=[]\n",
    "num_of_clusters=[]\n",
    "for k in range(2,10):\n",
    "    kmeans=KMeans(n_clusters=k,random_state=1)\n",
    "    pred=kmeans.fit(X)\n",
    "    inertia.append(kmeans.inertia_)\n",
    "    num_of_clusters.append(k)\n",
    "    \n",
    "plt.plot(num_of_clusters,inertia)\n",
    "plt.grid()\n",
    "plt.xlabel(\"Different values of k (num of clusters)\")\n",
    "plt.ylabel(\"Inertia\")\n",
    "plt.title(\"Elbow method for choosing the value of k\")\n",
    "plt.show()"
   ]
  },
  {
   "cell_type": "markdown",
   "metadata": {},
   "source": [
    "From above graph, num of clusters=3 can be choose for further steps"
   ]
  },
  {
   "cell_type": "code",
   "execution_count": 49,
   "metadata": {},
   "outputs": [
    {
     "data": {
      "text/plain": [
       "KMeans(algorithm='auto', copy_x=True, init='k-means++', max_iter=300,\n",
       "       n_clusters=3, n_init=10, n_jobs=None, precompute_distances='auto',\n",
       "       random_state=1, tol=0.0001, verbose=0)"
      ]
     },
     "execution_count": 49,
     "metadata": {},
     "output_type": "execute_result"
    }
   ],
   "source": [
    "kmeans=KMeans(n_clusters=3,random_state=1)\n",
    "kmeans.fit(final_scaled_data)\n"
   ]
  },
  {
   "cell_type": "code",
   "execution_count": 50,
   "metadata": {},
   "outputs": [
    {
     "data": {
      "text/plain": [
       "array([0, 0, 0, 0, 0, 0, 0, 0, 0, 0, 0, 0, 0, 0, 0, 0, 0, 0, 0, 0, 0, 0,\n",
       "       0, 0, 0, 0, 0, 0, 0, 0, 0, 0, 0, 0, 0, 0, 0, 2, 0, 0, 0, 0, 0, 0,\n",
       "       0, 0, 1, 0, 0, 1, 0, 1, 1, 1, 1, 1, 1, 1, 1, 1, 1, 1, 1, 1, 1, 1,\n",
       "       1, 2, 2, 1, 1, 1, 1, 1, 1], dtype=int32)"
      ]
     },
     "execution_count": 50,
     "metadata": {},
     "output_type": "execute_result"
    }
   ],
   "source": [
    "kmeans.labels_"
   ]
  },
  {
   "cell_type": "code",
   "execution_count": 51,
   "metadata": {},
   "outputs": [
    {
     "data": {
      "text/plain": [
       "array([[ 0.58328171,  0.04134206,  0.60661615],\n",
       "       [-1.04385944, -0.51938786, -1.09954953],\n",
       "       [-0.9816318 ,  3.49363002, -0.90946221]])"
      ]
     },
     "execution_count": 51,
     "metadata": {},
     "output_type": "execute_result"
    }
   ],
   "source": [
    "kmeans.cluster_centers_"
   ]
  },
  {
   "cell_type": "markdown",
   "metadata": {},
   "source": [
    "**Using PCA for visualizing cluster**"
   ]
  },
  {
   "cell_type": "code",
   "execution_count": 52,
   "metadata": {},
   "outputs": [],
   "source": [
    "pca = PCA(n_components=3)\n",
    "principalComponents = pca.fit_transform(final_scaled_data)"
   ]
  },
  {
   "cell_type": "code",
   "execution_count": 53,
   "metadata": {},
   "outputs": [
    {
     "data": {
      "image/png": "[encoded data removed]",
      "text/plain": [
       "<Figure size 864x576 with 1 Axes>"
      ]
     },
     "metadata": {},
     "output_type": "display_data"
    }
   ],
   "source": [
    "COLOR_MAP = {0 : 'r',\n",
    "                   1 : 'g',\n",
    "                   2 : 'b'}\n",
    "\n",
    "label_color = [COLOR_MAP[l] for l in kmeans.labels_]\n",
    "plt.figure(figsize=(12,8))\n",
    "plt.scatter(principalComponents[:,0],principalComponents[:,1],c=label_color, alpha=0.9)\n",
    "plt.title(\"Cluster visualization of HDI data using KMeans\")\n",
    "plt.show()"
   ]
  },
  {
   "cell_type": "code",
   "execution_count": 54,
   "metadata": {},
   "outputs": [
    {
     "data": {
      "text/plain": [
       "0.44058943714353355"
      ]
     },
     "execution_count": 54,
     "metadata": {},
     "output_type": "execute_result"
    }
   ],
   "source": [
    "silhouette_score(principalComponents,kmeans.labels_)"
   ]
  },
  {
   "cell_type": "markdown",
   "metadata": {},
   "source": [
    "For 3 clusters, the silhouette score is 0.44"
   ]
  },
  {
   "cell_type": "markdown",
   "metadata": {},
   "source": [
    "### 5. DBSCAN"
   ]
  },
  {
   "cell_type": "code",
   "execution_count": 55,
   "metadata": {},
   "outputs": [],
   "source": [
    "from sklearn.cluster import DBSCAN"
   ]
  },
  {
   "cell_type": "markdown",
   "metadata": {},
   "source": [
    "Choosing the value of epison and min_samples"
   ]
  },
  {
   "cell_type": "code",
   "execution_count": 56,
   "metadata": {},
   "outputs": [],
   "source": [
    "from sklearn.neighbors import NearestNeighbors"
   ]
  },
  {
   "cell_type": "code",
   "execution_count": 57,
   "metadata": {},
   "outputs": [],
   "source": [
    "neigh=NearestNeighbors(n_neighbors=9)\n",
    "nbrs=neigh.fit(final_scaled_data)\n",
    "distances,indices=nbrs.kneighbors(final_scaled_data)"
   ]
  },
  {
   "cell_type": "code",
   "execution_count": 58,
   "metadata": {},
   "outputs": [
    {
     "data": {
      "text/plain": [
       "[<matplotlib.lines.Line2D at 0x7f44a252ae48>]"
      ]
     },
     "execution_count": 58,
     "metadata": {},
     "output_type": "execute_result"
    },
    {
     "data": {
      "image/png": "[encoded data removed]",
      "text/plain": [
       "<Figure size 432x288 with 1 Axes>"
      ]
     },
     "metadata": {},
     "output_type": "display_data"
    }
   ],
   "source": [
    "distances=np.sort(distances,axis=0)\n",
    "distances_=distances[:,8]\n",
    "plt.plot(distances_)"
   ]
  },
  {
   "cell_type": "code",
   "execution_count": 59,
   "metadata": {},
   "outputs": [
    {
     "data": {
      "text/plain": [
       "(75, 9)"
      ]
     },
     "execution_count": 59,
     "metadata": {},
     "output_type": "execute_result"
    }
   ],
   "source": [
    "distances.shape"
   ]
  },
  {
   "cell_type": "markdown",
   "metadata": {},
   "source": [
    "Choosing eps=2 from the above graph"
   ]
  },
  {
   "cell_type": "code",
   "execution_count": 60,
   "metadata": {},
   "outputs": [
    {
     "data": {
      "text/plain": [
       "DBSCAN(algorithm='auto', eps=2.0, leaf_size=30, metric='euclidean',\n",
       "       metric_params=None, min_samples=3, n_jobs=None, p=None)"
      ]
     },
     "execution_count": 60,
     "metadata": {},
     "output_type": "execute_result"
    }
   ],
   "source": [
    "dbscan=DBSCAN(eps=2.,min_samples=3,metric='euclidean')\n",
    "dbscan.fit(final_scaled_data)"
   ]
  },
  {
   "cell_type": "code",
   "execution_count": 61,
   "metadata": {},
   "outputs": [
    {
     "data": {
      "text/plain": [
       "array([ 0,  0,  0,  0,  0,  0,  0,  0,  0,  0,  0,  0,  0,  0,  0,  0,  0,\n",
       "        0,  0,  0,  0,  0,  0,  0,  0,  0,  0,  0,  0,  0,  0,  0,  0,  0,\n",
       "        0,  0,  0, -1,  0,  0,  0,  0,  0,  0,  0,  0,  0,  0,  0,  0,  0,\n",
       "        0,  0,  0,  0,  0,  0,  0,  0,  0,  0,  0,  0,  0,  0,  0,  0,  0,\n",
       "       -1,  0,  0,  0,  0,  0,  0])"
      ]
     },
     "execution_count": 61,
     "metadata": {},
     "output_type": "execute_result"
    }
   ],
   "source": [
    "dbscan.labels_"
   ]
  },
  {
   "cell_type": "code",
   "execution_count": 62,
   "metadata": {},
   "outputs": [
    {
     "data": {
      "image/png": "[encoded data removed]",
      "text/plain": [
       "<Figure size 864x576 with 1 Axes>"
      ]
     },
     "metadata": {},
     "output_type": "display_data"
    }
   ],
   "source": [
    "plt.figure(figsize=(12,8))\n",
    "COLOR_MAP = {-1 : 'r',\n",
    "                   0 : 'g',\n",
    "                   1 : 'b'}\n",
    "\n",
    "label_color = [COLOR_MAP[l] for l in dbscan.labels_]\n",
    "plt.scatter(final_scaled_data[:, 0], final_scaled_data[:, 1], c=label_color,alpha=0.9);\n",
    "plt.title(\"Scatter plot for DBSCAN\")\n",
    "plt.show()"
   ]
  },
  {
   "cell_type": "markdown",
   "metadata": {},
   "source": [
    "DBSCAN formed only a single cluster."
   ]
  },
  {
   "cell_type": "code",
   "execution_count": 63,
   "metadata": {},
   "outputs": [
    {
     "data": {
      "text/plain": [
       "0.5887796224060828"
      ]
     },
     "execution_count": 63,
     "metadata": {},
     "output_type": "execute_result"
    }
   ],
   "source": [
    "silhouette_score(final_scaled_data,dbscan.labels_)"
   ]
  },
  {
   "cell_type": "markdown",
   "metadata": {},
   "source": [
    "For eps=2 and min_samples=8, DBSCAN received 0.588 sihouette score."
   ]
  },
  {
   "cell_type": "markdown",
   "metadata": {},
   "source": [
    "## 6. GMM "
   ]
  },
  {
   "cell_type": "code",
   "execution_count": 64,
   "metadata": {},
   "outputs": [],
   "source": [
    "from sklearn.mixture import GaussianMixture\n"
   ]
  },
  {
   "cell_type": "markdown",
   "metadata": {},
   "source": [
    "KMeans can be used to select select number of components. "
   ]
  },
  {
   "cell_type": "code",
   "execution_count": 65,
   "metadata": {},
   "outputs": [
    {
     "data": {
      "text/plain": [
       "GaussianMixture(covariance_type='full', init_params='kmeans', max_iter=100,\n",
       "                means_init=None, n_components=3, n_init=1, precisions_init=None,\n",
       "                random_state=None, reg_covar=1e-06, tol=0.001, verbose=0,\n",
       "                verbose_interval=10, warm_start=False, weights_init=None)"
      ]
     },
     "execution_count": 65,
     "metadata": {},
     "output_type": "execute_result"
    }
   ],
   "source": [
    "gmm=GaussianMixture(n_components=3)\n",
    "gmm.fit(final_scaled_data)"
   ]
  },
  {
   "cell_type": "code",
   "execution_count": 66,
   "metadata": {},
   "outputs": [
    {
     "data": {
      "text/plain": [
       "array([2, 2, 2, 2, 2, 2, 2, 2, 2, 2, 2, 2, 2, 2, 2, 2, 0, 2, 2, 2, 2, 2,\n",
       "       2, 2, 2, 2, 2, 2, 2, 2, 2, 2, 2, 0, 2, 2, 2, 0, 2, 2, 2, 2, 2, 2,\n",
       "       2, 2, 2, 2, 2, 2, 2, 2, 2, 2, 2, 2, 1, 2, 1, 2, 1, 1, 1, 1, 1, 1,\n",
       "       1, 0, 0, 1, 1, 1, 1, 1, 1])"
      ]
     },
     "execution_count": 66,
     "metadata": {},
     "output_type": "execute_result"
    }
   ],
   "source": [
    "labels=gmm.predict(final_scaled_data)\n",
    "labels"
   ]
  },
  {
   "cell_type": "code",
   "execution_count": 67,
   "metadata": {},
   "outputs": [
    {
     "data": {
      "image/png": "[encoded data removed]",
      "text/plain": [
       "<Figure size 864x576 with 1 Axes>"
      ]
     },
     "metadata": {},
     "output_type": "display_data"
    }
   ],
   "source": [
    "plt.figure(figsize=(12,8))\n",
    "COLOR_MAP = {0 : 'r',\n",
    "                   1 : 'g',\n",
    "                   2 : 'b'}\n",
    "\n",
    "label_color = [COLOR_MAP[l] for l in labels]\n",
    "plt.scatter(final_scaled_data[:, 0], final_scaled_data[:, 1], c=label_color,alpha=0.9);\n",
    "plt.title(\"Scatter plot for GMM\")\n",
    "plt.show()"
   ]
  },
  {
   "cell_type": "markdown",
   "metadata": {},
   "source": [
    "NOw calculate Silhouette Score for clusters formed"
   ]
  },
  {
   "cell_type": "code",
   "execution_count": 68,
   "metadata": {},
   "outputs": [
    {
     "data": {
      "text/plain": [
       "0.4366236040875048"
      ]
     },
     "execution_count": 68,
     "metadata": {},
     "output_type": "execute_result"
    }
   ],
   "source": [
    "silhouette_score(final_scaled_data,labels)"
   ]
  },
  {
   "cell_type": "markdown",
   "metadata": {},
   "source": [
    "## 7. Conclusion"
   ]
  },
  {
   "cell_type": "markdown",
   "metadata": {},
   "source": [
    "Three models were used for clustering HDI dataset on parameters: Life Expectancy, Per Capita Income and Literacy Rate.\n",
    "On evaulating the performance of all models, it can be conlcuded that KMeans with number of components=3 performed\n",
    "well than other model achieveing Silhouette score of 0.44"
   ]
  }
 ],
 "metadata": {
  "kernelspec": {
   "display_name": "Python 3",
   "language": "python",
   "name": "python3"
  },
  "language_info": {
   "codemirror_mode": {
    "name": "ipython",
    "version": 3
   },
   "file_extension": ".py",
   "mimetype": "text/x-python",
   "name": "python",
   "nbconvert_exporter": "python",
   "pygments_lexer": "ipython3",
   "version": "3.7.6"
  }
 },
 "nbformat": 4,
 "nbformat_minor": 4
}
