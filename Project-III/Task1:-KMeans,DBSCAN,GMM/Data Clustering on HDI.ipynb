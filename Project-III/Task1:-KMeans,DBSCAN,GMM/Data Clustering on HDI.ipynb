{
 "cells": [
  {
   "cell_type": "markdown",
   "metadata": {},
   "source": [
    "## Project 3\n",
    "### Task 1\n",
    "### Data Clustering Based on Human Development Index \n",
    "\n",
    "Submitted By: Anish Bhusal (bhusal.anish12@gmail.com)\n",
    "\n",
    "**Clustering Algorithms used**\n",
    "1. KMeans\n",
    "2. DBSCAN\n",
    "3. Gaussian Mixture Model\n",
    "\n",
    "\n",
    "\n",
    "Notebook has been organized in following format:\n",
    "\n",
    "1. Data Cleaning\n",
    "2. Data Analysis and Visualization\n",
    "3. Data Pre-processing and feature selection\n",
    "4. K-Means (Approach Taken and Findings)\n",
    "5. DBSCAN (Approach Taken and Findings)\n",
    "6. GMM (Approach Taken and Findings)\n",
    "7. Conclusion"
   ]
  },
  {
   "cell_type": "markdown",
   "metadata": {},
   "source": [
    "*Import Necessary Libraries*"
   ]
  },
  {
   "cell_type": "code",
   "execution_count": 1,
   "metadata": {},
   "outputs": [],
   "source": [
    "import numpy as np\n",
    "import pandas as pd\n",
    "import matplotlib.pyplot as plt\n",
    "import seaborn as sns\n",
    "from sklearn.decomposition import PCA\n",
    "from sklearn.metrics import silhouette_score\n",
    "\n",
    "%matplotlib inline"
   ]
  },
  {
   "cell_type": "code",
   "execution_count": 2,
   "metadata": {},
   "outputs": [],
   "source": [
    "sns.set(style=\"whitegrid\")"
   ]
  },
  {
   "cell_type": "markdown",
   "metadata": {},
   "source": [
    "**Read Datasets**"
   ]
  },
  {
   "cell_type": "code",
   "execution_count": 3,
   "metadata": {},
   "outputs": [],
   "source": [
    "life_expectancy_income=pd.read_excel(\"../../data/Project-III/life-expectancy-income.xls\")\n",
    "literacy_rate_gender=pd.read_excel(\"../../data/Project-III/literacy-rates.xls\")\n",
    "education_level=pd.read_csv(\"../../data/Project-III/literate-population-aged-5-years-and-above-by-educational-attainment.csv\")\n",
    "federal_population=pd.read_csv(\"../../data/Project-III/total-population-by-sex-country-province-district-and-local-level-population.csv\")\n",
    "federal_units=pd.read_csv(\"../../data/Project-III/total-number-of-rural-municipality-and-municipality-and-ward-divisions-in-federal-structure-in-2.csv\")"
   ]
  },
  {
   "cell_type": "markdown",
   "metadata": {},
   "source": [
    "### 1. Data Cleaning \n"
   ]
  },
  {
   "cell_type": "markdown",
   "metadata": {},
   "source": [
    "*Let's see what's inside these datasets*\n",
    "\n",
    "**Cleaning life expectancy and income dataset**"
   ]
  },
  {
   "cell_type": "code",
   "execution_count": 4,
   "metadata": {},
   "outputs": [
    {
     "data": {
      "text/html": [
       "<div>\n",
       "<style scoped>\n",
       "    .dataframe tbody tr th:only-of-type {\n",
       "        vertical-align: middle;\n",
       "    }\n",
       "\n",
       "    .dataframe tbody tr th {\n",
       "        vertical-align: top;\n",
       "    }\n",
       "\n",
       "    .dataframe thead th {\n",
       "        text-align: right;\n",
       "    }\n",
       "</style>\n",
       "<table border=\"1\" class=\"dataframe\">\n",
       "  <thead>\n",
       "    <tr style=\"text-align: right;\">\n",
       "      <th></th>\n",
       "      <th>District</th>\n",
       "      <th>Life expectancy(In Years)</th>\n",
       "      <th>Per Capita Income(In USD)</th>\n",
       "    </tr>\n",
       "  </thead>\n",
       "  <tbody>\n",
       "    <tr>\n",
       "      <th>0</th>\n",
       "      <td>Ramechhap</td>\n",
       "      <td>72.90</td>\n",
       "      <td>951</td>\n",
       "    </tr>\n",
       "    <tr>\n",
       "      <th>1</th>\n",
       "      <td>Gorkha</td>\n",
       "      <td>71.70</td>\n",
       "      <td>1039</td>\n",
       "    </tr>\n",
       "    <tr>\n",
       "      <th>2</th>\n",
       "      <td>Saptari</td>\n",
       "      <td>71.34</td>\n",
       "      <td>801</td>\n",
       "    </tr>\n",
       "    <tr>\n",
       "      <th>3</th>\n",
       "      <td>Siraha</td>\n",
       "      <td>71.29</td>\n",
       "      <td>689</td>\n",
       "    </tr>\n",
       "    <tr>\n",
       "      <th>4</th>\n",
       "      <td>Rautahat</td>\n",
       "      <td>70.99</td>\n",
       "      <td>757</td>\n",
       "    </tr>\n",
       "  </tbody>\n",
       "</table>\n",
       "</div>"
      ],
      "text/plain": [
       "    District  Life expectancy(In Years)  Per Capita Income(In USD)\n",
       "0  Ramechhap                      72.90                        951\n",
       "1     Gorkha                      71.70                       1039\n",
       "2    Saptari                      71.34                        801\n",
       "3     Siraha                      71.29                        689\n",
       "4   Rautahat                      70.99                        757"
      ]
     },
     "execution_count": 4,
     "metadata": {},
     "output_type": "execute_result"
    }
   ],
   "source": [
    "life_expectancy_income.head()"
   ]
  },
  {
   "cell_type": "code",
   "execution_count": 5,
   "metadata": {},
   "outputs": [
    {
     "data": {
      "text/plain": [
       "(75, 3)"
      ]
     },
     "execution_count": 5,
     "metadata": {},
     "output_type": "execute_result"
    }
   ],
   "source": [
    "life_expectancy_income.shape"
   ]
  },
  {
   "cell_type": "code",
   "execution_count": 6,
   "metadata": {},
   "outputs": [
    {
     "data": {
      "text/plain": [
       "District                      object\n",
       "Life expectancy(In Years)    float64\n",
       "Per Capita Income(In USD)      int64\n",
       "dtype: object"
      ]
     },
     "execution_count": 6,
     "metadata": {},
     "output_type": "execute_result"
    }
   ],
   "source": [
    "life_expectancy_income.dtypes"
   ]
  },
  {
   "cell_type": "markdown",
   "metadata": {},
   "source": [
    "Check for NaN"
   ]
  },
  {
   "cell_type": "code",
   "execution_count": 7,
   "metadata": {},
   "outputs": [
    {
     "data": {
      "text/plain": [
       "District                     0\n",
       "Life expectancy(In Years)    0\n",
       "Per Capita Income(In USD)    0\n",
       "dtype: int64"
      ]
     },
     "execution_count": 7,
     "metadata": {},
     "output_type": "execute_result"
    }
   ],
   "source": [
    "life_expectancy_income.isna().sum()"
   ]
  },
  {
   "cell_type": "markdown",
   "metadata": {},
   "source": [
    "Per Capita Income column contains string formatted data. Lets convert it into numerical form"
   ]
  },
  {
   "cell_type": "code",
   "execution_count": 8,
   "metadata": {},
   "outputs": [
    {
     "ename": "TypeError",
     "evalue": "expected string or bytes-like object",
     "output_type": "error",
     "traceback": [
      "\u001b[0;31m---------------------------------------------------------------------------\u001b[0m",
      "\u001b[0;31mTypeError\u001b[0m                                 Traceback (most recent call last)",
      "\u001b[0;32m<ipython-input-8-97719e730b7d>\u001b[0m in \u001b[0;36m<module>\u001b[0;34m\u001b[0m\n\u001b[1;32m      2\u001b[0m \u001b[0;32mdef\u001b[0m \u001b[0mclean_per_capita_income\u001b[0m\u001b[0;34m(\u001b[0m\u001b[0mdataset\u001b[0m\u001b[0;34m)\u001b[0m\u001b[0;34m:\u001b[0m\u001b[0;34m\u001b[0m\u001b[0;34m\u001b[0m\u001b[0m\n\u001b[1;32m      3\u001b[0m     \u001b[0;32mreturn\u001b[0m \u001b[0mint\u001b[0m\u001b[0;34m(\u001b[0m\u001b[0;34m''\u001b[0m\u001b[0;34m.\u001b[0m\u001b[0mjoin\u001b[0m\u001b[0;34m(\u001b[0m\u001b[0mre\u001b[0m\u001b[0;34m.\u001b[0m\u001b[0mfindall\u001b[0m\u001b[0;34m(\u001b[0m\u001b[0;34m\"[0-9]+\"\u001b[0m\u001b[0;34m,\u001b[0m\u001b[0mdataset\u001b[0m\u001b[0;34m)\u001b[0m\u001b[0;34m)\u001b[0m\u001b[0;34m)\u001b[0m\u001b[0;34m\u001b[0m\u001b[0;34m\u001b[0m\u001b[0m\n\u001b[0;32m----> 4\u001b[0;31m \u001b[0mlife_expectancy_income\u001b[0m\u001b[0;34m[\u001b[0m\u001b[0;34m\"Per Capita Income(In USD)\"\u001b[0m\u001b[0;34m]\u001b[0m\u001b[0;34m=\u001b[0m\u001b[0mlife_expectancy_income\u001b[0m\u001b[0;34m[\u001b[0m\u001b[0;34m\"Per Capita Income(In USD)\"\u001b[0m\u001b[0;34m]\u001b[0m\u001b[0;34m.\u001b[0m\u001b[0mapply\u001b[0m\u001b[0;34m(\u001b[0m\u001b[0mclean_per_capita_income\u001b[0m\u001b[0;34m)\u001b[0m\u001b[0;34m\u001b[0m\u001b[0;34m\u001b[0m\u001b[0m\n\u001b[0m\u001b[1;32m      5\u001b[0m \u001b[0;34m\u001b[0m\u001b[0m\n",
      "\u001b[0;32m~/.local/lib/python3.6/site-packages/pandas/core/series.py\u001b[0m in \u001b[0;36mapply\u001b[0;34m(self, func, convert_dtype, args, **kwds)\u001b[0m\n\u001b[1;32m   3846\u001b[0m             \u001b[0;32melse\u001b[0m\u001b[0;34m:\u001b[0m\u001b[0;34m\u001b[0m\u001b[0;34m\u001b[0m\u001b[0m\n\u001b[1;32m   3847\u001b[0m                 \u001b[0mvalues\u001b[0m \u001b[0;34m=\u001b[0m \u001b[0mself\u001b[0m\u001b[0;34m.\u001b[0m\u001b[0mastype\u001b[0m\u001b[0;34m(\u001b[0m\u001b[0mobject\u001b[0m\u001b[0;34m)\u001b[0m\u001b[0;34m.\u001b[0m\u001b[0mvalues\u001b[0m\u001b[0;34m\u001b[0m\u001b[0;34m\u001b[0m\u001b[0m\n\u001b[0;32m-> 3848\u001b[0;31m                 \u001b[0mmapped\u001b[0m \u001b[0;34m=\u001b[0m \u001b[0mlib\u001b[0m\u001b[0;34m.\u001b[0m\u001b[0mmap_infer\u001b[0m\u001b[0;34m(\u001b[0m\u001b[0mvalues\u001b[0m\u001b[0;34m,\u001b[0m \u001b[0mf\u001b[0m\u001b[0;34m,\u001b[0m \u001b[0mconvert\u001b[0m\u001b[0;34m=\u001b[0m\u001b[0mconvert_dtype\u001b[0m\u001b[0;34m)\u001b[0m\u001b[0;34m\u001b[0m\u001b[0;34m\u001b[0m\u001b[0m\n\u001b[0m\u001b[1;32m   3849\u001b[0m \u001b[0;34m\u001b[0m\u001b[0m\n\u001b[1;32m   3850\u001b[0m         \u001b[0;32mif\u001b[0m \u001b[0mlen\u001b[0m\u001b[0;34m(\u001b[0m\u001b[0mmapped\u001b[0m\u001b[0;34m)\u001b[0m \u001b[0;32mand\u001b[0m \u001b[0misinstance\u001b[0m\u001b[0;34m(\u001b[0m\u001b[0mmapped\u001b[0m\u001b[0;34m[\u001b[0m\u001b[0;36m0\u001b[0m\u001b[0;34m]\u001b[0m\u001b[0;34m,\u001b[0m \u001b[0mSeries\u001b[0m\u001b[0;34m)\u001b[0m\u001b[0;34m:\u001b[0m\u001b[0;34m\u001b[0m\u001b[0;34m\u001b[0m\u001b[0m\n",
      "\u001b[0;32mpandas/_libs/lib.pyx\u001b[0m in \u001b[0;36mpandas._libs.lib.map_infer\u001b[0;34m()\u001b[0m\n",
      "\u001b[0;32m<ipython-input-8-97719e730b7d>\u001b[0m in \u001b[0;36mclean_per_capita_income\u001b[0;34m(dataset)\u001b[0m\n\u001b[1;32m      1\u001b[0m \u001b[0;32mimport\u001b[0m \u001b[0mre\u001b[0m\u001b[0;34m\u001b[0m\u001b[0;34m\u001b[0m\u001b[0m\n\u001b[1;32m      2\u001b[0m \u001b[0;32mdef\u001b[0m \u001b[0mclean_per_capita_income\u001b[0m\u001b[0;34m(\u001b[0m\u001b[0mdataset\u001b[0m\u001b[0;34m)\u001b[0m\u001b[0;34m:\u001b[0m\u001b[0;34m\u001b[0m\u001b[0;34m\u001b[0m\u001b[0m\n\u001b[0;32m----> 3\u001b[0;31m     \u001b[0;32mreturn\u001b[0m \u001b[0mint\u001b[0m\u001b[0;34m(\u001b[0m\u001b[0;34m''\u001b[0m\u001b[0;34m.\u001b[0m\u001b[0mjoin\u001b[0m\u001b[0;34m(\u001b[0m\u001b[0mre\u001b[0m\u001b[0;34m.\u001b[0m\u001b[0mfindall\u001b[0m\u001b[0;34m(\u001b[0m\u001b[0;34m\"[0-9]+\"\u001b[0m\u001b[0;34m,\u001b[0m\u001b[0mdataset\u001b[0m\u001b[0;34m)\u001b[0m\u001b[0;34m)\u001b[0m\u001b[0;34m)\u001b[0m\u001b[0;34m\u001b[0m\u001b[0;34m\u001b[0m\u001b[0m\n\u001b[0m\u001b[1;32m      4\u001b[0m \u001b[0mlife_expectancy_income\u001b[0m\u001b[0;34m[\u001b[0m\u001b[0;34m\"Per Capita Income(In USD)\"\u001b[0m\u001b[0;34m]\u001b[0m\u001b[0;34m=\u001b[0m\u001b[0mlife_expectancy_income\u001b[0m\u001b[0;34m[\u001b[0m\u001b[0;34m\"Per Capita Income(In USD)\"\u001b[0m\u001b[0;34m]\u001b[0m\u001b[0;34m.\u001b[0m\u001b[0mapply\u001b[0m\u001b[0;34m(\u001b[0m\u001b[0mclean_per_capita_income\u001b[0m\u001b[0;34m)\u001b[0m\u001b[0;34m\u001b[0m\u001b[0;34m\u001b[0m\u001b[0m\n\u001b[1;32m      5\u001b[0m \u001b[0;34m\u001b[0m\u001b[0m\n",
      "\u001b[0;32m/usr/lib/python3.6/re.py\u001b[0m in \u001b[0;36mfindall\u001b[0;34m(pattern, string, flags)\u001b[0m\n\u001b[1;32m    220\u001b[0m \u001b[0;34m\u001b[0m\u001b[0m\n\u001b[1;32m    221\u001b[0m     Empty matches are included in the result.\"\"\"\n\u001b[0;32m--> 222\u001b[0;31m     \u001b[0;32mreturn\u001b[0m \u001b[0m_compile\u001b[0m\u001b[0;34m(\u001b[0m\u001b[0mpattern\u001b[0m\u001b[0;34m,\u001b[0m \u001b[0mflags\u001b[0m\u001b[0;34m)\u001b[0m\u001b[0;34m.\u001b[0m\u001b[0mfindall\u001b[0m\u001b[0;34m(\u001b[0m\u001b[0mstring\u001b[0m\u001b[0;34m)\u001b[0m\u001b[0;34m\u001b[0m\u001b[0;34m\u001b[0m\u001b[0m\n\u001b[0m\u001b[1;32m    223\u001b[0m \u001b[0;34m\u001b[0m\u001b[0m\n\u001b[1;32m    224\u001b[0m \u001b[0;32mdef\u001b[0m \u001b[0mfinditer\u001b[0m\u001b[0;34m(\u001b[0m\u001b[0mpattern\u001b[0m\u001b[0;34m,\u001b[0m \u001b[0mstring\u001b[0m\u001b[0;34m,\u001b[0m \u001b[0mflags\u001b[0m\u001b[0;34m=\u001b[0m\u001b[0;36m0\u001b[0m\u001b[0;34m)\u001b[0m\u001b[0;34m:\u001b[0m\u001b[0;34m\u001b[0m\u001b[0;34m\u001b[0m\u001b[0m\n",
      "\u001b[0;31mTypeError\u001b[0m: expected string or bytes-like object"
     ]
    }
   ],
   "source": [
    "import re \n",
    "def clean_per_capita_income(dataset):        \n",
    "    return int(''.join(re.findall(\"[0-9]+\",dataset)))\n",
    "life_expectancy_income[\"Per Capita Income(In USD)\"]=life_expectancy_income[\"Per Capita Income(In USD)\"].apply(clean_per_capita_income)\n",
    "        "
   ]
  },
  {
   "cell_type": "markdown",
   "metadata": {},
   "source": [
    "**Cleaning Literacy Rate by Gender dataset**"
   ]
  },
  {
   "cell_type": "code",
   "execution_count": null,
   "metadata": {},
   "outputs": [],
   "source": [
    "literacy_rate_gender.head()"
   ]
  },
  {
   "cell_type": "code",
   "execution_count": null,
   "metadata": {},
   "outputs": [],
   "source": [
    "literacy_rate_gender.shape"
   ]
  },
  {
   "cell_type": "code",
   "execution_count": null,
   "metadata": {},
   "outputs": [],
   "source": [
    "literacy_rate_gender.dtypes"
   ]
  },
  {
   "cell_type": "code",
   "execution_count": null,
   "metadata": {},
   "outputs": [],
   "source": [
    "literacy_rate_gender.isna().sum()"
   ]
  },
  {
   "cell_type": "markdown",
   "metadata": {},
   "source": [
    "There are no NaN values.\n",
    "\n",
    "*Year* column has same value i.e. 2013. Dropping the column."
   ]
  },
  {
   "cell_type": "code",
   "execution_count": null,
   "metadata": {},
   "outputs": [],
   "source": [
    "literacy_rate_gender.drop(columns=[' Year'],inplace=True)"
   ]
  },
  {
   "cell_type": "markdown",
   "metadata": {},
   "source": [
    "**Cleaning education level for people older than 5 years dataset**"
   ]
  },
  {
   "cell_type": "code",
   "execution_count": null,
   "metadata": {},
   "outputs": [],
   "source": [
    "education_level.head()"
   ]
  },
  {
   "cell_type": "code",
   "execution_count": null,
   "metadata": {},
   "outputs": [],
   "source": [
    "print(\"Shape of dataset => {}\".format(education_level.shape))\n",
    "print(education_level[\"Province\"].unique)"
   ]
  },
  {
   "cell_type": "markdown",
   "metadata": {},
   "source": [
    "There are altogether 24 columns and data for 7 provinces and data for whole country"
   ]
  },
  {
   "cell_type": "code",
   "execution_count": null,
   "metadata": {},
   "outputs": [],
   "source": [
    "education_level.isna().sum()"
   ]
  },
  {
   "cell_type": "markdown",
   "metadata": {},
   "source": [
    "There are no NaN values "
   ]
  },
  {
   "cell_type": "markdown",
   "metadata": {},
   "source": [
    "**Cleaning federal population dataset**"
   ]
  },
  {
   "cell_type": "code",
   "execution_count": null,
   "metadata": {},
   "outputs": [],
   "source": [
    "federal_population.head()"
   ]
  },
  {
   "cell_type": "code",
   "execution_count": null,
   "metadata": {},
   "outputs": [],
   "source": [
    "federal_population.shape"
   ]
  },
  {
   "cell_type": "code",
   "execution_count": null,
   "metadata": {},
   "outputs": [],
   "source": [
    "federal_population['year'].unique()"
   ]
  },
  {
   "cell_type": "markdown",
   "metadata": {},
   "source": [
    "The dataset contains the population of whole nation and by federal level for year 2016 only. \n",
    "\n",
    "**Cleaning number of federal units dataset**"
   ]
  },
  {
   "cell_type": "code",
   "execution_count": null,
   "metadata": {},
   "outputs": [],
   "source": [
    "federal_units.head()"
   ]
  },
  {
   "cell_type": "code",
   "execution_count": null,
   "metadata": {},
   "outputs": [],
   "source": [
    "federal_units.dtypes"
   ]
  },
  {
   "cell_type": "code",
   "execution_count": null,
   "metadata": {},
   "outputs": [],
   "source": [
    "federal_units.shape"
   ]
  },
  {
   "cell_type": "code",
   "execution_count": null,
   "metadata": {},
   "outputs": [],
   "source": [
    "federal_units['District'].unique()"
   ]
  },
  {
   "cell_type": "markdown",
   "metadata": {},
   "source": [
    "The last row contains total of all fed units."
   ]
  },
  {
   "cell_type": "markdown",
   "metadata": {},
   "source": [
    "### 2. Data Analysis and Visualization\n"
   ]
  },
  {
   "cell_type": "markdown",
   "metadata": {},
   "source": [
    "Let's find maximum and minimum values for life_expectancy and per_capita income"
   ]
  },
  {
   "cell_type": "code",
   "execution_count": null,
   "metadata": {},
   "outputs": [],
   "source": [
    "life_expectancy_income[life_expectancy_income['Life expectancy(In Years)']==max(life_expectancy_income['Life expectancy(In Years)'])]"
   ]
  },
  {
   "cell_type": "code",
   "execution_count": null,
   "metadata": {},
   "outputs": [],
   "source": [
    "life_expectancy_income[life_expectancy_income['Life expectancy(In Years)']==min(life_expectancy_income['Life expectancy(In Years)'])]"
   ]
  },
  {
   "cell_type": "markdown",
   "metadata": {},
   "source": [
    "Ramechhap is the district having highest life expectancy of 72.9 years whereas Dolpa has least life expectancy of 61.2 years"
   ]
  },
  {
   "cell_type": "code",
   "execution_count": null,
   "metadata": {},
   "outputs": [],
   "source": [
    "life_expectancy_income[life_expectancy_income['Per Capita Income(In USD)']==max(life_expectancy_income[\"Per Capita Income(In USD)\"])]\n"
   ]
  },
  {
   "cell_type": "code",
   "execution_count": null,
   "metadata": {},
   "outputs": [],
   "source": [
    "life_expectancy_income[life_expectancy_income['Per Capita Income(In USD)']==min(life_expectancy_income[\"Per Capita Income(In USD)\"])]"
   ]
  },
  {
   "cell_type": "markdown",
   "metadata": {},
   "source": [
    "Manang has highest per capita income of 3166 USD whereas Bajhang has lowest per capita income of 487 USD."
   ]
  },
  {
   "cell_type": "markdown",
   "metadata": {},
   "source": [
    "Now let's see how per capita income are distributed in Nepal."
   ]
  },
  {
   "cell_type": "code",
   "execution_count": null,
   "metadata": {},
   "outputs": [],
   "source": [
    "plt.hist(life_expectancy_income[\"Per Capita Income(In USD)\"])\n",
    "plt.xlabel(\"Per Capita Income is USD\")\n",
    "plt.ylabel(\"Number of Districts\")\n",
    "plt.title(\"Histogram of Per Capita Income by Districts\")\n",
    "plt.grid(True)\n",
    "plt.show()"
   ]
  },
  {
   "cell_type": "markdown",
   "metadata": {},
   "source": [
    "From the distribution plot above, it is clear that most districts have Per Capita Income around 1000 USD\n",
    "\n",
    "Now let's see how life expectancy is distributed."
   ]
  },
  {
   "cell_type": "code",
   "execution_count": null,
   "metadata": {},
   "outputs": [],
   "source": [
    "plt.hist(life_expectancy_income[\"Life expectancy(In Years)\"])\n",
    "plt.xlabel(\"Life expectancy(In Years)\")\n",
    "plt.ylabel(\"Number of Districts\")\n",
    "plt.title(\"Life Expectancy by Districts\")\n",
    "plt.grid(True)\n",
    "plt.show()"
   ]
  },
  {
   "cell_type": "markdown",
   "metadata": {},
   "source": [
    "This plot shows that most districts have Life Expectancy of 68-70 years."
   ]
  },
  {
   "cell_type": "code",
   "execution_count": null,
   "metadata": {},
   "outputs": [],
   "source": [
    "provinces={\n",
    "    \"Province 1\":[\"Bhojpur\",\"Dhankuta\",\"Ilam\",\"Jhapa\",\"Khotang\",\"Morang\",\"Okhaldhunga\",\"Panchthar\",\"Sankhuwasabha\",\"Solukhumbu\",\"Sunsari\",\"Taplejung\",\"Terhathum\",\"Udayapur\"],\n",
    "    \"Province 2\":[\"Saptari\",\"Birgunj\",\"Sarlahi\",\"Bara\",\"Siraha\",\"Rautahat\",\"Dhanusha\",\"Mahottari\"],\n",
    "    \"Province 3\":[\"Sindhuli\",\"Ramechhap\",\"Dolakha\",\"Bhaktapur\",\"Dhading\",\"Kathmandu\",\"Kavrepalanchowk\",\"Lalitpur\",\"Nuwakot\",\"Rasuwa\",\"Sidhupalchok\",\"Chitwan\",\"Makwanpur\"],\n",
    "    \"Gandaki\":[\"Baglung\",\"Gorkha\",\"Kaski\",\"Lamjung\",\"Manang\",\"Mustang\",\"Myagdi\",\"Nawalpur\",\"Parbat\",\"Syangja\",\"Tanahun\"],\n",
    "    \"Province 5\":[\"Kapilvastu\",\"Parasi\",\"Rupandehi\",\"Arghakhanchi\",\"Gulmi\",\"Palpa\",\"Dang\",\"Pyuthan\",\"Rolpa\",\"Eastern Rukum\",\"Banke\",\"Bardiya\"],\n",
    "    \"Karnali\":[\"Western Rukum\",\"Salyan\",\"Dolpa\",\"Humla\",\"Jumla\",\"Kalikot\",\"Mugu\",\"Surkhet\",\"Dailekh\",\"Jajarkot\"],\n",
    "    \"Province 7\":[\"Kailali\",\"Achham\",\"Doti\",\"Bajhang\",\"Bajura\",\"Kanchanpur\",\"Dadeldhura\",\"Baitadi\",\"Darchula\"]\n",
    "    }"
   ]
  },
  {
   "cell_type": "markdown",
   "metadata": {},
   "source": [
    "Now let's analyze literacy rate dataset."
   ]
  },
  {
   "cell_type": "code",
   "execution_count": null,
   "metadata": {},
   "outputs": [],
   "source": [
    "literacy_rate_gender[literacy_rate_gender[\"Total\"]==max(literacy_rate_gender[\"Total\"])]"
   ]
  },
  {
   "cell_type": "code",
   "execution_count": null,
   "metadata": {},
   "outputs": [],
   "source": [
    "literacy_rate_gender[literacy_rate_gender[\"Total\"]==min(literacy_rate_gender[\"Total\"])]"
   ]
  },
  {
   "cell_type": "markdown",
   "metadata": {},
   "source": [
    "Kathmandu has highest literacy rate of 86.3% and Rautahat has least literacy rate of only 41.7 %"
   ]
  },
  {
   "cell_type": "code",
   "execution_count": null,
   "metadata": {},
   "outputs": [],
   "source": [
    "plt.hist(literacy_rate_gender[\"Male\"])\n",
    "plt.xlabel(\"Literacy rate of Male\")\n",
    "plt.ylabel(\"Number of Districts\")\n",
    "plt.title(\"Literacy Rate Distribution of Male Population\")\n",
    "plt.grid(True)\n",
    "plt.show()"
   ]
  },
  {
   "cell_type": "code",
   "execution_count": null,
   "metadata": {},
   "outputs": [],
   "source": [
    "plt.hist(literacy_rate_gender[\"Female\"])\n",
    "plt.xlabel(\"Literacy rate of Female\")\n",
    "plt.ylabel(\"Number of Districts\")\n",
    "plt.title(\"Literacy Rate Distribution of Female Population\")\n",
    "plt.grid(True)\n",
    "plt.show()"
   ]
  },
  {
   "cell_type": "code",
   "execution_count": null,
   "metadata": {},
   "outputs": [],
   "source": [
    "plt.hist(literacy_rate_gender[\"Total\"])\n",
    "plt.xlabel(\"Literacy rate\")\n",
    "plt.ylabel(\"Number of Districts\")\n",
    "plt.title(\"Literacy Rate Distribution of Total Population by Districts\")\n",
    "plt.grid(True)\n",
    "plt.show()"
   ]
  },
  {
   "cell_type": "markdown",
   "metadata": {},
   "source": [
    "The graphs show the distribution of Literacy Rate by Gender among districts"
   ]
  },
  {
   "cell_type": "code",
   "execution_count": null,
   "metadata": {},
   "outputs": [],
   "source": [
    "literacy_rate_provinces={}\n",
    "for province,districts in provinces.items():\n",
    "    literacy_rate_provinces[province]=[0,0, 0]\n",
    "    for dist in districts:\n",
    "        l_rate=literacy_rate_gender[literacy_rate_gender[\"District\"].str.match(dist)][\"Total\"]\n",
    "        if l_rate.empty:\n",
    "            continue\n",
    "        rate=l_rate.values[0] \n",
    "        m_rate=(literacy_rate_gender[literacy_rate_gender[\"District\"].str.match(dist)][\"Male\"]).values[0]\n",
    "        f_rate=(literacy_rate_gender[literacy_rate_gender[\"District\"].str.match(dist)][\"Female\"]).values[0]\n",
    "        if rate>literacy_rate_provinces[province][0]:\n",
    "            literacy_rate_provinces[province][0]=rate\n",
    "        if m_rate>literacy_rate_provinces[province][1]:\n",
    "            literacy_rate_provinces[province][1]=m_rate\n",
    "        if m_rate>literacy_rate_provinces[province][2]:\n",
    "            literacy_rate_provinces[province][2]=f_rate"
   ]
  },
  {
   "cell_type": "code",
   "execution_count": null,
   "metadata": {},
   "outputs": [],
   "source": [
    "provinces_df=pd.DataFrame(data=literacy_rate_provinces.keys(),columns=[\"Provinces\"])"
   ]
  },
  {
   "cell_type": "code",
   "execution_count": null,
   "metadata": {},
   "outputs": [],
   "source": [
    "rates=literacy_rate_provinces.values()\n",
    "total_rate=[x[0] for x in rates]\n",
    "male_rate=[x[1] for x in rates]\n",
    "female_rate=[x[2] for x in rates]\n",
    "provinces_df[\"Total Literacy\"]=total_rate\n",
    "provinces_df[\"Male Literacy\"]=male_rate\n",
    "provinces_df[\"Female Literacy\"]=female_rate\n"
   ]
  },
  {
   "cell_type": "code",
   "execution_count": null,
   "metadata": {},
   "outputs": [],
   "source": [
    "provinces_df"
   ]
  },
  {
   "cell_type": "code",
   "execution_count": null,
   "metadata": {},
   "outputs": [],
   "source": [
    "plt.figure(figsize=(12,8))\n",
    "barWidth = 0.25\n",
    "\n",
    "r1 = np.arange(len(total_rate))\n",
    "r2 = [x + barWidth for x in r1]\n",
    "r3 = [x + barWidth for x in r2]\n",
    "\n",
    "plt.bar(r1,total_rate,width=barWidth, edgecolor='white', label='Total')\n",
    "plt.bar(r2,male_rate,width=barWidth, edgecolor='white', label='Male')\n",
    "plt.bar(r3,female_rate,width=barWidth, edgecolor='white', label='Female')\n",
    "\n",
    "\n",
    "plt.xlabel('Province')\n",
    "plt.xticks([r + barWidth for r in range(len(total_rate))], ['Province 1', 'Province 2', 'Province 3', 'Gandaki', 'Province 5','Karnali','Province 7'])\n",
    "plt.ylabel(\"Literacy Rate\")\n",
    "plt.title(\"Literacy rates by Province level\")\n",
    "\n",
    "plt.legend()\n",
    "plt.show()\n"
   ]
  },
  {
   "cell_type": "markdown",
   "metadata": {},
   "source": [
    "This plot shows that Province 3 has highest literacy rate whereas Province 2 has least literacy rate among all 7 provinces.\n",
    "\n",
    "Also male literacy rate is higher in Province 3 and female literacy rate is higher in Gandaki Province.\n",
    "Similary both are lowest in Province 2. "
   ]
  },
  {
   "cell_type": "markdown",
   "metadata": {},
   "source": [
    "### 3. Data Pre-Processing and Feature Selection\n"
   ]
  },
  {
   "cell_type": "markdown",
   "metadata": {},
   "source": [
    "As part of data pre-processing, combine literacy rate dataset and life expectancy dataset "
   ]
  },
  {
   "cell_type": "code",
   "execution_count": null,
   "metadata": {},
   "outputs": [],
   "source": [
    "final_df=pd.concat([life_expectancy_income,literacy_rate_gender[[\"Total\"]]],axis=1)"
   ]
  },
  {
   "cell_type": "code",
   "execution_count": null,
   "metadata": {},
   "outputs": [],
   "source": [
    "final_df.head()"
   ]
  },
  {
   "cell_type": "code",
   "execution_count": null,
   "metadata": {},
   "outputs": [],
   "source": [
    "#rename total to literacy rate\n",
    "final_df.rename({\"Total\":\"Literacy Rate\"},axis='columns',inplace=True)"
   ]
  },
  {
   "cell_type": "code",
   "execution_count": null,
   "metadata": {},
   "outputs": [],
   "source": [
    "final_df.columns"
   ]
  },
  {
   "cell_type": "markdown",
   "metadata": {},
   "source": [
    "**Normalize Data**"
   ]
  },
  {
   "cell_type": "code",
   "execution_count": null,
   "metadata": {},
   "outputs": [],
   "source": [
    "from sklearn.preprocessing import StandardScaler"
   ]
  },
  {
   "cell_type": "code",
   "execution_count": null,
   "metadata": {},
   "outputs": [],
   "source": [
    "scaler=StandardScaler()\n",
    "X=final_df.drop(columns=['District'])\n",
    "scaler.fit(X)\n",
    "final_scaled_data=scaler.transform(X)\n",
    "final_scaled_data.shape"
   ]
  },
  {
   "cell_type": "markdown",
   "metadata": {},
   "source": [
    "### 4. KMeans "
   ]
  },
  {
   "cell_type": "code",
   "execution_count": null,
   "metadata": {},
   "outputs": [],
   "source": [
    "from sklearn.cluster import KMeans"
   ]
  },
  {
   "cell_type": "markdown",
   "metadata": {},
   "source": [
    "**Choosing number of clusters using Elbow method**"
   ]
  },
  {
   "cell_type": "code",
   "execution_count": null,
   "metadata": {},
   "outputs": [],
   "source": [
    "inertia=[]\n",
    "num_of_clusters=[]\n",
    "for k in range(2,10):\n",
    "    kmeans=KMeans(n_clusters=k,random_state=1)\n",
    "    pred=kmeans.fit(X)\n",
    "    inertia.append(kmeans.inertia_)\n",
    "    num_of_clusters.append(k)\n",
    "    \n",
    "plt.plot(num_of_clusters,inertia)\n",
    "plt.grid()\n",
    "plt.xlabel(\"Different values of k (num of clusters)\")\n",
    "plt.ylabel(\"Inertia\")\n",
    "plt.title(\"Elbow method for choosing the value of k\")\n",
    "plt.show()"
   ]
  },
  {
   "cell_type": "markdown",
   "metadata": {},
   "source": [
    "From above graph, num of clusters=3 can be choose for further steps"
   ]
  },
  {
   "cell_type": "code",
   "execution_count": null,
   "metadata": {},
   "outputs": [],
   "source": [
    "kmeans=KMeans(n_clusters=3,random_state=1)\n",
    "kmeans.fit(final_scaled_data)\n"
   ]
  },
  {
   "cell_type": "code",
   "execution_count": null,
   "metadata": {},
   "outputs": [],
   "source": [
    "kmeans.labels_"
   ]
  },
  {
   "cell_type": "code",
   "execution_count": null,
   "metadata": {},
   "outputs": [],
   "source": [
    "kmeans.cluster_centers_"
   ]
  },
  {
   "cell_type": "markdown",
   "metadata": {},
   "source": [
    "**Using PCA for visualizing cluster**"
   ]
  },
  {
   "cell_type": "code",
   "execution_count": null,
   "metadata": {},
   "outputs": [],
   "source": [
    "pca = PCA(n_components=3)\n",
    "principalComponents = pca.fit_transform(final_scaled_data)"
   ]
  },
  {
   "cell_type": "code",
   "execution_count": null,
   "metadata": {},
   "outputs": [],
   "source": [
    "COLOR_MAP = {0 : 'r',\n",
    "                   1 : 'g',\n",
    "                   2 : 'b'}\n",
    "\n",
    "label_color = [COLOR_MAP[l] for l in kmeans.labels_]\n",
    "plt.figure(figsize=(12,8))\n",
    "plt.scatter(principalComponents[:,0],principalComponents[:,1],c=label_color, alpha=0.9)\n",
    "plt.title(\"Cluster visualization of HDI data using KMeans\")\n",
    "plt.show()"
   ]
  },
  {
   "cell_type": "code",
   "execution_count": null,
   "metadata": {},
   "outputs": [],
   "source": [
    "silhouette_score(principalComponents,kmeans.labels_)"
   ]
  },
  {
   "cell_type": "markdown",
   "metadata": {},
   "source": [
    "For 3 clusters, the silhouette score is 0.44"
   ]
  },
  {
   "cell_type": "markdown",
   "metadata": {},
   "source": [
    "### 5. DBSCAN"
   ]
  },
  {
   "cell_type": "code",
   "execution_count": null,
   "metadata": {},
   "outputs": [],
   "source": [
    "from sklearn.cluster import DBSCAN"
   ]
  },
  {
   "cell_type": "markdown",
   "metadata": {},
   "source": [
    "Choosing the value of epison and min_samples"
   ]
  },
  {
   "cell_type": "code",
   "execution_count": null,
   "metadata": {},
   "outputs": [],
   "source": [
    "from sklearn.neighbors import NearestNeighbors"
   ]
  },
  {
   "cell_type": "code",
   "execution_count": null,
   "metadata": {},
   "outputs": [],
   "source": [
    "neigh=NearestNeighbors(n_neighbors=9)\n",
    "nbrs=neigh.fit(final_scaled_data)\n",
    "distances,indices=nbrs.kneighbors(final_scaled_data)"
   ]
  },
  {
   "cell_type": "code",
   "execution_count": null,
   "metadata": {},
   "outputs": [],
   "source": [
    "distances=np.sort(distances,axis=0)\n",
    "distances_=distances[:,8]\n",
    "plt.plot(distances_)"
   ]
  },
  {
   "cell_type": "code",
   "execution_count": null,
   "metadata": {},
   "outputs": [],
   "source": [
    "distances.shape"
   ]
  },
  {
   "cell_type": "markdown",
   "metadata": {},
   "source": [
    "Choosing eps=2 from the above graph"
   ]
  },
  {
   "cell_type": "code",
   "execution_count": null,
   "metadata": {},
   "outputs": [],
   "source": [
    "dbscan=DBSCAN(eps=2.,min_samples=3,metric='euclidean')\n",
    "dbscan.fit(final_scaled_data)"
   ]
  },
  {
   "cell_type": "code",
   "execution_count": null,
   "metadata": {},
   "outputs": [],
   "source": [
    "dbscan.labels_"
   ]
  },
  {
   "cell_type": "code",
   "execution_count": null,
   "metadata": {},
   "outputs": [],
   "source": [
    "plt.figure(figsize=(12,8))\n",
    "COLOR_MAP = {-1 : 'r',\n",
    "                   0 : 'g',\n",
    "                   1 : 'b'}\n",
    "\n",
    "label_color = [COLOR_MAP[l] for l in dbscan.labels_]\n",
    "plt.scatter(final_scaled_data[:, 0], final_scaled_data[:, 1], c=label_color,alpha=0.9);\n",
    "plt.title(\"Scatter plot for DBSCAN\")\n",
    "plt.show()"
   ]
  },
  {
   "cell_type": "markdown",
   "metadata": {},
   "source": [
    "DBSCAN formed only a single cluster."
   ]
  },
  {
   "cell_type": "code",
   "execution_count": null,
   "metadata": {},
   "outputs": [],
   "source": [
    "silhouette_score(final_scaled_data,dbscan.labels_)"
   ]
  },
  {
   "cell_type": "markdown",
   "metadata": {},
   "source": [
    "For eps=2 and min_samples=8, DBSCAN received 0.588 sihouette score."
   ]
  },
  {
   "cell_type": "markdown",
   "metadata": {},
   "source": [
    "## 6. GMM "
   ]
  },
  {
   "cell_type": "code",
   "execution_count": null,
   "metadata": {},
   "outputs": [],
   "source": [
    "from sklearn.mixture import GaussianMixture\n"
   ]
  },
  {
   "cell_type": "markdown",
   "metadata": {},
   "source": [
    "KMeans can be used to select select number of components. "
   ]
  },
  {
   "cell_type": "code",
   "execution_count": null,
   "metadata": {},
   "outputs": [],
   "source": [
    "gmm=GaussianMixture(n_components=3)\n",
    "gmm.fit(final_scaled_data)"
   ]
  },
  {
   "cell_type": "code",
   "execution_count": null,
   "metadata": {},
   "outputs": [],
   "source": [
    "labels=gmm.predict(final_scaled_data)\n",
    "labels"
   ]
  },
  {
   "cell_type": "code",
   "execution_count": null,
   "metadata": {},
   "outputs": [],
   "source": [
    "plt.figure(figsize=(12,8))\n",
    "COLOR_MAP = {0 : 'r',\n",
    "                   1 : 'g',\n",
    "                   2 : 'b'}\n",
    "\n",
    "label_color = [COLOR_MAP[l] for l in labels]\n",
    "plt.scatter(final_scaled_data[:, 0], final_scaled_data[:, 1], c=label_color,alpha=0.9);\n",
    "plt.title(\"Scatter plot for GMM\")\n",
    "plt.show()"
   ]
  },
  {
   "cell_type": "markdown",
   "metadata": {},
   "source": [
    "NOw calculate Silhouette Score for clusters formed"
   ]
  },
  {
   "cell_type": "code",
   "execution_count": null,
   "metadata": {},
   "outputs": [],
   "source": [
    "silhouette_score(final_scaled_data,labels)"
   ]
  },
  {
   "cell_type": "markdown",
   "metadata": {},
   "source": [
    "## 7. Conclusion"
   ]
  },
  {
   "cell_type": "markdown",
   "metadata": {},
   "source": [
    "Three models were used for clustering HDI dataset on parameters: Life Expectancy, Per Capita Income and Literacy Rate.\n",
    "On evaulating the performance of all models, it can be conlcuded that Gaussian Mixture Model with number of components=3 performed\n",
    "well than other model achieveing Silhouette score of 0.4484"
   ]
  }
 ],
 "metadata": {
  "kernelspec": {
   "display_name": "Python 3",
   "language": "python",
   "name": "python3"
  },
  "language_info": {
   "codemirror_mode": {
    "name": "ipython",
    "version": 3
   },
   "file_extension": ".py",
   "mimetype": "text/x-python",
   "name": "python",
   "nbconvert_exporter": "python",
   "pygments_lexer": "ipython3",
   "version": "3.6.9"
  }
 },
 "nbformat": 4,
 "nbformat_minor": 4
}
