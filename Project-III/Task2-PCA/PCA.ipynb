{
 "cells": [
  {
   "cell_type": "markdown",
   "metadata": {},
   "source": [
    "## PCA (Principal Component Analysis)\n",
    "\n",
    "Submitted By: Anish Bhusal (bhusal.anish12@gmail.com)\n",
    "\n",
    "\n",
    "\n"
   ]
  },
  {
   "cell_type": "markdown",
   "metadata": {},
   "source": [
    "**Import Necessary Libraries**"
   ]
  },
  {
   "cell_type": "code",
   "execution_count": 1,
   "metadata": {},
   "outputs": [],
   "source": [
    "import numpy as np\n",
    "import pandas as pd\n",
    "import matplotlib.pyplot as plt\n",
    "%matplotlib inline"
   ]
  },
  {
   "cell_type": "markdown",
   "metadata": {},
   "source": [
    "**Import MNIST Dataset**"
   ]
  },
  {
   "cell_type": "code",
   "execution_count": 2,
   "metadata": {},
   "outputs": [],
   "source": [
    "from sklearn.datasets import load_digits"
   ]
  },
  {
   "cell_type": "code",
   "execution_count": 3,
   "metadata": {},
   "outputs": [],
   "source": [
    "mnist=load_digits()"
   ]
  },
  {
   "cell_type": "code",
   "execution_count": 4,
   "metadata": {},
   "outputs": [
    {
     "data": {
      "text/plain": [
       "dict_keys(['data', 'target', 'target_names', 'images', 'DESCR'])"
      ]
     },
     "execution_count": 4,
     "metadata": {},
     "output_type": "execute_result"
    }
   ],
   "source": [
    "mnist.keys()"
   ]
  },
  {
   "cell_type": "code",
   "execution_count": 5,
   "metadata": {},
   "outputs": [
    {
     "data": {
      "text/plain": [
       "array([0, 1, 2, 3, 4, 5, 6, 7, 8, 9, 0, 1, 2, 3, 4, 5, 6, 7, 8, 9])"
      ]
     },
     "execution_count": 5,
     "metadata": {},
     "output_type": "execute_result"
    }
   ],
   "source": [
    "mnist.target[:20]"
   ]
  },
  {
   "cell_type": "code",
   "execution_count": 6,
   "metadata": {},
   "outputs": [],
   "source": [
    "data=mnist['images']"
   ]
  },
  {
   "cell_type": "code",
   "execution_count": 7,
   "metadata": {},
   "outputs": [
    {
     "name": "stdout",
     "output_type": "stream",
     "text": [
      "Shape of dataset (1797, 8, 8)\n"
     ]
    }
   ],
   "source": [
    "print(\"Shape of dataset {}\".format(data.shape))"
   ]
  },
  {
   "cell_type": "markdown",
   "metadata": {},
   "source": [
    "There are altogether 1797 images of shape 8 * 8"
   ]
  },
  {
   "cell_type": "code",
   "execution_count": 8,
   "metadata": {},
   "outputs": [
    {
     "data": {
      "image/png": "[encoded data removed]",
      "text/plain": [
       "<Figure size 432x288 with 1 Axes>"
      ]
     },
     "metadata": {
      "needs_background": "light"
     },
     "output_type": "display_data"
    }
   ],
   "source": [
    "# visualize an example image from dataset\n",
    "plt.imshow(data[0])\n",
    "plt.show()"
   ]
  },
  {
   "cell_type": "markdown",
   "metadata": {},
   "source": [
    "**Reshape dataset**\n",
    "\n",
    "Convert 8 * 8 image matrix into 1-D i.e. into 64 data points."
   ]
  },
  {
   "cell_type": "code",
   "execution_count": 9,
   "metadata": {},
   "outputs": [
    {
     "name": "stdout",
     "output_type": "stream",
     "text": [
      "New Shape => (1797, 64)\n"
     ]
    }
   ],
   "source": [
    "data=data.reshape(data.shape[0],-1)\n",
    "print(\"New Shape => {}\".format(data.shape))"
   ]
  },
  {
   "cell_type": "code",
   "execution_count": 10,
   "metadata": {},
   "outputs": [
    {
     "data": {
      "text/plain": [
       "array([ 0.,  0.,  5., 13.,  9.,  1.,  0.,  0.,  0.,  0., 13., 15., 10.,\n",
       "       15.,  5.,  0.,  0.,  3., 15.,  2.,  0., 11.,  8.,  0.,  0.,  4.,\n",
       "       12.,  0.,  0.,  8.,  8.,  0.,  0.,  5.,  8.,  0.,  0.,  9.,  8.,\n",
       "        0.,  0.,  4., 11.,  0.,  1., 12.,  7.,  0.,  0.,  2., 14.,  5.,\n",
       "       10., 12.,  0.,  0.,  0.,  0.,  6., 13., 10.,  0.,  0.,  0.])"
      ]
     },
     "execution_count": 10,
     "metadata": {},
     "output_type": "execute_result"
    }
   ],
   "source": [
    "data[0]"
   ]
  },
  {
   "cell_type": "markdown",
   "metadata": {},
   "source": [
    "**Dataset Normalization**\n",
    "\n",
    "Before reducing the dimensionality of the dataset using PCA, we need to normalize the data."
   ]
  },
  {
   "cell_type": "code",
   "execution_count": 11,
   "metadata": {},
   "outputs": [
    {
     "data": {
      "text/plain": [
       "(64,)"
      ]
     },
     "execution_count": 11,
     "metadata": {},
     "output_type": "execute_result"
    }
   ],
   "source": [
    "data_mean=np.mean(data,axis=0) #find mean across columns i.e. a total of 64 mean values \n",
    "data_mean.shape"
   ]
  },
  {
   "cell_type": "code",
   "execution_count": 12,
   "metadata": {},
   "outputs": [],
   "source": [
    "data_norm=data-data_mean #normalized data"
   ]
  },
  {
   "cell_type": "markdown",
   "metadata": {},
   "source": [
    "Find Covariance Matrix for normalized data"
   ]
  },
  {
   "cell_type": "code",
   "execution_count": 13,
   "metadata": {},
   "outputs": [],
   "source": [
    "data_norm_transpose=data_norm.transpose()\n",
    "cov_m=np.cov(data_norm_transpose)"
   ]
  },
  {
   "cell_type": "code",
   "execution_count": 14,
   "metadata": {},
   "outputs": [
    {
     "data": {
      "text/plain": [
       "(64, 64)"
      ]
     },
     "execution_count": 14,
     "metadata": {},
     "output_type": "execute_result"
    }
   ],
   "source": [
    "cov_m.shape"
   ]
  },
  {
   "cell_type": "markdown",
   "metadata": {},
   "source": [
    "The covariance matrix is of 64 x 64 shape where each element corresponds to the variance of ith feature with jth feature."
   ]
  },
  {
   "cell_type": "markdown",
   "metadata": {},
   "source": [
    "*Now we need to find eigen values and eigen vectors for the covariance matrix*"
   ]
  },
  {
   "cell_type": "code",
   "execution_count": 15,
   "metadata": {},
   "outputs": [],
   "source": [
    "from scipy.linalg import eigh "
   ]
  },
  {
   "cell_type": "code",
   "execution_count": 16,
   "metadata": {},
   "outputs": [],
   "source": [
    "e_values,e_vectors=eigh(cov_m)"
   ]
  },
  {
   "cell_type": "code",
   "execution_count": 17,
   "metadata": {},
   "outputs": [
    {
     "data": {
      "text/plain": [
       "(64,)"
      ]
     },
     "execution_count": 17,
     "metadata": {},
     "output_type": "execute_result"
    }
   ],
   "source": [
    "e_values.shape"
   ]
  },
  {
   "cell_type": "code",
   "execution_count": 18,
   "metadata": {},
   "outputs": [
    {
     "data": {
      "text/plain": [
       "(64, 64)"
      ]
     },
     "execution_count": 18,
     "metadata": {},
     "output_type": "execute_result"
    }
   ],
   "source": [
    "e_vectors.shape"
   ]
  },
  {
   "cell_type": "markdown",
   "metadata": {},
   "source": [
    "#### Task 1: Sort the \"eigen_values and eigen_vectors\" according to the decreasing order of the Eigen value"
   ]
  },
  {
   "cell_type": "code",
   "execution_count": 19,
   "metadata": {},
   "outputs": [],
   "source": [
    "e_values=e_values[::-1] "
   ]
  },
  {
   "cell_type": "code",
   "execution_count": 20,
   "metadata": {},
   "outputs": [
    {
     "data": {
      "text/plain": [
       "array([ 1.79006930e+02,  1.63717747e+02,  1.41788439e+02,  1.01100375e+02,\n",
       "        6.95131656e+01,  5.91085249e+01,  5.18845391e+01,  4.40151067e+01,\n",
       "        4.03109953e+01,  3.70117984e+01,  2.85190412e+01,  2.73211698e+01,\n",
       "        2.19014881e+01,  2.13243565e+01,  1.76367222e+01,  1.69468639e+01,\n",
       "        1.58513899e+01,  1.50044602e+01,  1.22344732e+01,  1.08868593e+01,\n",
       "        1.06935663e+01,  9.58259779e+00,  9.22640260e+00,  8.69036872e+00,\n",
       "        8.36561190e+00,  7.16577961e+00,  6.91973881e+00,  6.19295508e+00,\n",
       "        5.88499123e+00,  5.15586690e+00,  4.49129656e+00,  4.24687799e+00,\n",
       "        4.04743883e+00,  3.94340334e+00,  3.70647245e+00,  3.53165306e+00,\n",
       "        3.08457409e+00,  2.73780002e+00,  2.67210896e+00,  2.54170563e+00,\n",
       "        2.28298744e+00,  1.90724229e+00,  1.81716569e+00,  1.68996439e+00,\n",
       "        1.40197220e+00,  1.29221888e+00,  1.15893419e+00,  9.31220008e-01,\n",
       "        6.69850594e-01,  4.86065217e-01,  2.52350432e-01,  9.91527944e-02,\n",
       "        6.31307848e-02,  6.07377581e-02,  3.96662297e-02,  1.49505636e-02,\n",
       "        8.47307261e-03,  3.62365957e-03,  1.27705113e-03,  6.61270906e-04,\n",
       "        4.12223305e-04,  2.33513418e-16,  0.00000000e+00, -4.37814258e-17])"
      ]
     },
     "execution_count": 20,
     "metadata": {},
     "output_type": "execute_result"
    }
   ],
   "source": [
    "e_values"
   ]
  },
  {
   "cell_type": "code",
   "execution_count": 21,
   "metadata": {},
   "outputs": [],
   "source": [
    "#sort eigen_vectors \n",
    "e_vectors=e_vectors[:,::-1]"
   ]
  },
  {
   "cell_type": "code",
   "execution_count": 22,
   "metadata": {},
   "outputs": [
    {
     "data": {
      "text/plain": [
       "array([[ 0.00000000e+00,  0.00000000e+00],\n",
       "       [-1.73094651e-02, -1.01064569e-02],\n",
       "       [-2.23428835e-01, -4.90849204e-02],\n",
       "       [-1.35913304e-01, -9.43337493e-03],\n",
       "       [-3.30323092e-02, -5.36015636e-02],\n",
       "       [-9.66340844e-02, -1.17755318e-01],\n",
       "       [-8.32943805e-03, -6.21281792e-02],\n",
       "       [ 2.26900082e-03, -7.93574578e-03],\n",
       "       [-3.20516495e-04, -1.63216259e-04],\n",
       "       [-1.19308905e-01, -2.10167064e-02],\n",
       "       [-2.44451676e-01,  6.03485687e-02],\n",
       "       [ 1.48512745e-01, -5.33769554e-03],\n",
       "       [-4.67319410e-02, -9.19769205e-02],\n",
       "       [-2.17740744e-01, -5.19210493e-02],\n",
       "       [-1.48136776e-02, -5.89354684e-02],\n",
       "       [ 4.47779518e-03, -3.33283413e-03],\n",
       "       [-4.94136398e-05, -4.22872096e-05],\n",
       "       [-7.95419375e-02,  3.62458505e-02],\n",
       "       [ 8.33951454e-02,  1.98257337e-01],\n",
       "       [ 2.15915342e-01, -4.86386550e-02],\n",
       "       [-1.72126801e-01, -2.25574894e-01],\n",
       "       [-1.63712098e-01, -4.50541862e-03],\n",
       "       [ 2.86444452e-02,  2.67696727e-02],\n",
       "       [ 4.23251803e-03, -2.08735745e-04],\n",
       "       [ 9.85488574e-05, -5.66233953e-05],\n",
       "       [ 6.42319144e-02,  7.71235121e-02],\n",
       "       [ 2.54093316e-01,  1.88447107e-01],\n",
       "       [-3.56771026e-02, -1.37952518e-01],\n",
       "       [-2.09462569e-01, -2.61042779e-01],\n",
       "       [-4.31311420e-02,  4.98350596e-02],\n",
       "       [ 5.13118688e-02,  6.51113775e-02],\n",
       "       [ 2.13422732e-04,  4.03200346e-05],\n",
       "       [ 0.00000000e+00,  0.00000000e+00],\n",
       "       [ 1.59950883e-01,  8.81559918e-02],\n",
       "       [ 3.68690774e-01,  8.71737595e-02],\n",
       "       [ 1.64406827e-01, -2.70860181e-01],\n",
       "       [ 8.52007908e-02, -2.85291800e-01],\n",
       "       [ 3.72982855e-02,  1.66461582e-01],\n",
       "       [ 2.15866980e-02,  1.27860543e-01],\n",
       "       [ 0.00000000e+00,  0.00000000e+00],\n",
       "       [ 1.28865585e-03,  2.89440157e-04],\n",
       "       [ 1.06945287e-01,  5.08304859e-02],\n",
       "       [ 3.03067457e-01,  1.30274463e-01],\n",
       "       [ 2.47813041e-01, -2.68906468e-01],\n",
       "       [ 2.09637296e-01, -3.01575537e-01],\n",
       "       [ 1.22325219e-02,  2.40259064e-01],\n",
       "       [-3.69458497e-02,  2.17555551e-01],\n",
       "       [ 1.61485028e-03,  1.32726068e-03],\n",
       "       [ 6.93023548e-04,  2.86742937e-04],\n",
       "       [-8.35144239e-03,  1.05548282e-02],\n",
       "       [-5.58598986e-02,  1.53370694e-01],\n",
       "       [ 9.30534169e-02, -1.19535173e-01],\n",
       "       [ 1.07387720e-01, -9.72508046e-02],\n",
       "       [-1.37734565e-01,  2.85869538e-01],\n",
       "       [-6.32879466e-02,  1.48776446e-01],\n",
       "       [ 9.61671077e-04,  5.42290907e-04],\n",
       "       [ 9.55079131e-06, -3.34028085e-05],\n",
       "       [-1.40786840e-02, -1.00791167e-02],\n",
       "       [-2.35675488e-01, -7.02724074e-02],\n",
       "       [-1.41225588e-01,  1.71108112e-02],\n",
       "       [-9.15964553e-03,  1.94296399e-01],\n",
       "       [-8.94184677e-02,  1.76697117e-01],\n",
       "       [-3.65977111e-02,  1.94547053e-02],\n",
       "       [-1.14684954e-02, -6.69693895e-03]])"
      ]
     },
     "execution_count": 22,
     "metadata": {},
     "output_type": "execute_result"
    }
   ],
   "source": [
    "e_vectors[:,:2]"
   ]
  },
  {
   "cell_type": "markdown",
   "metadata": {},
   "source": [
    "#### Task 2:  Take the first num_of_component components from the eigen_values and eigen_vectors"
   ]
  },
  {
   "cell_type": "code",
   "execution_count": 23,
   "metadata": {},
   "outputs": [],
   "source": [
    "e_val=e_values[:2]"
   ]
  },
  {
   "cell_type": "code",
   "execution_count": 24,
   "metadata": {},
   "outputs": [
    {
     "data": {
      "text/plain": [
       "array([179.0069301 , 163.71774688])"
      ]
     },
     "execution_count": 24,
     "metadata": {},
     "output_type": "execute_result"
    }
   ],
   "source": [
    "e_val"
   ]
  },
  {
   "cell_type": "code",
   "execution_count": 25,
   "metadata": {},
   "outputs": [],
   "source": [
    "e_vec=e_vectors[:,:2]"
   ]
  },
  {
   "cell_type": "code",
   "execution_count": 26,
   "metadata": {},
   "outputs": [
    {
     "data": {
      "text/plain": [
       "(64, 2)"
      ]
     },
     "execution_count": 26,
     "metadata": {},
     "output_type": "execute_result"
    }
   ],
   "source": [
    "e_vec.shape"
   ]
  },
  {
   "cell_type": "markdown",
   "metadata": {},
   "source": [
    "#### Task 3: Perform the dimensionality reduction to get lower dimension data by multiplying data matrix with first num_of_component components eigen_vectors matrix"
   ]
  },
  {
   "cell_type": "code",
   "execution_count": 27,
   "metadata": {},
   "outputs": [],
   "source": [
    "num_of_components=2"
   ]
  },
  {
   "cell_type": "code",
   "execution_count": 28,
   "metadata": {},
   "outputs": [],
   "source": [
    "reduced_data_2d=np.dot(data,e_vec)"
   ]
  },
  {
   "cell_type": "code",
   "execution_count": 29,
   "metadata": {},
   "outputs": [
    {
     "data": {
      "text/plain": [
       "(1797, 2)"
      ]
     },
     "execution_count": 29,
     "metadata": {},
     "output_type": "execute_result"
    }
   ],
   "source": [
    "reduced_data_2d.shape"
   ]
  },
  {
   "cell_type": "markdown",
   "metadata": {},
   "source": [
    "#### Task 4: Visualize the lower dimensional data"
   ]
  },
  {
   "cell_type": "code",
   "execution_count": 30,
   "metadata": {},
   "outputs": [],
   "source": [
    "data_df=pd.DataFrame(data=reduced_data_2d, columns=(\"PCA1\", \"PCA2\"))"
   ]
  },
  {
   "cell_type": "code",
   "execution_count": 31,
   "metadata": {},
   "outputs": [],
   "source": [
    "data_df['target']=mnist.target.reshape(len(mnist.target),-1)"
   ]
  },
  {
   "cell_type": "code",
   "execution_count": 32,
   "metadata": {},
   "outputs": [
    {
     "data": {
      "text/html": [
       "<div>\n",
       "<style scoped>\n",
       "    .dataframe tbody tr th:only-of-type {\n",
       "        vertical-align: middle;\n",
       "    }\n",
       "\n",
       "    .dataframe tbody tr th {\n",
       "        vertical-align: top;\n",
       "    }\n",
       "\n",
       "    .dataframe thead th {\n",
       "        text-align: right;\n",
       "    }\n",
       "</style>\n",
       "<table border=\"1\" class=\"dataframe\">\n",
       "  <thead>\n",
       "    <tr style=\"text-align: right;\">\n",
       "      <th></th>\n",
       "      <th>PCA1</th>\n",
       "      <th>PCA2</th>\n",
       "      <th>target</th>\n",
       "    </tr>\n",
       "  </thead>\n",
       "  <tbody>\n",
       "    <tr>\n",
       "      <th>0</th>\n",
       "      <td>-0.928679</td>\n",
       "      <td>19.554616</td>\n",
       "      <td>0</td>\n",
       "    </tr>\n",
       "    <tr>\n",
       "      <th>1</th>\n",
       "      <td>8.288399</td>\n",
       "      <td>-22.488966</td>\n",
       "      <td>1</td>\n",
       "    </tr>\n",
       "    <tr>\n",
       "      <th>2</th>\n",
       "      <td>7.322710</td>\n",
       "      <td>-11.676253</td>\n",
       "      <td>2</td>\n",
       "    </tr>\n",
       "    <tr>\n",
       "      <th>3</th>\n",
       "      <td>-15.575318</td>\n",
       "      <td>1.612197</td>\n",
       "      <td>3</td>\n",
       "    </tr>\n",
       "    <tr>\n",
       "      <th>4</th>\n",
       "      <td>23.637655</td>\n",
       "      <td>2.548794</td>\n",
       "      <td>4</td>\n",
       "    </tr>\n",
       "  </tbody>\n",
       "</table>\n",
       "</div>"
      ],
      "text/plain": [
       "        PCA1       PCA2  target\n",
       "0  -0.928679  19.554616       0\n",
       "1   8.288399 -22.488966       1\n",
       "2   7.322710 -11.676253       2\n",
       "3 -15.575318   1.612197       3\n",
       "4  23.637655   2.548794       4"
      ]
     },
     "execution_count": 32,
     "metadata": {},
     "output_type": "execute_result"
    }
   ],
   "source": [
    "data_df.head()"
   ]
  },
  {
   "cell_type": "code",
   "execution_count": 33,
   "metadata": {},
   "outputs": [
    {
     "data": {
      "image/png": "[encoded data removed]",
      "text/plain": [
       "<Figure size 720x576 with 1 Axes>"
      ]
     },
     "metadata": {
      "needs_background": "light"
     },
     "output_type": "display_data"
    }
   ],
   "source": [
    "plt.figure(figsize=(10,8))\n",
    "for l in set(mnist.target):\n",
    "    plt.scatter(data_df[data_df.target==l][\"PCA1\"],data_df[data_df.target==l][\"PCA2\"],label=l)\n",
    "    \n",
    "plt.xlabel(\"PCA1\")\n",
    "plt.ylabel(\"PCA2\")\n",
    "plt.title(\"Scatter plot for MNIST Dataset reduced into 2 features\")\n",
    "plt.legend()\n",
    "plt.show()"
   ]
  },
  {
   "cell_type": "markdown",
   "metadata": {},
   "source": [
    "#### Task 5. Find the num_of_component according to the variance explained of the eigen value\n",
    ".\n",
    "* Calculate the variance explained by each eigen value as  $$ explained\\_variance[i] =  \\frac{ eigen\\_values[i]}{\\sum_{j=1}^{N} eigen\\_values[j]} $$\n",
    "* Calculate the total variance explained by the first K eigen value using:  $$ total\\_variance[K] = \\sum_{i=1}^{K} explained\\_variance[i] $$\n",
    "* N = Number of eigen value i.e 64 and K is number of eigen values that varies from 1 to N\n",
    "* For graph plotting\n",
    "  * Do line plot where K value in X-axis, total_variance[K] value in Y-axis  \n",
    "    using parameter marker='o', linestyle='--', color='b'\n",
    "  * Put Proper x-label, y-label and title in the graph\n",
    "  * Show vertical grid line in the graph\n",
    "  * Plot one horizontal red color line at the choosen threshold level. \n",
    "  * Write down the conclusion that you get from the graph\n"
   ]
  },
  {
   "cell_type": "code",
   "execution_count": 34,
   "metadata": {},
   "outputs": [],
   "source": [
    "explained_variance=[]\n",
    "total_variance=[]\n",
    "e_values_sum=sum(e_values)\n",
    "for k in range(0,64):\n",
    "    e_variance=e_values[k]/e_values_sum\n",
    "    explained_variance.append(e_variance)\n",
    "    t_variance=sum(explained_variance[:k])\n",
    "    total_variance.append(t_variance)   "
   ]
  },
  {
   "cell_type": "code",
   "execution_count": 35,
   "metadata": {},
   "outputs": [],
   "source": [
    "K=np.arange(1,65,1)"
   ]
  },
  {
   "cell_type": "code",
   "execution_count": 36,
   "metadata": {},
   "outputs": [
    {
     "data": {
      "image/png": "[encoded data removed]",
      "text/plain": [
       "<Figure size 1080x576 with 1 Axes>"
      ]
     },
     "metadata": {
      "needs_background": "light"
     },
     "output_type": "display_data"
    }
   ],
   "source": [
    "plt.figure(figsize=(15,8))\n",
    "plt.plot(K,total_variance)\n",
    "plt.hlines(y=0.90, xmin=1, xmax=64, colors='r', linestyles='--')\n",
    "plt.xlabel(\"Number of Features (K)\")\n",
    "plt.ylabel(\"Total Variance[K]\")\n",
    "plt.title(\"Number of features vs Total Variance\")\n",
    "plt.grid()\n",
    "plt.show()"
   ]
  },
  {
   "cell_type": "markdown",
   "metadata": {},
   "source": [
    "From above graph, it is clear that nearly 22 features are sufficient to cover 90% variance in the dataset. So, we can choose 22 features for further operations."
   ]
  }
 ],
 "metadata": {
  "kernelspec": {
   "display_name": "Python 3",
   "language": "python",
   "name": "python3"
  },
  "language_info": {
   "codemirror_mode": {
    "name": "ipython",
    "version": 3
   },
   "file_extension": ".py",
   "mimetype": "text/x-python",
   "name": "python",
   "nbconvert_exporter": "python",
   "pygments_lexer": "ipython3",
   "version": "3.6.9"
  }
 },
 "nbformat": 4,
 "nbformat_minor": 4
}
