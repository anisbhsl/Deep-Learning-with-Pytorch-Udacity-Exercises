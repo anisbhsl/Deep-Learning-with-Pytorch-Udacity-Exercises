{
 "cells": [
  {
   "cell_type": "markdown",
   "metadata": {},
   "source": [
    "## Sentiment Analysis Using Naive Bayes"
   ]
  },
  {
   "cell_type": "code",
   "execution_count": 206,
   "metadata": {},
   "outputs": [],
   "source": [
    "#load necessary libraries\n",
    "import math\n",
    "import pandas as pd\n",
    "import numpy as np\n",
    "import matplotlib.pyplot as plt\n",
    "%matplotlib inline"
   ]
  },
  {
   "cell_type": "code",
   "execution_count": 2,
   "metadata": {},
   "outputs": [
    {
     "data": {
      "text/html": [
       "<div>\n",
       "<style scoped>\n",
       "    .dataframe tbody tr th:only-of-type {\n",
       "        vertical-align: middle;\n",
       "    }\n",
       "\n",
       "    .dataframe tbody tr th {\n",
       "        vertical-align: top;\n",
       "    }\n",
       "\n",
       "    .dataframe thead th {\n",
       "        text-align: right;\n",
       "    }\n",
       "</style>\n",
       "<table border=\"1\" class=\"dataframe\">\n",
       "  <thead>\n",
       "    <tr style=\"text-align: right;\">\n",
       "      <th></th>\n",
       "      <th>Phrase</th>\n",
       "      <th>label</th>\n",
       "    </tr>\n",
       "  </thead>\n",
       "  <tbody>\n",
       "    <tr>\n",
       "      <th>0</th>\n",
       "      <td>Spider-man is better than any summer blockbust...</td>\n",
       "      <td>Positive</td>\n",
       "    </tr>\n",
       "    <tr>\n",
       "      <th>1</th>\n",
       "      <td>of good sense</td>\n",
       "      <td>Positive</td>\n",
       "    </tr>\n",
       "    <tr>\n",
       "      <th>2</th>\n",
       "      <td>, then knock yourself out and enjoy the big sc...</td>\n",
       "      <td>Negative</td>\n",
       "    </tr>\n",
       "    <tr>\n",
       "      <th>3</th>\n",
       "      <td>So could young romantics out on a date .</td>\n",
       "      <td>Positive</td>\n",
       "    </tr>\n",
       "    <tr>\n",
       "      <th>4</th>\n",
       "      <td>humour</td>\n",
       "      <td>Positive</td>\n",
       "    </tr>\n",
       "  </tbody>\n",
       "</table>\n",
       "</div>"
      ],
      "text/plain": [
       "                                              Phrase     label\n",
       "0  Spider-man is better than any summer blockbust...  Positive\n",
       "1                                      of good sense  Positive\n",
       "2  , then knock yourself out and enjoy the big sc...  Negative\n",
       "3           So could young romantics out on a date .  Positive\n",
       "4                                             humour  Positive"
      ]
     },
     "execution_count": 2,
     "metadata": {},
     "output_type": "execute_result"
    }
   ],
   "source": [
    "#Read Dataset\n",
    "df=pd.read_csv(\"sentiment.csv\")\n",
    "df.head()"
   ]
  },
  {
   "cell_type": "code",
   "execution_count": 3,
   "metadata": {},
   "outputs": [
    {
     "data": {
      "text/plain": [
       "(2800, 2)"
      ]
     },
     "execution_count": 3,
     "metadata": {},
     "output_type": "execute_result"
    }
   ],
   "source": [
    "df.shape"
   ]
  },
  {
   "cell_type": "code",
   "execution_count": 4,
   "metadata": {},
   "outputs": [
    {
     "data": {
      "text/plain": [
       "1800"
      ]
     },
     "execution_count": 4,
     "metadata": {},
     "output_type": "execute_result"
    }
   ],
   "source": [
    "len(df[df['label']=='Positive']) #total number of positive class"
   ]
  },
  {
   "cell_type": "code",
   "execution_count": 5,
   "metadata": {},
   "outputs": [
    {
     "data": {
      "text/plain": [
       "1000"
      ]
     },
     "execution_count": 5,
     "metadata": {},
     "output_type": "execute_result"
    }
   ],
   "source": [
    "len(df[df['label']=='Negative']) #total number of negative class"
   ]
  },
  {
   "cell_type": "code",
   "execution_count": 6,
   "metadata": {},
   "outputs": [
    {
     "data": {
      "image/png": "[encoded data removed]",
      "text/plain": [
       "<Figure size 432x288 with 1 Axes>"
      ]
     },
     "metadata": {},
     "output_type": "display_data"
    }
   ],
   "source": [
    "plt.pie(x=[len(df[df['label']=='Positive']),len(df[df['label']=='Negative'])],labels=[\"Positive Class\",\"Negative Class\"])\n",
    "plt.legend()\n",
    "plt.show()"
   ]
  },
  {
   "cell_type": "markdown",
   "metadata": {},
   "source": [
    "The number of positive class is quite larger than number of negative class examples. "
   ]
  },
  {
   "cell_type": "markdown",
   "metadata": {},
   "source": [
    "## Data Cleaning "
   ]
  },
  {
   "cell_type": "code",
   "execution_count": 69,
   "metadata": {},
   "outputs": [],
   "source": [
    "new_df=df.copy()"
   ]
  },
  {
   "cell_type": "markdown",
   "metadata": {},
   "source": [
    "**Clean comma, dot, exclamation symbols from the dataset**"
   ]
  },
  {
   "cell_type": "code",
   "execution_count": 70,
   "metadata": {},
   "outputs": [],
   "source": [
    "import re\n",
    "def clean_phrase(dataset):\n",
    "    return re.sub(\"[^a-z\\s']+\",\" \",dataset, flags=re.IGNORECASE)\n",
    "new_df['Phrase']=new_df['Phrase'].apply(clean_phrase)"
   ]
  },
  {
   "cell_type": "markdown",
   "metadata": {},
   "source": [
    "**Encode Labels- Positive =1 and Negative = 0**"
   ]
  },
  {
   "cell_type": "code",
   "execution_count": 71,
   "metadata": {},
   "outputs": [],
   "source": [
    "def encode_labels(dataset):\n",
    "    if dataset==\"Positive\":\n",
    "        dataset=1\n",
    "    elif dataset==\"Negative\":\n",
    "        dataset=0\n",
    "    return dataset \n",
    "\n",
    "new_df['label']=new_df['label'].apply(encode_labels)"
   ]
  },
  {
   "cell_type": "code",
   "execution_count": 72,
   "metadata": {},
   "outputs": [
    {
     "data": {
      "text/html": [
       "<div>\n",
       "<style scoped>\n",
       "    .dataframe tbody tr th:only-of-type {\n",
       "        vertical-align: middle;\n",
       "    }\n",
       "\n",
       "    .dataframe tbody tr th {\n",
       "        vertical-align: top;\n",
       "    }\n",
       "\n",
       "    .dataframe thead th {\n",
       "        text-align: right;\n",
       "    }\n",
       "</style>\n",
       "<table border=\"1\" class=\"dataframe\">\n",
       "  <thead>\n",
       "    <tr style=\"text-align: right;\">\n",
       "      <th></th>\n",
       "      <th>Phrase</th>\n",
       "      <th>label</th>\n",
       "    </tr>\n",
       "  </thead>\n",
       "  <tbody>\n",
       "    <tr>\n",
       "      <th>0</th>\n",
       "      <td>Spider man is better than any summer blockbust...</td>\n",
       "      <td>1</td>\n",
       "    </tr>\n",
       "    <tr>\n",
       "      <th>1</th>\n",
       "      <td>of good sense</td>\n",
       "      <td>1</td>\n",
       "    </tr>\n",
       "    <tr>\n",
       "      <th>2</th>\n",
       "      <td>then knock yourself out and enjoy the big sc...</td>\n",
       "      <td>0</td>\n",
       "    </tr>\n",
       "    <tr>\n",
       "      <th>3</th>\n",
       "      <td>So could young romantics out on a date</td>\n",
       "      <td>1</td>\n",
       "    </tr>\n",
       "    <tr>\n",
       "      <th>4</th>\n",
       "      <td>humour</td>\n",
       "      <td>1</td>\n",
       "    </tr>\n",
       "  </tbody>\n",
       "</table>\n",
       "</div>"
      ],
      "text/plain": [
       "                                              Phrase  label\n",
       "0  Spider man is better than any summer blockbust...      1\n",
       "1                                      of good sense      1\n",
       "2    then knock yourself out and enjoy the big sc...      0\n",
       "3           So could young romantics out on a date        1\n",
       "4                                             humour      1"
      ]
     },
     "execution_count": 72,
     "metadata": {},
     "output_type": "execute_result"
    }
   ],
   "source": [
    "new_df.head()"
   ]
  },
  {
   "cell_type": "markdown",
   "metadata": {},
   "source": [
    "**Split dataset into train, val and test set**"
   ]
  },
  {
   "cell_type": "code",
   "execution_count": 73,
   "metadata": {},
   "outputs": [
    {
     "name": "stdout",
     "output_type": "stream",
     "text": [
      "total=> 2800 train_len=> 1680 test_len =>1120\n"
     ]
    }
   ],
   "source": [
    "total_len=len(new_df)\n",
    "train_len=int(0.6*total_len)\n",
    "test_len=int(0.4*total_len)\n",
    "print(\"total=> {} train_len=> {} test_len =>{}\".format(total_len,train_len,test_len))"
   ]
  },
  {
   "cell_type": "code",
   "execution_count": 74,
   "metadata": {},
   "outputs": [],
   "source": [
    "train_df=new_df[0:train_len]\n",
    "test_df=new_df[train_len:]"
   ]
  },
  {
   "cell_type": "code",
   "execution_count": 75,
   "metadata": {},
   "outputs": [
    {
     "name": "stdout",
     "output_type": "stream",
     "text": [
      "Length of train dataset and test dataset\n",
      "train_df_len=> 1680 test_df_len =>1120\n"
     ]
    }
   ],
   "source": [
    "print(\"Length of train dataset and test dataset\")\n",
    "print(\"train_df_len=> {} test_df_len =>{}\".format(len(train_df),len(test_df)))"
   ]
  },
  {
   "cell_type": "code",
   "execution_count": 76,
   "metadata": {},
   "outputs": [],
   "source": [
    "vocab=list()\n",
    "#create a corpus of vocab\n",
    "for i in train_df.Phrase.tolist():\n",
    "    vocab.extend(i.split(\" \"))\n",
    "    \n",
    "#take unique words from vocab   \n",
    "unique_vocab=list(set(vocab)) #set can't be indexed so change it to list for simplicity    "
   ]
  },
  {
   "cell_type": "code",
   "execution_count": 77,
   "metadata": {},
   "outputs": [
    {
     "name": "stdout",
     "output_type": "stream",
     "text": [
      "Vocab Length => 15136 Unique Vocab Length => 1842\n"
     ]
    }
   ],
   "source": [
    "print(\"Vocab Length => {} Unique Vocab Length => {}\".format(len(vocab),len(unique_vocab)))"
   ]
  },
  {
   "cell_type": "markdown",
   "metadata": {},
   "source": [
    "**Calculating Class Priors**\n"
   ]
  },
  {
   "cell_type": "code",
   "execution_count": 224,
   "metadata": {},
   "outputs": [
    {
     "data": {
      "text/plain": [
       "1    0.646429\n",
       "0    0.353571\n",
       "Name: label, dtype: float64"
      ]
     },
     "execution_count": 224,
     "metadata": {},
     "output_type": "execute_result"
    }
   ],
   "source": [
    "class_priors=train_df['label'].value_counts(normalize=True)#.to_dict()\n",
    "class_priors"
   ]
  },
  {
   "cell_type": "markdown",
   "metadata": {},
   "source": [
    "*Get Class 0 [Negative] words from Phrases*"
   ]
  },
  {
   "cell_type": "code",
   "execution_count": 225,
   "metadata": {},
   "outputs": [],
   "source": [
    "class_0_words=[]\n",
    "for sentence in train_df[train_df['label']==0]['Phrase']:\n",
    "    word_list=sentence.lower().split(\" \")\n",
    "    new_word_list=[]\n",
    "    for w in word_list:\n",
    "        if w!='':\n",
    "            new_word_list.append(w)   \n",
    "    class_0_words.extend(new_word_list)"
   ]
  },
  {
   "cell_type": "markdown",
   "metadata": {},
   "source": [
    "*Get Class 1 [Positive] words from Phrases*"
   ]
  },
  {
   "cell_type": "code",
   "execution_count": 226,
   "metadata": {},
   "outputs": [],
   "source": [
    "class_1_words=[]\n",
    "for sentence in train_df[train_df['label']==1]['Phrase']:\n",
    "    word_list=sentence.lower().split(\" \")\n",
    "    new_word_list=[]\n",
    "    for w in word_list:\n",
    "        if w!='':\n",
    "            new_word_list.append(w)   \n",
    "    class_1_words.extend(new_word_list)"
   ]
  },
  {
   "cell_type": "code",
   "execution_count": 227,
   "metadata": {},
   "outputs": [],
   "source": [
    "class_words={\n",
    "    0:class_0_words,\n",
    "    1:class_1_words\n",
    "}"
   ]
  },
  {
   "cell_type": "markdown",
   "metadata": {},
   "source": [
    "**Count occurence of word and find word probabilities for respective classes**\n",
    "\n",
    "\n",
    "\n",
    "P(Class | Text) = P(Text | Class) * P(Class) \n",
    "                = P(W1|Class)P(W2|Class)P(W3|Class)...P(Wn|Class)* P(Class)\n",
    "                \n",
    "                \n",
    "Also perform laplacian smoothing.                "
   ]
  },
  {
   "cell_type": "code",
   "execution_count": 228,
   "metadata": {},
   "outputs": [],
   "source": [
    "def count_occurence(word,word_list):\n",
    "    count=0\n",
    "    for w in word_list:\n",
    "        if word==w:\n",
    "            count+=1\n",
    "    return count   \n",
    "\n",
    "def get_word_probs_with_laplacian_smoothing(class_0_words,class_1_words,alpha,unique_vocab):\n",
    "    word_probs={\n",
    "        0:{},\n",
    "        1:{}\n",
    "    }\n",
    "    #Laplacian Smoothing \n",
    "    for word in unique_vocab:\n",
    "        word_probs[0][word]=((count_occurence(word,class_0_words) + alpha)/(len(class_0_words)+alpha*len(unique_vocab)))\n",
    "        word_probs[1][word]=((count_occurence(word,class_1_words) + alpha)/(len(class_1_words)+alpha*len(unique_vocab)))\n",
    "    \n",
    "    return word_probs\n"
   ]
  },
  {
   "cell_type": "markdown",
   "metadata": {},
   "source": [
    "## PREDICTION"
   ]
  },
  {
   "cell_type": "code",
   "execution_count": 344,
   "metadata": {},
   "outputs": [],
   "source": [
    "def predict(alpha,dataset): \n",
    "    word_probs=get_word_probs_with_laplacian_smoothing(class_0_words,class_1_words,alpha,unique_vocab)\n",
    "    predicted_class=[]\n",
    "    for phrase in dataset:\n",
    "        phraseArr=phrase.split(\" \")\n",
    "        prob_0_given_string=1\n",
    "        prob_1_given_string=1\n",
    "        for w in phraseArr:\n",
    "            try:\n",
    "                prob_0_given_string=prob_0_given_string*word_probs[0][w]\n",
    "                prob_1_given_string=prob_1_given_string*word_probs[1][w]\n",
    "            except Exception:\n",
    "                w_prob_class_0=((alpha/len(class_0_words)+alpha*len(unique_vocab)))\n",
    "                prob_0_given_string=prob_0_given_string*w_prob_class_0\n",
    "                w_prob_class_1=((alpha/len(class_1_words)+alpha*len(unique_vocab)))\n",
    "                prob_1_given_string=prob_1_given_string*w_prob_class_1\n",
    "            prob_0_given_string*=class_priors[0]\n",
    "            prob_1_given_string*=class_priors[1]\n",
    "           \n",
    "        if prob_1_given_string>prob_0_given_string:\n",
    "            predicted_class.append(1)\n",
    "        else:\n",
    "            predicted_class.append(0)    \n",
    "    \n",
    "    return predicted_class"
   ]
  },
  {
   "cell_type": "code",
   "execution_count": 349,
   "metadata": {},
   "outputs": [],
   "source": [
    "predictions=predict(1,test_df[\"Phrase\"])"
   ]
  },
  {
   "cell_type": "code",
   "execution_count": 350,
   "metadata": {},
   "outputs": [],
   "source": [
    "##confusion matrix\n",
    "def get_confusion_matrix(actual,predicted):\n",
    "    confusion_matrix=np.zeros((2,2))\n",
    "    for x,y in zip(actual,predicted):\n",
    "        confusion_matrix[x,y] +=1\n",
    "    return confusion_matrix"
   ]
  },
  {
   "cell_type": "code",
   "execution_count": 351,
   "metadata": {},
   "outputs": [
    {
     "data": {
      "text/plain": [
       "array([[233., 173.],\n",
       "       [ 29., 685.]])"
      ]
     },
     "execution_count": 351,
     "metadata": {},
     "output_type": "execute_result"
    }
   ],
   "source": [
    "confusion_matrix=get_confusion_matrix(test_df['label'],predictions)\n",
    "confusion_matrix"
   ]
  },
  {
   "cell_type": "code",
   "execution_count": 352,
   "metadata": {},
   "outputs": [
    {
     "data": {
      "text/plain": [
       "0.8196428571428571"
      ]
     },
     "execution_count": 352,
     "metadata": {},
     "output_type": "execute_result"
    }
   ],
   "source": [
    "##accuracy\n",
    "accuracy=(confusion_matrix[0][0]+confusion_matrix[1][1])/np.sum(confusion_matrix)\n",
    "accuracy"
   ]
  },
  {
   "cell_type": "code",
   "execution_count": 353,
   "metadata": {},
   "outputs": [
    {
     "data": {
      "text/plain": [
       "0.5738916256157636"
      ]
     },
     "execution_count": 353,
     "metadata": {},
     "output_type": "execute_result"
    }
   ],
   "source": [
    "##Recall= TP/(TP+FN)\n",
    "recall=(confusion_matrix[0][0])/(confusion_matrix[0][0]+confusion_matrix[0][1])\n",
    "recall"
   ]
  },
  {
   "cell_type": "code",
   "execution_count": 354,
   "metadata": {},
   "outputs": [
    {
     "data": {
      "text/plain": [
       "0.8893129770992366"
      ]
     },
     "execution_count": 354,
     "metadata": {},
     "output_type": "execute_result"
    }
   ],
   "source": [
    "##Precision= TP/(TP+FP) is fraction of +ve examples classifier classified as +ve that are actually +ve\n",
    "precision=(confusion_matrix[0][0])/(confusion_matrix[0][0]+confusion_matrix[1][0])\n",
    "precision"
   ]
  },
  {
   "cell_type": "code",
   "execution_count": 355,
   "metadata": {},
   "outputs": [
    {
     "data": {
      "text/plain": [
       "0.6976047904191617"
      ]
     },
     "execution_count": 355,
     "metadata": {},
     "output_type": "execute_result"
    }
   ],
   "source": [
    "##F1-Score\n",
    "f1_score=(2*recall*precision)/(recall+precision)\n",
    "f1_score"
   ]
  },
  {
   "cell_type": "markdown",
   "metadata": {},
   "source": [
    "**ROC Curve**\n",
    "\n",
    "ROC(Receiver Operating Characteristics) Curve is a TPR vs FPR plot at different threshold levels "
   ]
  },
  {
   "cell_type": "markdown",
   "metadata": {},
   "source": [
    "*Treating alpha as a hyperparameter, ROC plot is shown for Naive Bayes analysis. Alpha is varied from 1 to 100*"
   ]
  },
  {
   "cell_type": "code",
   "execution_count": 356,
   "metadata": {},
   "outputs": [],
   "source": [
    "TPR=[]\n",
    "FPR=[]\n",
    "for alpha in np.arange(1,100,1):\n",
    "    predictions=predict(alpha,test_df[\"Phrase\"])\n",
    "    confusion_matrix=get_confusion_matrix(test_df[\"label\"],predictions)\n",
    "    true_pos_rate=(confusion_matrix[0][0])/(confusion_matrix[0][0]+confusion_matrix[0][1])\n",
    "    false_pos_rate=(confusion_matrix[1][0])/(confusion_matrix[1][0]+confusion_matrix[1][1])\n",
    "    TPR.append(true_pos_rate)\n",
    "    FPR.append(false_pos_rate)"
   ]
  },
  {
   "cell_type": "code",
   "execution_count": 357,
   "metadata": {},
   "outputs": [
    {
     "data": {
      "image/png": "[encoded data removed]",
      "text/plain": [
       "<Figure size 432x288 with 1 Axes>"
      ]
     },
     "metadata": {
      "needs_background": "light"
     },
     "output_type": "display_data"
    }
   ],
   "source": [
    "base=np.arange(0,1,0.1)\n",
    "plt.plot(FPR,TPR,linestyle='--',label='ROC Curve')\n",
    "plt.plot(base,base,label='Base Line')\n",
    "plt.xlabel('False Positive Rate')\n",
    "plt.ylabel('True Positive Rate')\n",
    "plt.legend()\n",
    "plt.grid()\n",
    "plt.show()"
   ]
  }
 ],
 "metadata": {
  "kernelspec": {
   "display_name": "Python 3",
   "language": "python",
   "name": "python3"
  },
  "language_info": {
   "codemirror_mode": {
    "name": "ipython",
    "version": 3
   },
   "file_extension": ".py",
   "mimetype": "text/x-python",
   "name": "python",
   "nbconvert_exporter": "python",
   "pygments_lexer": "ipython3",
   "version": "3.6.9"
  }
 },
 "nbformat": 4,
 "nbformat_minor": 4
}
